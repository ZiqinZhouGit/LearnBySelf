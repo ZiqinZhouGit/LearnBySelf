{
 "cells": [
  {
   "cell_type": "code",
   "execution_count": 16,
   "metadata": {
    "collapsed": true
   },
   "outputs": [],
   "source": [
    "import datetime as dt\n",
    "import matplotlib.pyplot as plt\n",
    "import pandas as pd\n",
    "import pandas_datareader as pdr\n",
    "import matplotlib.dates as mdates\n",
    "from matplotlib import style\n",
    "from mpl_finance import candlestick_ohlc\n",
    "style.use('ggplot')"
   ]
  },
  {
   "cell_type": "code",
   "execution_count": 24,
   "metadata": {
    "collapsed": true
   },
   "outputs": [],
   "source": [
    "info = pd.read_csv('tsla.csv', parse_dates=True, index_col=0)"
   ]
  },
  {
   "cell_type": "code",
   "execution_count": 25,
   "metadata": {},
   "outputs": [
    {
     "data": {
      "text/html": [
       "<div>\n",
       "<table border=\"1\" class=\"dataframe\">\n",
       "  <thead>\n",
       "    <tr style=\"text-align: right;\">\n",
       "      <th></th>\n",
       "      <th>Open</th>\n",
       "      <th>High</th>\n",
       "      <th>Low</th>\n",
       "      <th>Close</th>\n",
       "      <th>Adj Close</th>\n",
       "      <th>Volume</th>\n",
       "    </tr>\n",
       "    <tr>\n",
       "      <th>Date</th>\n",
       "      <th></th>\n",
       "      <th></th>\n",
       "      <th></th>\n",
       "      <th></th>\n",
       "      <th></th>\n",
       "      <th></th>\n",
       "    </tr>\n",
       "  </thead>\n",
       "  <tbody>\n",
       "    <tr>\n",
       "      <th>2014-12-31</th>\n",
       "      <td>223.089996</td>\n",
       "      <td>225.679993</td>\n",
       "      <td>222.250000</td>\n",
       "      <td>222.410004</td>\n",
       "      <td>222.410004</td>\n",
       "      <td>2402100</td>\n",
       "    </tr>\n",
       "    <tr>\n",
       "      <th>2015-01-02</th>\n",
       "      <td>222.869995</td>\n",
       "      <td>223.250000</td>\n",
       "      <td>213.259995</td>\n",
       "      <td>219.309998</td>\n",
       "      <td>219.309998</td>\n",
       "      <td>4764400</td>\n",
       "    </tr>\n",
       "    <tr>\n",
       "      <th>2015-01-05</th>\n",
       "      <td>214.550003</td>\n",
       "      <td>216.500000</td>\n",
       "      <td>207.160004</td>\n",
       "      <td>210.089996</td>\n",
       "      <td>210.089996</td>\n",
       "      <td>5368500</td>\n",
       "    </tr>\n",
       "    <tr>\n",
       "      <th>2015-01-06</th>\n",
       "      <td>210.059998</td>\n",
       "      <td>214.199997</td>\n",
       "      <td>204.210007</td>\n",
       "      <td>211.279999</td>\n",
       "      <td>211.279999</td>\n",
       "      <td>6261900</td>\n",
       "    </tr>\n",
       "    <tr>\n",
       "      <th>2015-01-07</th>\n",
       "      <td>213.350006</td>\n",
       "      <td>214.779999</td>\n",
       "      <td>209.779999</td>\n",
       "      <td>210.949997</td>\n",
       "      <td>210.949997</td>\n",
       "      <td>2968400</td>\n",
       "    </tr>\n",
       "  </tbody>\n",
       "</table>\n",
       "</div>"
      ],
      "text/plain": [
       "                  Open        High         Low       Close   Adj Close  \\\n",
       "Date                                                                     \n",
       "2014-12-31  223.089996  225.679993  222.250000  222.410004  222.410004   \n",
       "2015-01-02  222.869995  223.250000  213.259995  219.309998  219.309998   \n",
       "2015-01-05  214.550003  216.500000  207.160004  210.089996  210.089996   \n",
       "2015-01-06  210.059998  214.199997  204.210007  211.279999  211.279999   \n",
       "2015-01-07  213.350006  214.779999  209.779999  210.949997  210.949997   \n",
       "\n",
       "             Volume  \n",
       "Date                 \n",
       "2014-12-31  2402100  \n",
       "2015-01-02  4764400  \n",
       "2015-01-05  5368500  \n",
       "2015-01-06  6261900  \n",
       "2015-01-07  2968400  "
      ]
     },
     "execution_count": 25,
     "metadata": {},
     "output_type": "execute_result"
    }
   ],
   "source": [
    "info.head()"
   ]
  },
  {
   "cell_type": "code",
   "execution_count": 26,
   "metadata": {
    "collapsed": true
   },
   "outputs": [],
   "source": [
    "info_ohlc = info.Close.resample('5D').ohlc()\n",
    "info_volume = info.Volume.resample('5D').sum()"
   ]
  },
  {
   "cell_type": "code",
   "execution_count": 27,
   "metadata": {},
   "outputs": [
    {
     "data": {
      "text/html": [
       "<div>\n",
       "<table border=\"1\" class=\"dataframe\">\n",
       "  <thead>\n",
       "    <tr style=\"text-align: right;\">\n",
       "      <th></th>\n",
       "      <th>open</th>\n",
       "      <th>high</th>\n",
       "      <th>low</th>\n",
       "      <th>close</th>\n",
       "    </tr>\n",
       "    <tr>\n",
       "      <th>Date</th>\n",
       "      <th></th>\n",
       "      <th></th>\n",
       "      <th></th>\n",
       "      <th></th>\n",
       "    </tr>\n",
       "  </thead>\n",
       "  <tbody>\n",
       "    <tr>\n",
       "      <th>2014-12-31</th>\n",
       "      <td>222.410004</td>\n",
       "      <td>222.410004</td>\n",
       "      <td>219.309998</td>\n",
       "      <td>219.309998</td>\n",
       "    </tr>\n",
       "    <tr>\n",
       "      <th>2015-01-05</th>\n",
       "      <td>210.089996</td>\n",
       "      <td>211.279999</td>\n",
       "      <td>206.660004</td>\n",
       "      <td>206.660004</td>\n",
       "    </tr>\n",
       "    <tr>\n",
       "      <th>2015-01-10</th>\n",
       "      <td>202.210007</td>\n",
       "      <td>204.250000</td>\n",
       "      <td>192.690002</td>\n",
       "      <td>192.690002</td>\n",
       "    </tr>\n",
       "    <tr>\n",
       "      <th>2015-01-15</th>\n",
       "      <td>191.869995</td>\n",
       "      <td>193.070007</td>\n",
       "      <td>191.869995</td>\n",
       "      <td>193.070007</td>\n",
       "    </tr>\n",
       "    <tr>\n",
       "      <th>2015-01-20</th>\n",
       "      <td>191.929993</td>\n",
       "      <td>201.619995</td>\n",
       "      <td>191.929993</td>\n",
       "      <td>201.289993</td>\n",
       "    </tr>\n",
       "  </tbody>\n",
       "</table>\n",
       "</div>"
      ],
      "text/plain": [
       "                  open        high         low       close\n",
       "Date                                                      \n",
       "2014-12-31  222.410004  222.410004  219.309998  219.309998\n",
       "2015-01-05  210.089996  211.279999  206.660004  206.660004\n",
       "2015-01-10  202.210007  204.250000  192.690002  192.690002\n",
       "2015-01-15  191.869995  193.070007  191.869995  193.070007\n",
       "2015-01-20  191.929993  201.619995  191.929993  201.289993"
      ]
     },
     "execution_count": 27,
     "metadata": {},
     "output_type": "execute_result"
    }
   ],
   "source": [
    "info_ohlc.head()"
   ]
  },
  {
   "cell_type": "code",
   "execution_count": 28,
   "metadata": {
    "collapsed": true
   },
   "outputs": [],
   "source": [
    "info_ohlc.reset_index(inplace=True)\n",
    "info_ohlc.Date = info_ohlc.Date.map(mdates.date2num)"
   ]
  },
  {
   "cell_type": "code",
   "execution_count": 29,
   "metadata": {
    "collapsed": true
   },
   "outputs": [],
   "source": [
    "ax_1 = plt.subplot2grid((6,1),(0,0), rowspan=5, colspan=1)\n",
    "ax_2 = plt.subplot2grid((6,1),(5,0), rowspan=1, colspan=1, sharex=ax_1)\n",
    "ax_1.xaxis_date()"
   ]
  },
  {
   "cell_type": "code",
   "execution_count": 30,
   "metadata": {},
   "outputs": [
    {
     "data": {
      "image/png": "[encoded data removed]",
      "text/plain": [
       "<matplotlib.figure.Figure at 0x11a2e7a90>"
      ]
     },
     "metadata": {},
     "output_type": "display_data"
    }
   ],
   "source": [
    "candlestick_ohlc(ax_1,info_ohlc.values, width=5, colorup='g')\n",
    "ax_2.fill_between(info_volume.index.map(mdates.date2num),info_volume.values, 0)\n",
    "plt.show()"
   ]
  },
  {
   "cell_type": "code",
   "execution_count": null,
   "metadata": {
    "collapsed": true
   },
   "outputs": [],
   "source": []
  }
 ],
 "metadata": {
  "kernelspec": {
   "display_name": "Python 3",
   "language": "python",
   "name": "python3"
  },
  "language_info": {
   "codemirror_mode": {
    "name": "ipython",
    "version": 3
   },
   "file_extension": ".py",
   "mimetype": "text/x-python",
   "name": "python",
   "nbconvert_exporter": "python",
   "pygments_lexer": "ipython3",
   "version": "3.6.1"
  }
 },
 "nbformat": 4,
 "nbformat_minor": 2
}
