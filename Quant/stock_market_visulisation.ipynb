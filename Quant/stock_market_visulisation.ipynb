{
 "cells": [
  {
   "cell_type": "code",
   "execution_count": 245,
   "metadata": {
    "collapsed": true
   },
   "outputs": [],
   "source": [
    "from lxml import html\n",
    "from selenium import webdriver\n",
    "from selenium.webdriver.chrome.options import Options\n",
    "from matplotlib.collections import LineCollection\n",
    "from sklearn import cluster, covariance, manifold\n",
    "\n",
    "import matplotlib.pyplot as plt\n",
    "import numpy as np\n",
    "import pickle\n",
    "import pandas_datareader as pdr\n",
    "import pandas as pd\n",
    "import datetime as dt\n",
    "import os"
   ]
  },
  {
   "cell_type": "markdown",
   "metadata": {},
   "source": [
    "## 1. Web crawler for the s&p500 companies list\n",
    "use selenium and xpath selector to scrape the s&p500 companies list,\n",
    "using Options() to avoid Chrome browser pop out."
   ]
  },
  {
   "cell_type": "code",
   "execution_count": 2,
   "metadata": {
    "collapsed": true
   },
   "outputs": [],
   "source": [
    "def save_500_list():\n",
    "    url = 'https://en.wikipedia.org/wiki/List_of_S%26P_500_companies'\n",
    "\n",
    "    ########## no web browser pop out ############\n",
    "    chrome_options = Options()\n",
    "    chrome_options.add_argument(\"--headless\")  \n",
    "    browser = webdriver.Chrome(chrome_options = chrome_options)\n",
    "    browser.get(url)\n",
    "\n",
    "    tree = html.fromstring(browser.page_source)\n",
    "    result = tree.xpath('//*[@id=\"mw-content-text\"]/div/table[1]/tbody/tr/td[1]/a[1]/text()')\n",
    "\n",
    "    browser.close()\n",
    "    \n",
    "    return result"
   ]
  },
  {
   "cell_type": "code",
   "execution_count": 3,
   "metadata": {},
   "outputs": [
    {
     "name": "stdout",
     "output_type": "stream",
     "text": [
      "['MMM', 'ABT', 'ABBV', 'ABMD', 'ACN', 'ATVI', 'AYI', 'ADBE', 'AMD', 'AAP']\n"
     ]
    }
   ],
   "source": [
    "names = save_500_list()\n",
    "print(names[:10])"
   ]
  },
  {
   "cell_type": "markdown",
   "metadata": {},
   "source": [
    "## 2. Store the companies list as a pickle file"
   ]
  },
  {
   "cell_type": "code",
   "execution_count": 4,
   "metadata": {
    "collapsed": true
   },
   "outputs": [],
   "source": [
    "with open('s&p500_tickers.pickle','wb') as file:\n",
    "    pickle.dump(names, file)"
   ]
  },
  {
   "cell_type": "markdown",
   "metadata": {},
   "source": [
    "## 3. Read the companies list from 's&p500_tickers.pickle' file, wait for download."
   ]
  },
  {
   "cell_type": "code",
   "execution_count": 5,
   "metadata": {
    "collapsed": true
   },
   "outputs": [],
   "source": [
    "start_time = dt.datetime(2015,1,1) \n",
    "end_time = dt.datetime(2016,12,31)\n",
    "\n",
    "with open('s&p500_tickers.pickle','rb') as file:\n",
    "    all_list = pickle.load(file)"
   ]
  },
  {
   "cell_type": "code",
   "execution_count": 6,
   "metadata": {
    "collapsed": true
   },
   "outputs": [],
   "source": [
    "if not os.path.exists('s&p500_data'):\n",
    "    os.makedirs('s&p500_data')"
   ]
  },
  {
   "cell_type": "markdown",
   "metadata": {},
   "source": [
    "## 4. Use a for loop to download first 100 cpmpanies data "
   ]
  },
  {
   "cell_type": "code",
   "execution_count": 7,
   "metadata": {
    "collapsed": true
   },
   "outputs": [],
   "source": [
    "def download_data():\n",
    "    for symbol in all_list[:100]:\n",
    "        if not os.path.exists('s&p500_data/{}.csv'.format(symbol)):\n",
    "            temp_data = pdr.DataReader(ticker, 'yahoo', start_time, end_time)\n",
    "            temp_data.to_csv('s&p500_data/{}.csv'.format(symbol))\n",
    "        else:\n",
    "            continue"
   ]
  },
  {
   "cell_type": "code",
   "execution_count": 8,
   "metadata": {
    "collapsed": true
   },
   "outputs": [],
   "source": [
    "download_data()"
   ]
  },
  {
   "cell_type": "markdown",
   "metadata": {},
   "source": [
    "## 5. Compile all data into one pandas dataframe"
   ]
  },
  {
   "cell_type": "code",
   "execution_count": 230,
   "metadata": {
    "collapsed": true
   },
   "outputs": [],
   "source": [
    "def compile_data():\n",
    "    main_df = pd.DataFrame()\n",
    "    \n",
    "    for count,symbol in enumerate(all_list[:100]):\n",
    "        temp_df = pd.read_csv('s&p500_data/{}.csv'.format(symbol))\n",
    "        temp_df.set_index('Date',inplace=True)\n",
    "        \n",
    "#         temp_df.drop(['High', 'Low', 'Close', 'Volume'], 1, inplace = True)\n",
    "#         temp_df = pd.DataFrame(temp_df['Adj Close'] - temp_df.Open, columns = {symbol})\n",
    "        temp_df.rename(columns = {'Adj Close': symbol}, inplace = True)\n",
    "        temp_df.drop(['Open','High', 'Low', 'Close', 'Volume'], 1, inplace = True)\n",
    "        \n",
    "        if main_df is None:\n",
    "            main_df = temp_df\n",
    "        else:\n",
    "            main_df = main_df.join(temp_df, how='outer')\n",
    "    if count%10 == 0:\n",
    "        print(count)\n",
    "    return main_df"
   ]
  },
  {
   "cell_type": "code",
   "execution_count": 231,
   "metadata": {},
   "outputs": [
    {
     "name": "stdout",
     "output_type": "stream",
     "text": [
      "                   MMM        ABT       ABBV       ABMD        ACN       ATVI  \\\n",
      "Date                                                                            \n",
      "2014-12-31  150.427399  41.626999  57.834881  38.060001  82.357475  19.563580   \n",
      "2015-01-02  150.189392  41.516052  58.232586  37.310001  81.924049  19.544163   \n",
      "2015-01-05  146.802200  41.525291  57.136696  37.070000  80.540825  19.272312   \n",
      "2015-01-06  145.236755  41.053726  56.853886  36.130001  79.959869  18.913078   \n",
      "2015-01-07  146.289551  41.386600  59.151722  37.279999  81.638191  18.505302   \n",
      "\n",
      "                   AYI       ADBE   AMD         AAP     ...             CPB  \\\n",
      "Date                                                    ...                   \n",
      "2014-12-31  138.711304  72.699997  2.67  158.376587     ...      150.427399   \n",
      "2015-01-02  138.523163  72.339996  2.67  157.660675     ...      150.189392   \n",
      "2015-01-05  135.195709  71.980003  2.66  155.582504     ...      146.802200   \n",
      "2015-01-06  133.502304  70.529999  2.63  155.473160     ...      145.236755   \n",
      "2015-01-07  135.869110  71.110001  2.58  158.814102     ...      146.289551   \n",
      "\n",
      "                   COF         CAH         KMX         CCL         CAT  \\\n",
      "Date                                                                     \n",
      "2014-12-31  150.427399  150.427399  150.427399  150.427399  150.427399   \n",
      "2015-01-02  150.189392  150.189392  150.189392  150.189392  150.189392   \n",
      "2015-01-05  146.802200  146.802200  146.802200  146.802200  146.802200   \n",
      "2015-01-06  145.236755  145.236755  145.236755  145.236755  145.236755   \n",
      "2015-01-07  146.289551  146.289551  146.289551  146.289551  146.289551   \n",
      "\n",
      "                  CBOE        CBRE         CBS        CELG  \n",
      "Date                                                        \n",
      "2014-12-31  150.427399  150.427399  150.427399  150.427399  \n",
      "2015-01-02  150.189392  150.189392  150.189392  150.189392  \n",
      "2015-01-05  146.802200  146.802200  146.802200  146.802200  \n",
      "2015-01-06  145.236755  145.236755  145.236755  145.236755  \n",
      "2015-01-07  146.289551  146.289551  146.289551  146.289551  \n",
      "\n",
      "[5 rows x 100 columns]\n"
     ]
    }
   ],
   "source": [
    "result_df = compile_data()\n",
    "print(result_df.head())\n",
    "# result_df.to_csv('s&p500_data.csv')"
   ]
  },
  {
   "cell_type": "code",
   "execution_count": 233,
   "metadata": {},
   "outputs": [
    {
     "data": {
      "text/plain": [
       "array([[ 150.427399,   41.626999,   57.834881, ...,  150.427399,\n",
       "         150.427399,  150.427399],\n",
       "       [ 150.189392,   41.516052,   58.232586, ...,  150.189392,\n",
       "         150.189392,  150.189392],\n",
       "       [ 146.8022  ,   41.525291,   57.136696, ...,  146.8022  ,\n",
       "         146.8022  ,  146.8022  ],\n",
       "       ..., \n",
       "       [ 171.798813,   36.997528,   59.038383, ...,  171.798813,\n",
       "         171.798813,  171.798813],\n",
       "       [ 172.117203,   37.084652,   59.474514, ...,  172.117203,\n",
       "         172.117203,  172.117203],\n",
       "       [ 172.271561,   37.18145 ,   59.370216, ...,  172.271561,\n",
       "         172.271561,  172.271561]])"
      ]
     },
     "execution_count": 233,
     "metadata": {},
     "output_type": "execute_result"
    }
   ],
   "source": [
    "# information = result_df.copy().as_matrix().T\n",
    "# information /= information.std(axis=0)\n",
    "information = result_df.copy().as_matrix()\n",
    "information"
   ]
  },
  {
   "cell_type": "code",
   "execution_count": 234,
   "metadata": {},
   "outputs": [
    {
     "data": {
      "text/plain": [
       "GraphLassoCV(alphas=4, assume_centered=False, cv=None, enet_tol=0.0001,\n",
       "       max_iter=100, mode='cd', n_jobs=1, n_refinements=4, tol=0.0001,\n",
       "       verbose=False)"
      ]
     },
     "execution_count": 234,
     "metadata": {},
     "output_type": "execute_result"
    }
   ],
   "source": [
    "edge_model = covariance.GraphLassoCV()\n",
    "edge_model.fit(information)"
   ]
  },
  {
   "cell_type": "code",
   "execution_count": 235,
   "metadata": {},
   "outputs": [
    {
     "name": "stdout",
     "output_type": "stream",
     "text": [
      "(100, 100)\n"
     ]
    }
   ],
   "source": [
    "print(edge_model.covariance_.shape)"
   ]
  },
  {
   "cell_type": "code",
   "execution_count": 236,
   "metadata": {
    "collapsed": true
   },
   "outputs": [],
   "source": [
    "_, labels = cluster.affinity_propagation(edge_model.covariance_)\n",
    "n_labels = labels.max()"
   ]
  },
  {
   "cell_type": "code",
   "execution_count": 237,
   "metadata": {},
   "outputs": [
    {
     "data": {
      "text/plain": [
       "100"
      ]
     },
     "execution_count": 237,
     "metadata": {},
     "output_type": "execute_result"
    }
   ],
   "source": [
    "len(labels)"
   ]
  },
  {
   "cell_type": "code",
   "execution_count": 238,
   "metadata": {},
   "outputs": [
    {
     "data": {
      "text/plain": [
       "array(['MMM', 'ABT', 'ABBV', 'ABMD', 'ACN', 'ATVI', 'AYI', 'ADBE', 'AMD',\n",
       "       'AAP', 'AES', 'AET', 'AMG', 'AFL', 'A', 'APD', 'AKAM', 'ALK', 'ALB',\n",
       "       'ARE', 'ALXN', 'ALGN', 'ALLE', 'AGN', 'ADS', 'LNT', 'ALL', 'GOOGL',\n",
       "       'GOOG', 'MO', 'AMZN', 'AEE', 'AAL', 'AEP', 'AXP', 'AIG', 'AMT',\n",
       "       'AWK', 'AMP', 'ABC', 'AME', 'AMGN', 'APH', 'APC', 'ADI', 'ANDV',\n",
       "       'ANSS', 'ANTM', 'AON', 'AOS', 'APA', 'AIV', 'AAPL', 'AMAT', 'APTV',\n",
       "       'ADM', 'ARNC', 'AJG', 'AIZ', 'T', 'ADSK', 'ADP', 'AZO', 'AVB',\n",
       "       'AVY', 'BHGE', 'BLL', 'BAC', 'BK', 'BAX', 'BBT', 'BDX', 'BRK.B',\n",
       "       'BBY', 'BIIB', 'BLK', 'HRB', 'BA', 'BKNG', 'BWA', 'BXP', 'BSX',\n",
       "       'BHF', 'BMY', 'AVGO', 'BF.B', 'CHRW', 'CA', 'COG', 'CDNS', 'CPB',\n",
       "       'COF', 'CAH', 'KMX', 'CCL', 'CAT', 'CBOE', 'CBRE', 'CBS', 'CELG'],\n",
       "      dtype='<U5')"
      ]
     },
     "execution_count": 238,
     "metadata": {},
     "output_type": "execute_result"
    }
   ],
   "source": [
    "symbols = np.array(names[:100])\n",
    "# list(labels)\n",
    "symbols"
   ]
  },
  {
   "cell_type": "code",
   "execution_count": 239,
   "metadata": {},
   "outputs": [
    {
     "name": "stdout",
     "output_type": "stream",
     "text": [
      "Cluster 1: ABT\n",
      "Cluster 2: ABBV\n",
      "Cluster 3: ATVI\n",
      "Cluster 4: MMM, ABMD, ACN, AYI, ADBE, ALB, ALGN, ALL, GOOGL, GOOG, MO, AMZN, AEE, AAL, AEP, AXP, AIG, AMT, AWK, AMP, ABC, AME, AMGN, APH, APC, ADI, ANDV, ANSS, ANTM, AON, AOS, APA, AIV, AAPL, AMAT, APTV, ADM, ARNC, AJG, AIZ, T, ADSK, ADP, AZO, AVB, AVY, BHGE, BLL, BAC, BK, BAX, BBT, BDX, BRK.B, BBY, BIIB, BLK, HRB, BA, BKNG, BWA, BXP, BSX, BHF, BMY, AVGO, BF.B, CHRW, CA, COG, CDNS, CPB, COF, CAH, KMX, CCL, CAT, CBOE, CBRE, CBS, CELG\n",
      "Cluster 5: AMD\n",
      "Cluster 6: AAP\n",
      "Cluster 7: AES\n",
      "Cluster 8: AET\n",
      "Cluster 9: AFL\n",
      "Cluster 10: A\n",
      "Cluster 11: APD\n",
      "Cluster 12: AKAM\n",
      "Cluster 13: ALK\n",
      "Cluster 14: ARE\n",
      "Cluster 15: ALLE\n",
      "Cluster 16: AMG, ALXN, AGN, ADS\n",
      "Cluster 17: LNT\n"
     ]
    }
   ],
   "source": [
    "for i in range(n_labels + 1):\n",
    "    print('Cluster %i: %s' % ((i + 1), ', '.join(symbols[labels == i])))"
   ]
  },
  {
   "cell_type": "code",
   "execution_count": 270,
   "metadata": {},
   "outputs": [],
   "source": [
    "node_position_model = manifold.LocallyLinearEmbedding()\n",
    "#     n_components=2, eigen_solver='dense', n_neighbors=6)\n",
    "embedding = node_position_model.fit_transform(information.T).T"
   ]
  },
  {
   "cell_type": "code",
   "execution_count": 271,
   "metadata": {},
   "outputs": [
    {
     "data": {
      "text/plain": [
       "array([ 0.01762984,  0.00878661, -0.13869611, -0.29057818, -0.26718422,\n",
       "        0.13894556,  0.01760083, -0.28952688,  0.41012424,  0.01758653,\n",
       "        0.33968296, -0.21801154,  0.01820418,  0.14063466,  0.03712568,\n",
       "       -0.14139569, -0.1236412 , -0.18188069, -0.26345053, -0.25777307,\n",
       "        0.01807502, -0.28895965, -0.18509385,  0.02019745,  0.01987033,\n",
       "        0.15018555,  0.01762984,  0.01762984,  0.01746149,  0.01746149,\n",
       "        0.01746149,  0.01746149,  0.01746149,  0.01746149,  0.01746149,\n",
       "        0.01746149,  0.01746149,  0.01746149,  0.01746149,  0.01746149,\n",
       "        0.01746149,  0.01746149,  0.01746149,  0.01746149,  0.01746149,\n",
       "        0.01746149,  0.01746149,  0.01746149,  0.01746149,  0.01746149,\n",
       "        0.01746149,  0.01746149,  0.01746149,  0.0174876 ,  0.01746149,\n",
       "        0.01748229,  0.01748215,  0.01748229,  0.01748229,  0.01746149,\n",
       "        0.01746149,  0.01746149,  0.01746149,  0.01746149,  0.01746149,\n",
       "        0.01746149,  0.01746149,  0.01746149,  0.01746149,  0.01746149,\n",
       "        0.01746149,  0.01746149,  0.01746149,  0.01746149,  0.01746149,\n",
       "        0.01746149,  0.01746149,  0.01746149,  0.01746149,  0.01746149,\n",
       "        0.01746149,  0.01746149,  0.01746149,  0.01746149,  0.01746149,\n",
       "        0.01746149,  0.01746149,  0.01746149,  0.01746149,  0.01746149,\n",
       "        0.01746149,  0.01746149,  0.01746149,  0.01746149,  0.01746149,\n",
       "        0.01746149,  0.01746149,  0.01716627,  0.01716627,  0.01699791])"
      ]
     },
     "execution_count": 271,
     "metadata": {},
     "output_type": "execute_result"
    }
   ],
   "source": [
    "embedding[1]"
   ]
  },
  {
   "cell_type": "code",
   "execution_count": 272,
   "metadata": {},
   "outputs": [
    {
     "data": {
      "text/plain": [
       "LocallyLinearEmbedding(eigen_solver='auto', hessian_tol=0.0001, max_iter=100,\n",
       "            method='standard', modified_tol=1e-12, n_components=2,\n",
       "            n_jobs=1, n_neighbors=5, neighbors_algorithm='auto',\n",
       "            random_state=None, reg=0.001, tol=1e-06)"
      ]
     },
     "execution_count": 272,
     "metadata": {},
     "output_type": "execute_result"
    }
   ],
   "source": [
    "node_position_model"
   ]
  },
  {
   "cell_type": "code",
   "execution_count": 422,
   "metadata": {},
   "outputs": [
    {
     "data": {
      "text/plain": [
       "array([[ 0.00703711,  0.        , -0.        , ..., -0.        ,\n",
       "        -0.        , -0.        ],\n",
       "       [ 0.        ,  0.09619979, -0.        , ...,  0.        ,\n",
       "         0.        ,  0.        ],\n",
       "       [-0.        , -0.        ,  0.05910411, ..., -0.        ,\n",
       "        -0.        , -0.        ],\n",
       "       ..., \n",
       "       [-0.        ,  0.        , -0.        , ...,  0.00703711,\n",
       "        -0.        , -0.        ],\n",
       "       [-0.        ,  0.        , -0.        , ..., -0.        ,\n",
       "         0.00703711, -0.        ],\n",
       "       [-0.        ,  0.        , -0.        , ..., -0.        ,\n",
       "        -0.        ,  0.00703711]])"
      ]
     },
     "execution_count": 422,
     "metadata": {},
     "output_type": "execute_result"
    }
   ],
   "source": [
    "edge_model.precision_"
   ]
  },
  {
   "cell_type": "code",
   "execution_count": 700,
   "metadata": {},
   "outputs": [
    {
     "name": "stdout",
     "output_type": "stream",
     "text": [
      "[ 0.0462379   0.38122852  0.11168884  0.14376092  0.12182333  0.18190545\n",
      "  0.07185812  0.0586939   0.17505534  0.08922577  0.14957041  0.08221371\n",
      "  0.39455033  0.16467293  0.27427992  0.25361891  0.09039398  0.19403901\n",
      "  0.04623782  0.04623782  0.04623782  0.04623782  0.04623782  0.04623782\n",
      "  0.04623782  0.04623782  0.04623782  0.04623782  0.04623782  0.04623782\n",
      "  0.04623782  0.04623782  0.04623782  0.04623782  0.04623782  0.04623782\n",
      "  0.04623782  0.04623782  0.04623782  0.04623782  0.04623782  0.04623782\n",
      "  0.04623782  0.04623782  0.04623782  0.04623782  0.04623782  0.04623782\n",
      "  0.04623782  0.04623782  0.04623782  0.04623782  0.04623782  0.04623782\n",
      "  0.04623782  0.04623782  0.04623782  0.04623782  0.04623782  0.04623782\n",
      "  0.04623782  0.04623782  0.04623782  0.04623782  0.04623782  0.04623782\n",
      "  0.04623782  0.04623782  0.04623782  0.04623782  0.04623782  0.04623782\n",
      "  0.04623782  0.04623782  0.04623782  0.04623782  0.04623782  0.04623782\n",
      "  0.04623782  0.04623782  0.04623782  0.04623782  0.04623782  0.04623782\n",
      "  0.04623782  0.04623782  0.04623782  0.04623782  0.04623782  0.04623782\n",
      "  0.04623782  0.04623782]\n"
     ]
    },
    {
     "data": {
      "image/png": "[encoded data removed]",
      "text/plain": [
       "<matplotlib.figure.Figure at 0x11b279ac8>"
      ]
     },
     "metadata": {},
     "output_type": "display_data"
    }
   ],
   "source": [
    "###############################################################################\n",
    "# Visualization\n",
    "plt.figure(1, facecolor='w', figsize=(10, 8))\n",
    "plt.clf()\n",
    "ax = plt.axes([0., 0., 1., 1.])\n",
    "# plt.axis('off')\n",
    "\n",
    "# Display a graph of the partial correlations\n",
    "partial_correlations = edge_model.precision_.copy()\n",
    "d = 1 / np.sqrt(np.diag(partial_correlations))\n",
    "partial_correlations *= d\n",
    "partial_correlations *= d[:, np.newaxis]\n",
    "non_zero = (np.abs(np.triu(partial_correlations, k=1)) > 0.02)\n",
    "\n",
    "# Plot the nodes using the coordinates of our embedding\n",
    "plt.scatter(embedding[0], embedding[1], c=labels)\n",
    "\n",
    "# Plot the edges\n",
    "start_idx, end_idx = np.where(non_zero)\n",
    "#a sequence of (*line0*, *line1*, *line2*), where::\n",
    "#            linen = (x0, y0), (x1, y1), ... (xm, ym)\n",
    "segments = [[embedding[:, start], embedding[:, stop]]\n",
    "            for start, stop in zip(start_idx, end_idx)]\n",
    "values = np.abs(partial_correlations[non_zero])\n",
    "lc = LineCollection(segments,\n",
    "                    zorder=0, cmap=plt.cm.hot_r)\n",
    "\n",
    "print(values)\n",
    "lc.set_array(values)\n",
    "# lc.set_linewidths(15 * values)\n",
    "ax.add_collection(lc)\n",
    "\n",
    "for index, (name, label, (x, y)) in enumerate(\n",
    "        zip(names, labels, embedding.T)):\n",
    "\n",
    "    dx = x - embedding[0]\n",
    "    dx[index] = 1\n",
    "    dy = y - embedding[1]\n",
    "    dy[index] = 1\n",
    "    this_dx = dx[np.argmin(np.abs(dy))]\n",
    "    this_dy = dy[np.argmin(np.abs(dx))]\n",
    "    if this_dx > 0:\n",
    "        horizontalalignment = 'left'\n",
    "        x = x + .002\n",
    "    else:\n",
    "        horizontalalignment = 'right'\n",
    "        x = x - .002\n",
    "    if this_dy > 0:\n",
    "        verticalalignment = 'bottom'\n",
    "        y = y + .002\n",
    "    else:\n",
    "        verticalalignment = 'top'\n",
    "        y = y - .002\n",
    "    plt.text(x, y, name, size=10,\n",
    "             horizontalalignment=horizontalalignment,\n",
    "             verticalalignment=verticalalignment,\n",
    "             bbox=dict(facecolor='y',\n",
    "                       edgecolor=plt.cm.spectral(label / float(n_labels)),\n",
    "                       alpha=.6))\n",
    "\n",
    "plt.xlim(embedding[0].min() - .15 * embedding[0].ptp(),\n",
    "         embedding[0].max() + .10 * embedding[0].ptp(),)\n",
    "plt.ylim(embedding[1].min() - .03 * embedding[1].ptp(),\n",
    "         embedding[1].max() + .03 * embedding[1].ptp())\n",
    "plt.show()"
   ]
  }
 ],
 "metadata": {
  "kernelspec": {
   "display_name": "Python 3",
   "language": "python",
   "name": "python3"
  },
  "language_info": {
   "codemirror_mode": {
    "name": "ipython",
    "version": 3
   },
   "file_extension": ".py",
   "mimetype": "text/x-python",
   "name": "python",
   "nbconvert_exporter": "python",
   "pygments_lexer": "ipython3",
   "version": "3.6.1"
  }
 },
 "nbformat": 4,
 "nbformat_minor": 2
}
