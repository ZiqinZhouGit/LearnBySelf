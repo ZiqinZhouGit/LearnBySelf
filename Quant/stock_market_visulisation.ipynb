{
 "cells": [
  {
   "cell_type": "code",
   "execution_count": 99,
   "metadata": {},
   "outputs": [],
   "source": [
    "from lxml import html\n",
    "from selenium import webdriver\n",
    "from selenium.webdriver.chrome.options import Options\n",
    "from matplotlib.collections import LineCollection\n",
    "from sklearn import cluster, covariance, manifold\n",
    "import pickle\n",
    "import pandas_datareader as pdr\n",
    "import pandas as pd\n",
    "import datetime as dt\n",
    "import os"
   ]
  },
  {
   "cell_type": "markdown",
   "metadata": {},
   "source": [
    "## 1. Web crawler for the s&p500 companies list\n",
    "use selenium and xpath selector to scrape the s&p500 companies list,\n",
    "using Options() to avoid Chrome browser pop out."
   ]
  },
  {
   "cell_type": "code",
   "execution_count": 27,
   "metadata": {},
   "outputs": [],
   "source": [
    "def save_500_list():\n",
    "    url = 'https://en.wikipedia.org/wiki/List_of_S%26P_500_companies'\n",
    "\n",
    "    ########## no web browser pop out ############\n",
    "    chrome_options = Options()\n",
    "    chrome_options.add_argument(\"--headless\")  \n",
    "    browser = webdriver.Chrome(chrome_options = chrome_options)\n",
    "    browser.get(url)\n",
    "\n",
    "    tree = html.fromstring(browser.page_source)\n",
    "    result = tree.xpath('//*[@id=\"mw-content-text\"]/div/table[1]/tbody/tr/td[1]/a[1]/text()')\n",
    "\n",
    "    browser.close()\n",
    "    \n",
    "    return result"
   ]
  },
  {
   "cell_type": "code",
   "execution_count": 28,
   "metadata": {},
   "outputs": [
    {
     "name": "stdout",
     "output_type": "stream",
     "text": [
      "['MMM', 'ABT', 'ABBV', 'ABMD', 'ACN', 'ATVI', 'AYI', 'ADBE', 'AMD', 'AAP']\n"
     ]
    }
   ],
   "source": [
    "names = save_500_list()\n",
    "print(names[:10])"
   ]
  },
  {
   "cell_type": "markdown",
   "metadata": {},
   "source": [
    "## 2. Store the companies list as a pickle file"
   ]
  },
  {
   "cell_type": "code",
   "execution_count": 18,
   "metadata": {
    "collapsed": true
   },
   "outputs": [],
   "source": [
    "with open('s&p500_tickers.pickle','wb') as file:\n",
    "    pickle.dump(names, file)"
   ]
  },
  {
   "cell_type": "markdown",
   "metadata": {},
   "source": [
    "## 3. Read the companies list from 's&p500_tickers.pickle' file, wait for download."
   ]
  },
  {
   "cell_type": "code",
   "execution_count": 71,
   "metadata": {},
   "outputs": [],
   "source": [
    "start_time = dt.datetime(2015,1,1) \n",
    "end_time = dt.datetime(2016,12,31)\n",
    "\n",
    "with open('s&p500_tickers.pickle','rb') as file:\n",
    "    all_list = pickle.load(file)"
   ]
  },
  {
   "cell_type": "code",
   "execution_count": 31,
   "metadata": {},
   "outputs": [],
   "source": [
    "if not os.path.exists('s&p500_data'):\n",
    "    os.makedirs('s&p500_data')"
   ]
  },
  {
   "cell_type": "markdown",
   "metadata": {},
   "source": [
    "## 4. Use a for loop to download first 100 cpmpanies data "
   ]
  },
  {
   "cell_type": "code",
   "execution_count": 69,
   "metadata": {},
   "outputs": [],
   "source": [
    "def download_data():\n",
    "    for symbol in all_list[:100]:\n",
    "        if not os.path.exists('s&p500_data/{}.csv'.format(symbol)):\n",
    "            temp_data = pdr.DataReader(ticker, 'yahoo', start_time, end_time)\n",
    "            temp_data.to_csv('s&p500_data/{}.csv'.format(symbol))\n",
    "        else:\n",
    "            continue"
   ]
  },
  {
   "cell_type": "code",
   "execution_count": 70,
   "metadata": {
    "collapsed": true
   },
   "outputs": [],
   "source": [
    "download_data()"
   ]
  },
  {
   "cell_type": "markdown",
   "metadata": {},
   "source": [
    "## 5. Compile all data into one pandas dataframe"
   ]
  },
  {
   "cell_type": "code",
   "execution_count": 88,
   "metadata": {
    "collapsed": true
   },
   "outputs": [],
   "source": [
    "def compile_data():\n",
    "    main_df = pd.DataFrame()\n",
    "    \n",
    "    for count,symbol in enumerate(all_list[:100]):\n",
    "        temp_df = pd.read_csv('s&p500_data/{}.csv'.format(symbol))\n",
    "        temp_df.set_index('Date',inplace=True)\n",
    "        \n",
    "        temp_df.rename(columns = {'Adj Close': symbol}, inplace=True)\n",
    "#         print(temp_df.head())\n",
    "#         break\n",
    "        temp_df.drop(['Open', 'High', 'Low', 'Close', 'Volume'], 1, inplace=True)\n",
    "        \n",
    "        if main_df is None:\n",
    "            main_df = temp_df\n",
    "        else:\n",
    "            main_df = main_df.join(temp_df, how='outer')\n",
    "    if count%10 == 0:\n",
    "        print(count)\n",
    "    return main_df"
   ]
  },
  {
   "cell_type": "code",
   "execution_count": 97,
   "metadata": {},
   "outputs": [
    {
     "data": {
      "text/html": [
       "<div>\n",
       "<table border=\"1\" class=\"dataframe\">\n",
       "  <thead>\n",
       "    <tr style=\"text-align: right;\">\n",
       "      <th></th>\n",
       "      <th>MMM</th>\n",
       "      <th>ABT</th>\n",
       "      <th>ABBV</th>\n",
       "      <th>ABMD</th>\n",
       "      <th>ACN</th>\n",
       "      <th>ATVI</th>\n",
       "      <th>AYI</th>\n",
       "      <th>ADBE</th>\n",
       "      <th>AMD</th>\n",
       "      <th>AAP</th>\n",
       "      <th>...</th>\n",
       "      <th>CPB</th>\n",
       "      <th>COF</th>\n",
       "      <th>CAH</th>\n",
       "      <th>KMX</th>\n",
       "      <th>CCL</th>\n",
       "      <th>CAT</th>\n",
       "      <th>CBOE</th>\n",
       "      <th>CBRE</th>\n",
       "      <th>CBS</th>\n",
       "      <th>CELG</th>\n",
       "    </tr>\n",
       "    <tr>\n",
       "      <th>Date</th>\n",
       "      <th></th>\n",
       "      <th></th>\n",
       "      <th></th>\n",
       "      <th></th>\n",
       "      <th></th>\n",
       "      <th></th>\n",
       "      <th></th>\n",
       "      <th></th>\n",
       "      <th></th>\n",
       "      <th></th>\n",
       "      <th></th>\n",
       "      <th></th>\n",
       "      <th></th>\n",
       "      <th></th>\n",
       "      <th></th>\n",
       "      <th></th>\n",
       "      <th></th>\n",
       "      <th></th>\n",
       "      <th></th>\n",
       "      <th></th>\n",
       "      <th></th>\n",
       "    </tr>\n",
       "  </thead>\n",
       "  <tbody>\n",
       "    <tr>\n",
       "      <th>2014-12-31</th>\n",
       "      <td>150.427399</td>\n",
       "      <td>41.626999</td>\n",
       "      <td>57.834881</td>\n",
       "      <td>38.060001</td>\n",
       "      <td>82.357475</td>\n",
       "      <td>19.563580</td>\n",
       "      <td>138.711304</td>\n",
       "      <td>72.699997</td>\n",
       "      <td>2.67</td>\n",
       "      <td>158.376587</td>\n",
       "      <td>...</td>\n",
       "      <td>150.427399</td>\n",
       "      <td>150.427399</td>\n",
       "      <td>150.427399</td>\n",
       "      <td>150.427399</td>\n",
       "      <td>150.427399</td>\n",
       "      <td>150.427399</td>\n",
       "      <td>150.427399</td>\n",
       "      <td>150.427399</td>\n",
       "      <td>150.427399</td>\n",
       "      <td>150.427399</td>\n",
       "    </tr>\n",
       "    <tr>\n",
       "      <th>2015-01-02</th>\n",
       "      <td>150.189392</td>\n",
       "      <td>41.516052</td>\n",
       "      <td>58.232586</td>\n",
       "      <td>37.310001</td>\n",
       "      <td>81.924049</td>\n",
       "      <td>19.544163</td>\n",
       "      <td>138.523163</td>\n",
       "      <td>72.339996</td>\n",
       "      <td>2.67</td>\n",
       "      <td>157.660675</td>\n",
       "      <td>...</td>\n",
       "      <td>150.189392</td>\n",
       "      <td>150.189392</td>\n",
       "      <td>150.189392</td>\n",
       "      <td>150.189392</td>\n",
       "      <td>150.189392</td>\n",
       "      <td>150.189392</td>\n",
       "      <td>150.189392</td>\n",
       "      <td>150.189392</td>\n",
       "      <td>150.189392</td>\n",
       "      <td>150.189392</td>\n",
       "    </tr>\n",
       "    <tr>\n",
       "      <th>2015-01-05</th>\n",
       "      <td>146.802200</td>\n",
       "      <td>41.525291</td>\n",
       "      <td>57.136696</td>\n",
       "      <td>37.070000</td>\n",
       "      <td>80.540825</td>\n",
       "      <td>19.272312</td>\n",
       "      <td>135.195709</td>\n",
       "      <td>71.980003</td>\n",
       "      <td>2.66</td>\n",
       "      <td>155.582504</td>\n",
       "      <td>...</td>\n",
       "      <td>146.802200</td>\n",
       "      <td>146.802200</td>\n",
       "      <td>146.802200</td>\n",
       "      <td>146.802200</td>\n",
       "      <td>146.802200</td>\n",
       "      <td>146.802200</td>\n",
       "      <td>146.802200</td>\n",
       "      <td>146.802200</td>\n",
       "      <td>146.802200</td>\n",
       "      <td>146.802200</td>\n",
       "    </tr>\n",
       "    <tr>\n",
       "      <th>2015-01-06</th>\n",
       "      <td>145.236755</td>\n",
       "      <td>41.053726</td>\n",
       "      <td>56.853886</td>\n",
       "      <td>36.130001</td>\n",
       "      <td>79.959869</td>\n",
       "      <td>18.913078</td>\n",
       "      <td>133.502304</td>\n",
       "      <td>70.529999</td>\n",
       "      <td>2.63</td>\n",
       "      <td>155.473160</td>\n",
       "      <td>...</td>\n",
       "      <td>145.236755</td>\n",
       "      <td>145.236755</td>\n",
       "      <td>145.236755</td>\n",
       "      <td>145.236755</td>\n",
       "      <td>145.236755</td>\n",
       "      <td>145.236755</td>\n",
       "      <td>145.236755</td>\n",
       "      <td>145.236755</td>\n",
       "      <td>145.236755</td>\n",
       "      <td>145.236755</td>\n",
       "    </tr>\n",
       "    <tr>\n",
       "      <th>2015-01-07</th>\n",
       "      <td>146.289551</td>\n",
       "      <td>41.386600</td>\n",
       "      <td>59.151722</td>\n",
       "      <td>37.279999</td>\n",
       "      <td>81.638191</td>\n",
       "      <td>18.505302</td>\n",
       "      <td>135.869110</td>\n",
       "      <td>71.110001</td>\n",
       "      <td>2.58</td>\n",
       "      <td>158.814102</td>\n",
       "      <td>...</td>\n",
       "      <td>146.289551</td>\n",
       "      <td>146.289551</td>\n",
       "      <td>146.289551</td>\n",
       "      <td>146.289551</td>\n",
       "      <td>146.289551</td>\n",
       "      <td>146.289551</td>\n",
       "      <td>146.289551</td>\n",
       "      <td>146.289551</td>\n",
       "      <td>146.289551</td>\n",
       "      <td>146.289551</td>\n",
       "    </tr>\n",
       "  </tbody>\n",
       "</table>\n",
       "<p>5 rows × 100 columns</p>\n",
       "</div>"
      ],
      "text/plain": [
       "                   MMM        ABT       ABBV       ABMD        ACN       ATVI  \\\n",
       "Date                                                                            \n",
       "2014-12-31  150.427399  41.626999  57.834881  38.060001  82.357475  19.563580   \n",
       "2015-01-02  150.189392  41.516052  58.232586  37.310001  81.924049  19.544163   \n",
       "2015-01-05  146.802200  41.525291  57.136696  37.070000  80.540825  19.272312   \n",
       "2015-01-06  145.236755  41.053726  56.853886  36.130001  79.959869  18.913078   \n",
       "2015-01-07  146.289551  41.386600  59.151722  37.279999  81.638191  18.505302   \n",
       "\n",
       "                   AYI       ADBE   AMD         AAP     ...             CPB  \\\n",
       "Date                                                    ...                   \n",
       "2014-12-31  138.711304  72.699997  2.67  158.376587     ...      150.427399   \n",
       "2015-01-02  138.523163  72.339996  2.67  157.660675     ...      150.189392   \n",
       "2015-01-05  135.195709  71.980003  2.66  155.582504     ...      146.802200   \n",
       "2015-01-06  133.502304  70.529999  2.63  155.473160     ...      145.236755   \n",
       "2015-01-07  135.869110  71.110001  2.58  158.814102     ...      146.289551   \n",
       "\n",
       "                   COF         CAH         KMX         CCL         CAT  \\\n",
       "Date                                                                     \n",
       "2014-12-31  150.427399  150.427399  150.427399  150.427399  150.427399   \n",
       "2015-01-02  150.189392  150.189392  150.189392  150.189392  150.189392   \n",
       "2015-01-05  146.802200  146.802200  146.802200  146.802200  146.802200   \n",
       "2015-01-06  145.236755  145.236755  145.236755  145.236755  145.236755   \n",
       "2015-01-07  146.289551  146.289551  146.289551  146.289551  146.289551   \n",
       "\n",
       "                  CBOE        CBRE         CBS        CELG  \n",
       "Date                                                        \n",
       "2014-12-31  150.427399  150.427399  150.427399  150.427399  \n",
       "2015-01-02  150.189392  150.189392  150.189392  150.189392  \n",
       "2015-01-05  146.802200  146.802200  146.802200  146.802200  \n",
       "2015-01-06  145.236755  145.236755  145.236755  145.236755  \n",
       "2015-01-07  146.289551  146.289551  146.289551  146.289551  \n",
       "\n",
       "[5 rows x 100 columns]"
      ]
     },
     "execution_count": 97,
     "metadata": {},
     "output_type": "execute_result"
    }
   ],
   "source": [
    "result_df = compile_data()\n",
    "result_df.head()"
   ]
  },
  {
   "cell_type": "code",
   "execution_count": 100,
   "metadata": {
    "collapsed": true
   },
   "outputs": [],
   "source": [
    "edge_model = covariance.GraphLassoCV()"
   ]
  },
  {
   "cell_type": "code",
   "execution_count": 103,
   "metadata": {},
   "outputs": [
    {
     "name": "stdout",
     "output_type": "stream",
     "text": [
      "GraphLassoCV(alphas=4, assume_centered=False, cv=None, enet_tol=0.0001,\n",
      "       max_iter=100, mode='cd', n_jobs=1, n_refinements=4, tol=0.0001,\n",
      "       verbose=False)\n"
     ]
    }
   ],
   "source": [
    "edge_model.fit(result_df)"
   ]
  },
  {
   "cell_type": "code",
   "execution_count": null,
   "metadata": {
    "collapsed": true
   },
   "outputs": [],
   "source": []
  }
 ],
 "metadata": {
  "kernelspec": {
   "display_name": "Python 3",
   "language": "python",
   "name": "python3"
  },
  "language_info": {
   "codemirror_mode": {
    "name": "ipython",
    "version": 3
   },
   "file_extension": ".py",
   "mimetype": "text/x-python",
   "name": "python",
   "nbconvert_exporter": "python",
   "pygments_lexer": "ipython3",
   "version": "3.6.1"
  }
 },
 "nbformat": 4,
 "nbformat_minor": 2
}
