{
 "cells": [
  {
   "cell_type": "code",
   "execution_count": 1,
   "metadata": {},
   "outputs": [
    {
     "name": "stdout",
     "output_type": "stream",
     "text": [
      "0.19.2\n"
     ]
    }
   ],
   "source": [
    "import csv\n",
    "import pickle\n",
    "import tushare as ts\n",
    "import pandas as pd\n",
    "import numpy as np\n",
    "import matplotlib.pyplot as plt\n",
    "\n",
    "from sklearn.ensemble import RandomForestClassifier\n",
    "from sklearn.linear_model import LogisticRegression,Ridge\n",
    "from sklearn.metrics import r2_score,confusion_matrix,mean_squared_error,recall_score\n",
    "from sklearn.model_selection import train_test_split,GridSearchCV,cross_validate\n",
    "from sklearn import svm,preprocessing\n",
    "from sklearn import __version__\n",
    "\n",
    "print(__version__)"
   ]
  },
  {
   "cell_type": "markdown",
   "metadata": {},
   "source": [
    "# Preprocessing Data\n",
    "### 1. Downloading Data"
   ]
  },
  {
   "cell_type": "code",
   "execution_count": 2,
   "metadata": {
    "collapsed": true
   },
   "outputs": [],
   "source": [
    "# data = ts.get_h_data('000300', index = True, start = '2015-01-01', end = '2016-01-01')\n",
    "# data = data.sort_index(ascending=True)#升序\n",
    "# with open('hs300.pickle','wb') as file:\n",
    "#     pickle.dump(data, file)"
   ]
  },
  {
   "cell_type": "code",
   "execution_count": 3,
   "metadata": {
    "collapsed": true
   },
   "outputs": [],
   "source": [
    "with open('hs300.pickle','rb') as file:\n",
    "    data = pickle.load(file)\n",
    "# data.to_csv('/Users/zi-qinzhou/Documents/LearnBySelf/Quant/hs300.csv',encoding='utf-8-sig')\n",
    "# data = pd.read_csv('hs300.csv') "
   ]
  },
  {
   "cell_type": "code",
   "execution_count": 4,
   "metadata": {},
   "outputs": [
    {
     "data": {
      "text/html": [
       "<div>\n",
       "<table border=\"1\" class=\"dataframe\">\n",
       "  <thead>\n",
       "    <tr style=\"text-align: right;\">\n",
       "      <th></th>\n",
       "      <th>open</th>\n",
       "      <th>high</th>\n",
       "      <th>close</th>\n",
       "      <th>low</th>\n",
       "      <th>volume</th>\n",
       "      <th>amount</th>\n",
       "    </tr>\n",
       "    <tr>\n",
       "      <th>date</th>\n",
       "      <th></th>\n",
       "      <th></th>\n",
       "      <th></th>\n",
       "      <th></th>\n",
       "      <th></th>\n",
       "      <th></th>\n",
       "    </tr>\n",
       "  </thead>\n",
       "  <tbody>\n",
       "    <tr>\n",
       "      <th>2015-01-05</th>\n",
       "      <td>3566.089</td>\n",
       "      <td>3669.042</td>\n",
       "      <td>3641.541</td>\n",
       "      <td>3551.510</td>\n",
       "      <td>45119811200</td>\n",
       "      <td>519849803776</td>\n",
       "    </tr>\n",
       "    <tr>\n",
       "      <th>2015-01-06</th>\n",
       "      <td>3608.428</td>\n",
       "      <td>3683.226</td>\n",
       "      <td>3641.059</td>\n",
       "      <td>3587.231</td>\n",
       "      <td>42096217600</td>\n",
       "      <td>498529599488</td>\n",
       "    </tr>\n",
       "    <tr>\n",
       "      <th>2015-01-07</th>\n",
       "      <td>3620.924</td>\n",
       "      <td>3671.190</td>\n",
       "      <td>3643.790</td>\n",
       "      <td>3601.698</td>\n",
       "      <td>32019123200</td>\n",
       "      <td>398731706368</td>\n",
       "    </tr>\n",
       "    <tr>\n",
       "      <th>2015-01-08</th>\n",
       "      <td>3650.073</td>\n",
       "      <td>3659.945</td>\n",
       "      <td>3559.259</td>\n",
       "      <td>3552.100</td>\n",
       "      <td>29500304000</td>\n",
       "      <td>355831971840</td>\n",
       "    </tr>\n",
       "    <tr>\n",
       "      <th>2015-01-09</th>\n",
       "      <td>3547.574</td>\n",
       "      <td>3689.753</td>\n",
       "      <td>3546.723</td>\n",
       "      <td>3536.395</td>\n",
       "      <td>34998265600</td>\n",
       "      <td>430210580480</td>\n",
       "    </tr>\n",
       "  </tbody>\n",
       "</table>\n",
       "</div>"
      ],
      "text/plain": [
       "                open      high     close       low       volume        amount\n",
       "date                                                                         \n",
       "2015-01-05  3566.089  3669.042  3641.541  3551.510  45119811200  519849803776\n",
       "2015-01-06  3608.428  3683.226  3641.059  3587.231  42096217600  498529599488\n",
       "2015-01-07  3620.924  3671.190  3643.790  3601.698  32019123200  398731706368\n",
       "2015-01-08  3650.073  3659.945  3559.259  3552.100  29500304000  355831971840\n",
       "2015-01-09  3547.574  3689.753  3546.723  3536.395  34998265600  430210580480"
      ]
     },
     "execution_count": 4,
     "metadata": {},
     "output_type": "execute_result"
    }
   ],
   "source": [
    "data.head()"
   ]
  },
  {
   "cell_type": "markdown",
   "metadata": {},
   "source": [
    "### 2. Features Fuction"
   ]
  },
  {
   "cell_type": "code",
   "execution_count": 5,
   "metadata": {
    "collapsed": true
   },
   "outputs": [],
   "source": [
    "def CCI(data, ndays):\n",
    "    TP = (data['high'] + data['low'] + data['close']) / 3\n",
    "    CCI = pd.Series((TP - pd.DataFrame.rolling(TP, ndays).mean()) / (0.015 * pd.DataFrame.rolling(TP, ndays).std()),\n",
    "    name = 'CCI')\n",
    "    result = pd.DataFrame(CCI)\n",
    "    return result\n",
    "\n",
    "def EVM(data, ndays):\n",
    "    dm = ((data['high'] + data['low'])/2) - ((data['high'].shift(1) + data['low'].shift(1))/2)\n",
    "    br = (data['volume'] / 100000000) / ((data['high'] - data['low']))\n",
    "    EVM = dm / br\n",
    "    EVM_MA = pd.Series(pd.DataFrame.rolling(EVM, ndays).mean(), name = 'EVM')\n",
    "    result = pd.DataFrame(EVM_MA)\n",
    "    return result\n",
    "\n",
    "def SMA(data, ndays):\n",
    "    SMA = pd.Series(pd.DataFrame.rolling(data['close'], ndays).mean(), name = 'SMA')\n",
    "    result = pd.DataFrame(SMA)\n",
    "    return result\n",
    "\n",
    "def ROC(data,n):\n",
    "    N = data['close'].diff(n)\n",
    "    D = data['close'].shift(n)\n",
    "    ROC = pd.Series(N/D,name='Rate of Change')\n",
    "    result = pd.DataFrame(ROC)\n",
    "    return result\n",
    "\n",
    "def BBANDS(data, ndays):\n",
    "    MA = pd.Series(pd.DataFrame.rolling(data['close'], ndays).mean())\n",
    "    SD = pd.Series(pd.DataFrame.rolling(data['close'], ndays).std())\n",
    "\n",
    "    b1 = MA + (2 * SD)\n",
    "    B1 = pd.Series(b1, name = 'Upper BollingerBand')\n",
    "    data = data.join(B1)\n",
    "\n",
    "    b2 = MA - (2 * SD)\n",
    "    B2 = pd.Series(b2, name = 'Lower BollingerBand')\n",
    "    result = pd.DataFrame(B2)\n",
    "    return result\n",
    "\n",
    "def ForceIndex(data, ndays): \n",
    "    FI = pd.Series(data['close'].diff(ndays) * data['volume'], name = 'ForceIndex') \n",
    "    result = pd.DataFrame(FI) \n",
    "    return result"
   ]
  },
  {
   "cell_type": "markdown",
   "metadata": {},
   "source": [
    "### 3. Building Training Datasets"
   ]
  },
  {
   "cell_type": "code",
   "execution_count": 6,
   "metadata": {},
   "outputs": [
    {
     "data": {
      "text/html": [
       "<div>\n",
       "<table border=\"1\" class=\"dataframe\">\n",
       "  <thead>\n",
       "    <tr style=\"text-align: right;\">\n",
       "      <th></th>\n",
       "      <th>CCI</th>\n",
       "      <th>EVM</th>\n",
       "      <th>SMA</th>\n",
       "      <th>Rate of Change</th>\n",
       "      <th>Lower BollingerBand</th>\n",
       "      <th>ForceIndex</th>\n",
       "    </tr>\n",
       "    <tr>\n",
       "      <th>date</th>\n",
       "      <th></th>\n",
       "      <th></th>\n",
       "      <th></th>\n",
       "      <th></th>\n",
       "      <th></th>\n",
       "      <th></th>\n",
       "    </tr>\n",
       "  </thead>\n",
       "  <tbody>\n",
       "    <tr>\n",
       "      <th>2015-01-12</th>\n",
       "      <td>-105.969604</td>\n",
       "      <td>-8.018640</td>\n",
       "      <td>3580.8814</td>\n",
       "      <td>-0.035140</td>\n",
       "      <td>3463.650104</td>\n",
       "      <td>-3.411127e+12</td>\n",
       "    </tr>\n",
       "    <tr>\n",
       "      <th>2015-01-13</th>\n",
       "      <td>-62.966672</td>\n",
       "      <td>-8.473673</td>\n",
       "      <td>3555.4776</td>\n",
       "      <td>-0.034885</td>\n",
       "      <td>3448.880974</td>\n",
       "      <td>-2.377211e+12</td>\n",
       "    </tr>\n",
       "    <tr>\n",
       "      <th>2015-01-14</th>\n",
       "      <td>-57.391363</td>\n",
       "      <td>-9.535103</td>\n",
       "      <td>3527.2042</td>\n",
       "      <td>-0.038797</td>\n",
       "      <td>3478.402298</td>\n",
       "      <td>-2.770970e+12</td>\n",
       "    </tr>\n",
       "    <tr>\n",
       "      <th>2015-01-15</th>\n",
       "      <td>45.053627</td>\n",
       "      <td>-3.847704</td>\n",
       "      <td>3536.1766</td>\n",
       "      <td>0.012604</td>\n",
       "      <td>3453.304471</td>\n",
       "      <td>1.066874e+12</td>\n",
       "    </tr>\n",
       "    <tr>\n",
       "      <th>2015-01-16</th>\n",
       "      <td>108.078685</td>\n",
       "      <td>-0.651911</td>\n",
       "      <td>3553.8612</td>\n",
       "      <td>0.024931</td>\n",
       "      <td>3431.436611</td>\n",
       "      <td>2.499556e+12</td>\n",
       "    </tr>\n",
       "  </tbody>\n",
       "</table>\n",
       "</div>"
      ],
      "text/plain": [
       "                   CCI       EVM        SMA  Rate of Change  \\\n",
       "date                                                          \n",
       "2015-01-12 -105.969604 -8.018640  3580.8814       -0.035140   \n",
       "2015-01-13  -62.966672 -8.473673  3555.4776       -0.034885   \n",
       "2015-01-14  -57.391363 -9.535103  3527.2042       -0.038797   \n",
       "2015-01-15   45.053627 -3.847704  3536.1766        0.012604   \n",
       "2015-01-16  108.078685 -0.651911  3553.8612        0.024931   \n",
       "\n",
       "            Lower BollingerBand    ForceIndex  \n",
       "date                                           \n",
       "2015-01-12          3463.650104 -3.411127e+12  \n",
       "2015-01-13          3448.880974 -2.377211e+12  \n",
       "2015-01-14          3478.402298 -2.770970e+12  \n",
       "2015-01-15          3453.304471  1.066874e+12  \n",
       "2015-01-16          3431.436611  2.499556e+12  "
      ]
     },
     "execution_count": 6,
     "metadata": {},
     "output_type": "execute_result"
    }
   ],
   "source": [
    "final = pd.concat([CCI(data,5), EVM(data,5), SMA(data,5), ROC(data,5), BBANDS(data,5),ForceIndex(data,5)], axis=1)\n",
    "final.dropna().head()"
   ]
  },
  {
   "cell_type": "code",
   "execution_count": 7,
   "metadata": {},
   "outputs": [
    {
     "data": {
      "text/plain": [
       "date\n",
       "2015-01-05    0\n",
       "2015-01-06    0\n",
       "2015-01-07    1\n",
       "2015-01-08    0\n",
       "2015-01-09    0\n",
       "Name: close, dtype: int64"
      ]
     },
     "execution_count": 7,
     "metadata": {},
     "output_type": "execute_result"
    }
   ],
   "source": [
    "temp_target = data.close.diff().apply(lambda x: 1 if x>=0 else 0)\n",
    "temp_target.head()"
   ]
  },
  {
   "cell_type": "code",
   "execution_count": 8,
   "metadata": {},
   "outputs": [
    {
     "data": {
      "text/html": [
       "<div>\n",
       "<table border=\"1\" class=\"dataframe\">\n",
       "  <thead>\n",
       "    <tr style=\"text-align: right;\">\n",
       "      <th></th>\n",
       "      <th>CCI</th>\n",
       "      <th>EVM</th>\n",
       "      <th>SMA</th>\n",
       "      <th>Rate of Change</th>\n",
       "      <th>Lower BollingerBand</th>\n",
       "      <th>ForceIndex</th>\n",
       "      <th>target</th>\n",
       "      <th>train_close</th>\n",
       "    </tr>\n",
       "    <tr>\n",
       "      <th>date</th>\n",
       "      <th></th>\n",
       "      <th></th>\n",
       "      <th></th>\n",
       "      <th></th>\n",
       "      <th></th>\n",
       "      <th></th>\n",
       "      <th></th>\n",
       "      <th></th>\n",
       "    </tr>\n",
       "  </thead>\n",
       "  <tbody>\n",
       "    <tr>\n",
       "      <th>2015-01-05</th>\n",
       "      <td>NaN</td>\n",
       "      <td>NaN</td>\n",
       "      <td>NaN</td>\n",
       "      <td>NaN</td>\n",
       "      <td>NaN</td>\n",
       "      <td>NaN</td>\n",
       "      <td>0</td>\n",
       "      <td>3641.541</td>\n",
       "    </tr>\n",
       "    <tr>\n",
       "      <th>2015-01-06</th>\n",
       "      <td>NaN</td>\n",
       "      <td>NaN</td>\n",
       "      <td>NaN</td>\n",
       "      <td>NaN</td>\n",
       "      <td>NaN</td>\n",
       "      <td>NaN</td>\n",
       "      <td>0</td>\n",
       "      <td>3641.059</td>\n",
       "    </tr>\n",
       "    <tr>\n",
       "      <th>2015-01-07</th>\n",
       "      <td>NaN</td>\n",
       "      <td>NaN</td>\n",
       "      <td>NaN</td>\n",
       "      <td>NaN</td>\n",
       "      <td>NaN</td>\n",
       "      <td>NaN</td>\n",
       "      <td>1</td>\n",
       "      <td>3643.790</td>\n",
       "    </tr>\n",
       "    <tr>\n",
       "      <th>2015-01-08</th>\n",
       "      <td>NaN</td>\n",
       "      <td>NaN</td>\n",
       "      <td>NaN</td>\n",
       "      <td>NaN</td>\n",
       "      <td>NaN</td>\n",
       "      <td>NaN</td>\n",
       "      <td>0</td>\n",
       "      <td>3559.259</td>\n",
       "    </tr>\n",
       "    <tr>\n",
       "      <th>2015-01-09</th>\n",
       "      <td>-68.98209</td>\n",
       "      <td>NaN</td>\n",
       "      <td>3606.4744</td>\n",
       "      <td>NaN</td>\n",
       "      <td>3508.404329</td>\n",
       "      <td>NaN</td>\n",
       "      <td>0</td>\n",
       "      <td>3546.723</td>\n",
       "    </tr>\n",
       "  </tbody>\n",
       "</table>\n",
       "</div>"
      ],
      "text/plain": [
       "                 CCI  EVM        SMA  Rate of Change  Lower BollingerBand  \\\n",
       "date                                                                        \n",
       "2015-01-05       NaN  NaN        NaN             NaN                  NaN   \n",
       "2015-01-06       NaN  NaN        NaN             NaN                  NaN   \n",
       "2015-01-07       NaN  NaN        NaN             NaN                  NaN   \n",
       "2015-01-08       NaN  NaN        NaN             NaN                  NaN   \n",
       "2015-01-09 -68.98209  NaN  3606.4744             NaN          3508.404329   \n",
       "\n",
       "            ForceIndex  target  train_close  \n",
       "date                                         \n",
       "2015-01-05         NaN       0     3641.541  \n",
       "2015-01-06         NaN       0     3641.059  \n",
       "2015-01-07         NaN       1     3643.790  \n",
       "2015-01-08         NaN       0     3559.259  \n",
       "2015-01-09         NaN       0     3546.723  "
      ]
     },
     "execution_count": 8,
     "metadata": {},
     "output_type": "execute_result"
    }
   ],
   "source": [
    "final['target'] = temp_target\n",
    "final['train_close'] = data.close\n",
    "final.head()"
   ]
  },
  {
   "cell_type": "code",
   "execution_count": 9,
   "metadata": {
    "collapsed": true
   },
   "outputs": [],
   "source": [
    "final.dropna(inplace = True)"
   ]
  },
  {
   "cell_type": "code",
   "execution_count": 10,
   "metadata": {},
   "outputs": [
    {
     "data": {
      "text/html": [
       "<div>\n",
       "<table border=\"1\" class=\"dataframe\">\n",
       "  <thead>\n",
       "    <tr style=\"text-align: right;\">\n",
       "      <th></th>\n",
       "      <th>CCI</th>\n",
       "      <th>EVM</th>\n",
       "      <th>SMA</th>\n",
       "      <th>Rate of Change</th>\n",
       "      <th>Lower BollingerBand</th>\n",
       "      <th>ForceIndex</th>\n",
       "      <th>target</th>\n",
       "      <th>train_close</th>\n",
       "    </tr>\n",
       "    <tr>\n",
       "      <th>date</th>\n",
       "      <th></th>\n",
       "      <th></th>\n",
       "      <th></th>\n",
       "      <th></th>\n",
       "      <th></th>\n",
       "      <th></th>\n",
       "      <th></th>\n",
       "      <th></th>\n",
       "    </tr>\n",
       "  </thead>\n",
       "  <tbody>\n",
       "    <tr>\n",
       "      <th>2015-01-12</th>\n",
       "      <td>-105.969604</td>\n",
       "      <td>-8.018640</td>\n",
       "      <td>3580.8814</td>\n",
       "      <td>-0.035140</td>\n",
       "      <td>3463.650104</td>\n",
       "      <td>-3.411127e+12</td>\n",
       "      <td>0</td>\n",
       "      <td>3513.576</td>\n",
       "    </tr>\n",
       "    <tr>\n",
       "      <th>2015-01-13</th>\n",
       "      <td>-62.966672</td>\n",
       "      <td>-8.473673</td>\n",
       "      <td>3555.4776</td>\n",
       "      <td>-0.034885</td>\n",
       "      <td>3448.880974</td>\n",
       "      <td>-2.377211e+12</td>\n",
       "      <td>1</td>\n",
       "      <td>3514.040</td>\n",
       "    </tr>\n",
       "    <tr>\n",
       "      <th>2015-01-14</th>\n",
       "      <td>-57.391363</td>\n",
       "      <td>-9.535103</td>\n",
       "      <td>3527.2042</td>\n",
       "      <td>-0.038797</td>\n",
       "      <td>3478.402298</td>\n",
       "      <td>-2.770970e+12</td>\n",
       "      <td>0</td>\n",
       "      <td>3502.423</td>\n",
       "    </tr>\n",
       "    <tr>\n",
       "      <th>2015-01-15</th>\n",
       "      <td>45.053627</td>\n",
       "      <td>-3.847704</td>\n",
       "      <td>3536.1766</td>\n",
       "      <td>0.012604</td>\n",
       "      <td>3453.304471</td>\n",
       "      <td>1.066874e+12</td>\n",
       "      <td>1</td>\n",
       "      <td>3604.121</td>\n",
       "    </tr>\n",
       "    <tr>\n",
       "      <th>2015-01-16</th>\n",
       "      <td>108.078685</td>\n",
       "      <td>-0.651911</td>\n",
       "      <td>3553.8612</td>\n",
       "      <td>0.024931</td>\n",
       "      <td>3431.436611</td>\n",
       "      <td>2.499556e+12</td>\n",
       "      <td>1</td>\n",
       "      <td>3635.146</td>\n",
       "    </tr>\n",
       "  </tbody>\n",
       "</table>\n",
       "</div>"
      ],
      "text/plain": [
       "                   CCI       EVM        SMA  Rate of Change  \\\n",
       "date                                                          \n",
       "2015-01-12 -105.969604 -8.018640  3580.8814       -0.035140   \n",
       "2015-01-13  -62.966672 -8.473673  3555.4776       -0.034885   \n",
       "2015-01-14  -57.391363 -9.535103  3527.2042       -0.038797   \n",
       "2015-01-15   45.053627 -3.847704  3536.1766        0.012604   \n",
       "2015-01-16  108.078685 -0.651911  3553.8612        0.024931   \n",
       "\n",
       "            Lower BollingerBand    ForceIndex  target  train_close  \n",
       "date                                                                \n",
       "2015-01-12          3463.650104 -3.411127e+12       0     3513.576  \n",
       "2015-01-13          3448.880974 -2.377211e+12       1     3514.040  \n",
       "2015-01-14          3478.402298 -2.770970e+12       0     3502.423  \n",
       "2015-01-15          3453.304471  1.066874e+12       1     3604.121  \n",
       "2015-01-16          3431.436611  2.499556e+12       1     3635.146  "
      ]
     },
     "execution_count": 10,
     "metadata": {},
     "output_type": "execute_result"
    }
   ],
   "source": [
    "final.head()"
   ]
  },
  {
   "cell_type": "markdown",
   "metadata": {},
   "source": [
    "# Training Data"
   ]
  },
  {
   "cell_type": "markdown",
   "metadata": {},
   "source": [
    "### 1. Let's see what's the data looking like"
   ]
  },
  {
   "cell_type": "code",
   "execution_count": 11,
   "metadata": {},
   "outputs": [
    {
     "name": "stdout",
     "output_type": "stream",
     "text": [
      "                   CCI       EVM        SMA  Rate of Change  \\\n",
      "date                                                          \n",
      "2015-01-12 -105.969604 -8.018640  3580.8814       -0.035140   \n",
      "2015-01-13  -62.966672 -8.473673  3555.4776       -0.034885   \n",
      "2015-01-14  -57.391363 -9.535103  3527.2042       -0.038797   \n",
      "2015-01-15   45.053627 -3.847704  3536.1766        0.012604   \n",
      "2015-01-16  108.078685 -0.651911  3553.8612        0.024931   \n",
      "\n",
      "            Lower BollingerBand    ForceIndex  \n",
      "date                                           \n",
      "2015-01-12          3463.650104 -3.411127e+12  \n",
      "2015-01-13          3448.880974 -2.377211e+12  \n",
      "2015-01-14          3478.402298 -2.770970e+12  \n",
      "2015-01-15          3453.304471  1.066874e+12  \n",
      "2015-01-16          3431.436611  2.499556e+12  \n",
      "date\n",
      "2015-01-12    0\n",
      "2015-01-13    1\n",
      "2015-01-14    0\n",
      "2015-01-15    1\n",
      "2015-01-16    1\n",
      "Name: target, dtype: int64\n"
     ]
    }
   ],
   "source": [
    "Y = final.target\n",
    "X = final.drop(['target','train_close'], axis=1)\n",
    "\n",
    "print(X.head())\n",
    "print(Y.head())"
   ]
  },
  {
   "cell_type": "markdown",
   "metadata": {},
   "source": [
    "### 2. Using random forest to train the data"
   ]
  },
  {
   "cell_type": "code",
   "execution_count": 12,
   "metadata": {
    "collapsed": true
   },
   "outputs": [],
   "source": [
    "forest = RandomForestClassifier(n_estimators=10,\n",
    "                              random_state=0)\n",
    "\n",
    "forest.fit(X, Y)\n",
    "importances = forest.feature_importances_\n",
    "indices = np.argsort(importances)[::-1]"
   ]
  },
  {
   "cell_type": "markdown",
   "metadata": {},
   "source": [
    "### 3. Feather importance and sorting the feather list in importance descending order"
   ]
  },
  {
   "cell_type": "code",
   "execution_count": 13,
   "metadata": {},
   "outputs": [
    {
     "name": "stdout",
     "output_type": "stream",
     "text": [
      "[0 1 5 3 4 2]\n",
      "[ 0.29419917  0.1903317   0.0967372   0.14488776  0.11023684  0.16360733]\n"
     ]
    }
   ],
   "source": [
    "print(indices)\n",
    "print(importances)\n",
    "names = X.columns.tolist()"
   ]
  },
  {
   "cell_type": "markdown",
   "metadata": {},
   "source": [
    "### 4. Plot the feather importances"
   ]
  },
  {
   "cell_type": "code",
   "execution_count": 14,
   "metadata": {},
   "outputs": [
    {
     "name": "stdout",
     "output_type": "stream",
     "text": [
      "Feature ranking:\n",
      "1. feature CCI (0.294199)\n",
      "2. feature EVM (0.190332)\n",
      "3. feature ForceIndex (0.163607)\n",
      "4. feature Rate of Change (0.144888)\n",
      "5. feature Lower BollingerBand (0.110237)\n",
      "6. feature SMA (0.096737)\n",
      "['CCI', 'EVM', 'ForceIndex', 'Rate of Change', 'Lower BollingerBand', 'SMA']\n"
     ]
    },
    {
     "data": {
      "image/png": "[encoded data removed]",
      "text/plain": [
       "<matplotlib.figure.Figure at 0x113300e80>"
      ]
     },
     "metadata": {},
     "output_type": "display_data"
    }
   ],
   "source": [
    "# Print the feature ranking\n",
    "print(\"Feature ranking:\")\n",
    "x_pin = []\n",
    "for f in range(X.shape[1]): \n",
    "    print(\"%d. feature %s (%f)\" % (f + 1, names[(indices[f])], importances[indices[f]]))\n",
    "    x_pin.append(names[indices[f]])\n",
    "\n",
    "    # Plot the feature importances of the forest\n",
    "print(x_pin)\n",
    "plt.figure(1, facecolor='w', figsize=(15, 10))\n",
    "plt.title(\"Feature importances\")\n",
    "plt.bar(range(X.shape[1]), importances[indices],\n",
    "       color=\"pink\")\n",
    "plt.xticks(range(X.shape[1]), x_pin)\n",
    "plt.xlim([-1, X.shape[1]])\n",
    "plt.show()"
   ]
  },
  {
   "cell_type": "code",
   "execution_count": 15,
   "metadata": {},
   "outputs": [
    {
     "data": {
      "text/html": [
       "<div>\n",
       "<table border=\"1\" class=\"dataframe\">\n",
       "  <thead>\n",
       "    <tr style=\"text-align: right;\">\n",
       "      <th></th>\n",
       "      <th>target</th>\n",
       "    </tr>\n",
       "    <tr>\n",
       "      <th>date</th>\n",
       "      <th></th>\n",
       "    </tr>\n",
       "  </thead>\n",
       "  <tbody>\n",
       "    <tr>\n",
       "      <th>2015-01-12</th>\n",
       "      <td>0</td>\n",
       "    </tr>\n",
       "    <tr>\n",
       "      <th>2015-01-13</th>\n",
       "      <td>1</td>\n",
       "    </tr>\n",
       "    <tr>\n",
       "      <th>2015-01-14</th>\n",
       "      <td>0</td>\n",
       "    </tr>\n",
       "    <tr>\n",
       "      <th>2015-01-15</th>\n",
       "      <td>1</td>\n",
       "    </tr>\n",
       "    <tr>\n",
       "      <th>2015-01-16</th>\n",
       "      <td>1</td>\n",
       "    </tr>\n",
       "  </tbody>\n",
       "</table>\n",
       "</div>"
      ],
      "text/plain": [
       "            target\n",
       "date              \n",
       "2015-01-12       0\n",
       "2015-01-13       1\n",
       "2015-01-14       0\n",
       "2015-01-15       1\n",
       "2015-01-16       1"
      ]
     },
     "execution_count": 15,
     "metadata": {},
     "output_type": "execute_result"
    }
   ],
   "source": [
    "y = final.drop(['CCI','EVM','Rate of Change','Lower BollingerBand', 'ForceIndex','SMA','train_close'], axis=1)\n",
    "y.head()"
   ]
  },
  {
   "cell_type": "code",
   "execution_count": 16,
   "metadata": {
    "collapsed": true
   },
   "outputs": [],
   "source": [
    "# used for classification, not regression\n",
    "y = np.array(y)\n",
    "y = y.ravel()"
   ]
  },
  {
   "cell_type": "code",
   "execution_count": 17,
   "metadata": {},
   "outputs": [
    {
     "data": {
      "text/html": [
       "<div>\n",
       "<table border=\"1\" class=\"dataframe\">\n",
       "  <thead>\n",
       "    <tr style=\"text-align: right;\">\n",
       "      <th></th>\n",
       "      <th>CCI</th>\n",
       "      <th>EVM</th>\n",
       "      <th>SMA</th>\n",
       "      <th>Rate of Change</th>\n",
       "      <th>Lower BollingerBand</th>\n",
       "      <th>ForceIndex</th>\n",
       "    </tr>\n",
       "    <tr>\n",
       "      <th>date</th>\n",
       "      <th></th>\n",
       "      <th></th>\n",
       "      <th></th>\n",
       "      <th></th>\n",
       "      <th></th>\n",
       "      <th></th>\n",
       "    </tr>\n",
       "  </thead>\n",
       "  <tbody>\n",
       "    <tr>\n",
       "      <th>2015-01-12</th>\n",
       "      <td>-105.969604</td>\n",
       "      <td>-8.018640</td>\n",
       "      <td>3580.8814</td>\n",
       "      <td>-0.035140</td>\n",
       "      <td>3463.650104</td>\n",
       "      <td>-3.411127e+12</td>\n",
       "    </tr>\n",
       "    <tr>\n",
       "      <th>2015-01-13</th>\n",
       "      <td>-62.966672</td>\n",
       "      <td>-8.473673</td>\n",
       "      <td>3555.4776</td>\n",
       "      <td>-0.034885</td>\n",
       "      <td>3448.880974</td>\n",
       "      <td>-2.377211e+12</td>\n",
       "    </tr>\n",
       "    <tr>\n",
       "      <th>2015-01-14</th>\n",
       "      <td>-57.391363</td>\n",
       "      <td>-9.535103</td>\n",
       "      <td>3527.2042</td>\n",
       "      <td>-0.038797</td>\n",
       "      <td>3478.402298</td>\n",
       "      <td>-2.770970e+12</td>\n",
       "    </tr>\n",
       "    <tr>\n",
       "      <th>2015-01-15</th>\n",
       "      <td>45.053627</td>\n",
       "      <td>-3.847704</td>\n",
       "      <td>3536.1766</td>\n",
       "      <td>0.012604</td>\n",
       "      <td>3453.304471</td>\n",
       "      <td>1.066874e+12</td>\n",
       "    </tr>\n",
       "    <tr>\n",
       "      <th>2015-01-16</th>\n",
       "      <td>108.078685</td>\n",
       "      <td>-0.651911</td>\n",
       "      <td>3553.8612</td>\n",
       "      <td>0.024931</td>\n",
       "      <td>3431.436611</td>\n",
       "      <td>2.499556e+12</td>\n",
       "    </tr>\n",
       "  </tbody>\n",
       "</table>\n",
       "</div>"
      ],
      "text/plain": [
       "                   CCI       EVM        SMA  Rate of Change  \\\n",
       "date                                                          \n",
       "2015-01-12 -105.969604 -8.018640  3580.8814       -0.035140   \n",
       "2015-01-13  -62.966672 -8.473673  3555.4776       -0.034885   \n",
       "2015-01-14  -57.391363 -9.535103  3527.2042       -0.038797   \n",
       "2015-01-15   45.053627 -3.847704  3536.1766        0.012604   \n",
       "2015-01-16  108.078685 -0.651911  3553.8612        0.024931   \n",
       "\n",
       "            Lower BollingerBand    ForceIndex  \n",
       "date                                           \n",
       "2015-01-12          3463.650104 -3.411127e+12  \n",
       "2015-01-13          3448.880974 -2.377211e+12  \n",
       "2015-01-14          3478.402298 -2.770970e+12  \n",
       "2015-01-15          3453.304471  1.066874e+12  \n",
       "2015-01-16          3431.436611  2.499556e+12  "
      ]
     },
     "execution_count": 17,
     "metadata": {},
     "output_type": "execute_result"
    }
   ],
   "source": [
    "X.head()"
   ]
  },
  {
   "cell_type": "markdown",
   "metadata": {},
   "source": [
    "## Plot confusion matrix using the model Random Forest"
   ]
  },
  {
   "cell_type": "code",
   "execution_count": 18,
   "metadata": {
    "collapsed": true
   },
   "outputs": [],
   "source": [
    "X_train,X_test, y_train, y_test = train_test_split(X,y,random_state=0)\n",
    "# scoring = ['precision_macro', 'recall_macro']\n",
    "# clf = svm.SVC(kernel='linear', C=1, random_state=0)\n",
    "# scores = cross_validate(clf, X, y, scoring=scoring,cv=5, return_train_score=False)\n",
    "# scores['test_recall_macro']                       "
   ]
  },
  {
   "cell_type": "code",
   "execution_count": 19,
   "metadata": {
    "collapsed": true,
    "scrolled": true
   },
   "outputs": [],
   "source": [
    "classifier = RandomForestClassifier(n_estimators=11,random_state=0)\n",
    "# classifier = svm.SVC()"
   ]
  },
  {
   "cell_type": "code",
   "execution_count": 41,
   "metadata": {},
   "outputs": [],
   "source": [
    "# y_train.head()"
   ]
  },
  {
   "cell_type": "code",
   "execution_count": 42,
   "metadata": {},
   "outputs": [
    {
     "data": {
      "text/plain": [
       "RandomForestClassifier(bootstrap=True, class_weight=None, criterion='gini',\n",
       "            max_depth=None, max_features='auto', max_leaf_nodes=None,\n",
       "            min_impurity_decrease=0.0, min_impurity_split=None,\n",
       "            min_samples_leaf=1, min_samples_split=2,\n",
       "            min_weight_fraction_leaf=0.0, n_estimators=11, n_jobs=1,\n",
       "            oob_score=False, random_state=0, verbose=0, warm_start=False)"
      ]
     },
     "execution_count": 42,
     "metadata": {},
     "output_type": "execute_result"
    }
   ],
   "source": [
    "classifier.fit(X_train, y_train)"
   ]
  },
  {
   "cell_type": "code",
   "execution_count": 22,
   "metadata": {
    "collapsed": true
   },
   "outputs": [],
   "source": [
    "y_pred = classifier.predict(X_test)"
   ]
  },
  {
   "cell_type": "code",
   "execution_count": 23,
   "metadata": {},
   "outputs": [
    {
     "data": {
      "text/plain": [
       "0.75"
      ]
     },
     "execution_count": 23,
     "metadata": {},
     "output_type": "execute_result"
    }
   ],
   "source": [
    "classifier.score(X_test, y_test)"
   ]
  },
  {
   "cell_type": "code",
   "execution_count": 24,
   "metadata": {},
   "outputs": [
    {
     "data": {
      "text/plain": [
       "array([[22,  9],\n",
       "       [ 6, 23]])"
      ]
     },
     "execution_count": 24,
     "metadata": {},
     "output_type": "execute_result"
    }
   ],
   "source": [
    "confusion_matrix(y_pred, y_test)"
   ]
  },
  {
   "cell_type": "code",
   "execution_count": 25,
   "metadata": {},
   "outputs": [
    {
     "name": "stdout",
     "output_type": "stream",
     "text": [
      "Confusion matrix, without normalization\n",
      "[[22  6]\n",
      " [ 9 23]]\n",
      "Normalized confusion matrix\n",
      "[[ 0.79  0.21]\n",
      " [ 0.28  0.72]]\n"
     ]
    },
    {
     "data": {
      "image/png": "[encoded data removed]",
      "text/plain": [
       "<matplotlib.figure.Figure at 0x113bd3b38>"
      ]
     },
     "metadata": {},
     "output_type": "display_data"
    },
    {
     "data": {
      "image/png": "[encoded data removed]",
      "text/plain": [
       "<matplotlib.figure.Figure at 0x113c254e0>"
      ]
     },
     "metadata": {},
     "output_type": "display_data"
    }
   ],
   "source": [
    "import itertools\n",
    "def plot_confusion_matrix(cm,\n",
    "                          normalize=False,\n",
    "                          title='Confusion matrix',\n",
    "                          cmap=plt.cm.Blues):\n",
    "    \"\"\"\n",
    "    This function prints and plots the confusion matrix.\n",
    "    Normalization can be applied by setting `normalize=True`.\n",
    "    \"\"\"\n",
    "    if normalize:\n",
    "        cm = cm.astype('float') / cm.sum(axis=1)[:, np.newaxis]\n",
    "        print(\"Normalized confusion matrix\")\n",
    "    else:\n",
    "        print('Confusion matrix, without normalization')\n",
    "\n",
    "    print(cm)\n",
    "\n",
    "    plt.imshow(cm, interpolation='nearest', cmap=cmap)\n",
    "    plt.title(title)\n",
    "    plt.colorbar()\n",
    "#     tick_marks = np.arange(len(classes))\n",
    "#     plt.xticks(tick_marks, classes, rotation=45)\n",
    "#     plt.yticks(tick_marks, classes)\n",
    "\n",
    "    fmt = '.2f' if normalize else 'd'\n",
    "    thresh = cm.max() / 2.\n",
    "    for i, j in itertools.product(range(cm.shape[0]), range(cm.shape[1])):\n",
    "        plt.text(j, i, format(cm[i, j], fmt),\n",
    "                 horizontalalignment=\"center\",\n",
    "                 color=\"white\" if cm[i, j] > thresh else \"black\")\n",
    "\n",
    "    plt.tight_layout()\n",
    "    plt.ylabel('True label')\n",
    "    plt.xlabel('Predicted label')\n",
    "\n",
    "# Compute confusion matrix\n",
    "cnf_matrix = confusion_matrix(y_test, y_pred)\n",
    "np.set_printoptions(precision=2)\n",
    "\n",
    "# Plot non-normalized confusion matrix\n",
    "plt.figure()\n",
    "plot_confusion_matrix(cnf_matrix,\n",
    "                      title='Confusion matrix, without normalization')\n",
    "\n",
    "# Plot normalized confusion matrix\n",
    "plt.figure()\n",
    "plot_confusion_matrix(cnf_matrix,normalize=True,\n",
    "                      title='Normalized confusion matrix')\n",
    "\n",
    "plt.show()"
   ]
  },
  {
   "cell_type": "code",
   "execution_count": 26,
   "metadata": {},
   "outputs": [
    {
     "data": {
      "text/plain": [
       "-0.0044642857142855874"
      ]
     },
     "execution_count": 26,
     "metadata": {},
     "output_type": "execute_result"
    }
   ],
   "source": [
    "r2_score(y_test, y_pred)"
   ]
  },
  {
   "cell_type": "code",
   "execution_count": 27,
   "metadata": {},
   "outputs": [
    {
     "data": {
      "text/plain": [
       "0.25"
      ]
     },
     "execution_count": 27,
     "metadata": {},
     "output_type": "execute_result"
    }
   ],
   "source": [
    "mean_squared_error(y_test, y_pred)"
   ]
  },
  {
   "cell_type": "markdown",
   "metadata": {},
   "source": [
    "# Prediction "
   ]
  },
  {
   "cell_type": "code",
   "execution_count": 28,
   "metadata": {
    "collapsed": true
   },
   "outputs": [],
   "source": [
    "with open('hs300.pickle','rb') as file:\n",
    "    test = pickle.load(file)"
   ]
  },
  {
   "cell_type": "code",
   "execution_count": 29,
   "metadata": {},
   "outputs": [
    {
     "name": "stderr",
     "output_type": "stream",
     "text": [
      "/Users/zi-qinzhou/anaconda/lib/python3.6/site-packages/sklearn/preprocessing/data.py:164: UserWarning: Numerical issues were encountered when centering the data and might not be solved. Dataset may contain too large values. You may need to prescale your features.\n",
      "  warnings.warn(\"Numerical issues were encountered \"\n"
     ]
    },
    {
     "data": {
      "text/plain": [
       "array([[-0.64, -0.55, -0.52, -0.58,  1.2 ,  0.64],\n",
       "       [-0.56, -0.53, -0.52, -0.51,  0.98,  0.53],\n",
       "       [-0.54, -0.55, -0.51, -0.49,  0.22,  0.03],\n",
       "       ..., \n",
       "       [-0.36, -0.39, -0.3 , -0.28, -1.42, -1.26],\n",
       "       [-0.29, -0.38, -0.3 , -0.26, -1.39, -1.18],\n",
       "       [-0.29, -0.37, -0.36, -0.25, -1.42, -1.24]])"
      ]
     },
     "execution_count": 29,
     "metadata": {},
     "output_type": "execute_result"
    }
   ],
   "source": [
    "preprocessing.scale(test)"
   ]
  },
  {
   "cell_type": "code",
   "execution_count": 30,
   "metadata": {},
   "outputs": [
    {
     "data": {
      "text/html": [
       "<div>\n",
       "<table border=\"1\" class=\"dataframe\">\n",
       "  <thead>\n",
       "    <tr style=\"text-align: right;\">\n",
       "      <th></th>\n",
       "      <th>CCI</th>\n",
       "      <th>EVM</th>\n",
       "      <th>SMA</th>\n",
       "      <th>Rate of Change</th>\n",
       "      <th>Lower BollingerBand</th>\n",
       "      <th>ForceIndex</th>\n",
       "      <th>target</th>\n",
       "      <th>train_close</th>\n",
       "    </tr>\n",
       "    <tr>\n",
       "      <th>date</th>\n",
       "      <th></th>\n",
       "      <th></th>\n",
       "      <th></th>\n",
       "      <th></th>\n",
       "      <th></th>\n",
       "      <th></th>\n",
       "      <th></th>\n",
       "      <th></th>\n",
       "    </tr>\n",
       "  </thead>\n",
       "  <tbody>\n",
       "    <tr>\n",
       "      <th>2015-01-12</th>\n",
       "      <td>-105.969604</td>\n",
       "      <td>-8.018640</td>\n",
       "      <td>3580.8814</td>\n",
       "      <td>-0.035140</td>\n",
       "      <td>3463.650104</td>\n",
       "      <td>-3.411127e+12</td>\n",
       "      <td>0</td>\n",
       "      <td>3513.576</td>\n",
       "    </tr>\n",
       "    <tr>\n",
       "      <th>2015-01-13</th>\n",
       "      <td>-62.966672</td>\n",
       "      <td>-8.473673</td>\n",
       "      <td>3555.4776</td>\n",
       "      <td>-0.034885</td>\n",
       "      <td>3448.880974</td>\n",
       "      <td>-2.377211e+12</td>\n",
       "      <td>1</td>\n",
       "      <td>3514.040</td>\n",
       "    </tr>\n",
       "    <tr>\n",
       "      <th>2015-01-14</th>\n",
       "      <td>-57.391363</td>\n",
       "      <td>-9.535103</td>\n",
       "      <td>3527.2042</td>\n",
       "      <td>-0.038797</td>\n",
       "      <td>3478.402298</td>\n",
       "      <td>-2.770970e+12</td>\n",
       "      <td>0</td>\n",
       "      <td>3502.423</td>\n",
       "    </tr>\n",
       "    <tr>\n",
       "      <th>2015-01-15</th>\n",
       "      <td>45.053627</td>\n",
       "      <td>-3.847704</td>\n",
       "      <td>3536.1766</td>\n",
       "      <td>0.012604</td>\n",
       "      <td>3453.304471</td>\n",
       "      <td>1.066874e+12</td>\n",
       "      <td>1</td>\n",
       "      <td>3604.121</td>\n",
       "    </tr>\n",
       "    <tr>\n",
       "      <th>2015-01-16</th>\n",
       "      <td>108.078685</td>\n",
       "      <td>-0.651911</td>\n",
       "      <td>3553.8612</td>\n",
       "      <td>0.024931</td>\n",
       "      <td>3431.436611</td>\n",
       "      <td>2.499556e+12</td>\n",
       "      <td>1</td>\n",
       "      <td>3635.146</td>\n",
       "    </tr>\n",
       "  </tbody>\n",
       "</table>\n",
       "</div>"
      ],
      "text/plain": [
       "                   CCI       EVM        SMA  Rate of Change  \\\n",
       "date                                                          \n",
       "2015-01-12 -105.969604 -8.018640  3580.8814       -0.035140   \n",
       "2015-01-13  -62.966672 -8.473673  3555.4776       -0.034885   \n",
       "2015-01-14  -57.391363 -9.535103  3527.2042       -0.038797   \n",
       "2015-01-15   45.053627 -3.847704  3536.1766        0.012604   \n",
       "2015-01-16  108.078685 -0.651911  3553.8612        0.024931   \n",
       "\n",
       "            Lower BollingerBand    ForceIndex  target  train_close  \n",
       "date                                                                \n",
       "2015-01-12          3463.650104 -3.411127e+12       0     3513.576  \n",
       "2015-01-13          3448.880974 -2.377211e+12       1     3514.040  \n",
       "2015-01-14          3478.402298 -2.770970e+12       0     3502.423  \n",
       "2015-01-15          3453.304471  1.066874e+12       1     3604.121  \n",
       "2015-01-16          3431.436611  2.499556e+12       1     3635.146  "
      ]
     },
     "execution_count": 30,
     "metadata": {},
     "output_type": "execute_result"
    }
   ],
   "source": [
    "final.head()"
   ]
  },
  {
   "cell_type": "code",
   "execution_count": 31,
   "metadata": {
    "collapsed": true
   },
   "outputs": [],
   "source": [
    "start_date = '2015-10-01'"
   ]
  },
  {
   "cell_type": "code",
   "execution_count": 32,
   "metadata": {},
   "outputs": [
    {
     "data": {
      "text/html": [
       "<div>\n",
       "<table border=\"1\" class=\"dataframe\">\n",
       "  <thead>\n",
       "    <tr style=\"text-align: right;\">\n",
       "      <th></th>\n",
       "      <th>train_close</th>\n",
       "    </tr>\n",
       "    <tr>\n",
       "      <th>date</th>\n",
       "      <th></th>\n",
       "    </tr>\n",
       "  </thead>\n",
       "  <tbody>\n",
       "    <tr>\n",
       "      <th>2015-01-12</th>\n",
       "      <td>3513.576</td>\n",
       "    </tr>\n",
       "    <tr>\n",
       "      <th>2015-01-13</th>\n",
       "      <td>3514.040</td>\n",
       "    </tr>\n",
       "    <tr>\n",
       "      <th>2015-01-14</th>\n",
       "      <td>3502.423</td>\n",
       "    </tr>\n",
       "    <tr>\n",
       "      <th>2015-01-15</th>\n",
       "      <td>3604.121</td>\n",
       "    </tr>\n",
       "    <tr>\n",
       "      <th>2015-01-16</th>\n",
       "      <td>3635.146</td>\n",
       "    </tr>\n",
       "  </tbody>\n",
       "</table>\n",
       "</div>"
      ],
      "text/plain": [
       "            train_close\n",
       "date                   \n",
       "2015-01-12     3513.576\n",
       "2015-01-13     3514.040\n",
       "2015-01-14     3502.423\n",
       "2015-01-15     3604.121\n",
       "2015-01-16     3635.146"
      ]
     },
     "execution_count": 32,
     "metadata": {},
     "output_type": "execute_result"
    }
   ],
   "source": [
    "y2 = final.drop(['CCI','EVM','Rate of Change','Lower BollingerBand', 'ForceIndex','SMA','target'], axis=1)\n",
    "y2.head()"
   ]
  },
  {
   "cell_type": "code",
   "execution_count": 33,
   "metadata": {},
   "outputs": [
    {
     "data": {
      "text/html": [
       "<div>\n",
       "<table border=\"1\" class=\"dataframe\">\n",
       "  <thead>\n",
       "    <tr style=\"text-align: right;\">\n",
       "      <th></th>\n",
       "      <th>CCI</th>\n",
       "      <th>EVM</th>\n",
       "      <th>SMA</th>\n",
       "      <th>Rate of Change</th>\n",
       "      <th>Lower BollingerBand</th>\n",
       "      <th>ForceIndex</th>\n",
       "    </tr>\n",
       "    <tr>\n",
       "      <th>date</th>\n",
       "      <th></th>\n",
       "      <th></th>\n",
       "      <th></th>\n",
       "      <th></th>\n",
       "      <th></th>\n",
       "      <th></th>\n",
       "    </tr>\n",
       "  </thead>\n",
       "  <tbody>\n",
       "    <tr>\n",
       "      <th>2015-09-24</th>\n",
       "      <td>-10.153031</td>\n",
       "      <td>-1.735417</td>\n",
       "      <td>3289.3154</td>\n",
       "      <td>0.014829</td>\n",
       "      <td>3218.697910</td>\n",
       "      <td>4.896540e+11</td>\n",
       "    </tr>\n",
       "    <tr>\n",
       "      <th>2015-09-25</th>\n",
       "      <td>-79.793565</td>\n",
       "      <td>-2.294854</td>\n",
       "      <td>3285.4510</td>\n",
       "      <td>-0.005943</td>\n",
       "      <td>3203.258469</td>\n",
       "      <td>-2.346063e+11</td>\n",
       "    </tr>\n",
       "    <tr>\n",
       "      <th>2015-09-28</th>\n",
       "      <td>-72.542749</td>\n",
       "      <td>-8.418229</td>\n",
       "      <td>3272.3520</td>\n",
       "      <td>-0.019797</td>\n",
       "      <td>3187.491879</td>\n",
       "      <td>-4.861004e+11</td>\n",
       "    </tr>\n",
       "    <tr>\n",
       "      <th>2015-09-29</th>\n",
       "      <td>-97.232991</td>\n",
       "      <td>-19.139505</td>\n",
       "      <td>3240.3168</td>\n",
       "      <td>-0.047971</td>\n",
       "      <td>3160.530271</td>\n",
       "      <td>-1.395944e+12</td>\n",
       "    </tr>\n",
       "    <tr>\n",
       "      <th>2015-09-30</th>\n",
       "      <td>-39.663326</td>\n",
       "      <td>-11.742948</td>\n",
       "      <td>3228.3008</td>\n",
       "      <td>-0.018412</td>\n",
       "      <td>3147.525819</td>\n",
       "      <td>-4.719846e+11</td>\n",
       "    </tr>\n",
       "  </tbody>\n",
       "</table>\n",
       "</div>"
      ],
      "text/plain": [
       "                  CCI        EVM        SMA  Rate of Change  \\\n",
       "date                                                          \n",
       "2015-09-24 -10.153031  -1.735417  3289.3154        0.014829   \n",
       "2015-09-25 -79.793565  -2.294854  3285.4510       -0.005943   \n",
       "2015-09-28 -72.542749  -8.418229  3272.3520       -0.019797   \n",
       "2015-09-29 -97.232991 -19.139505  3240.3168       -0.047971   \n",
       "2015-09-30 -39.663326 -11.742948  3228.3008       -0.018412   \n",
       "\n",
       "            Lower BollingerBand    ForceIndex  \n",
       "date                                           \n",
       "2015-09-24          3218.697910  4.896540e+11  \n",
       "2015-09-25          3203.258469 -2.346063e+11  \n",
       "2015-09-28          3187.491879 -4.861004e+11  \n",
       "2015-09-29          3160.530271 -1.395944e+12  \n",
       "2015-09-30          3147.525819 -4.719846e+11  "
      ]
     },
     "execution_count": 33,
     "metadata": {},
     "output_type": "execute_result"
    }
   ],
   "source": [
    "x2_train = X[X.index < start_date]\n",
    "x2_train.tail()"
   ]
  },
  {
   "cell_type": "code",
   "execution_count": 34,
   "metadata": {},
   "outputs": [
    {
     "data": {
      "text/html": [
       "<div>\n",
       "<table border=\"1\" class=\"dataframe\">\n",
       "  <thead>\n",
       "    <tr style=\"text-align: right;\">\n",
       "      <th></th>\n",
       "      <th>CCI</th>\n",
       "      <th>EVM</th>\n",
       "      <th>SMA</th>\n",
       "      <th>Rate of Change</th>\n",
       "      <th>Lower BollingerBand</th>\n",
       "      <th>ForceIndex</th>\n",
       "    </tr>\n",
       "    <tr>\n",
       "      <th>date</th>\n",
       "      <th></th>\n",
       "      <th></th>\n",
       "      <th></th>\n",
       "      <th></th>\n",
       "      <th></th>\n",
       "      <th></th>\n",
       "    </tr>\n",
       "  </thead>\n",
       "  <tbody>\n",
       "    <tr>\n",
       "      <th>2015-10-08</th>\n",
       "      <td>105.835813</td>\n",
       "      <td>-4.034310</td>\n",
       "      <td>3230.5974</td>\n",
       "      <td>0.003496</td>\n",
       "      <td>3141.534412</td>\n",
       "      <td>1.516695e+11</td>\n",
       "    </tr>\n",
       "    <tr>\n",
       "      <th>2015-10-09</th>\n",
       "      <td>80.471580</td>\n",
       "      <td>1.329778</td>\n",
       "      <td>3252.2304</td>\n",
       "      <td>0.033467</td>\n",
       "      <td>3119.622806</td>\n",
       "      <td>1.345059e+12</td>\n",
       "    </tr>\n",
       "    <tr>\n",
       "      <th>2015-10-12</th>\n",
       "      <td>91.576915</td>\n",
       "      <td>17.966904</td>\n",
       "      <td>3293.2186</td>\n",
       "      <td>0.063200</td>\n",
       "      <td>3075.732051</td>\n",
       "      <td>4.537403e+12</td>\n",
       "    </tr>\n",
       "    <tr>\n",
       "      <th>2015-10-13</th>\n",
       "      <td>66.807236</td>\n",
       "      <td>22.524810</td>\n",
       "      <td>3346.4564</td>\n",
       "      <td>0.083737</td>\n",
       "      <td>3138.849875</td>\n",
       "      <td>3.871288e+12</td>\n",
       "    </tr>\n",
       "    <tr>\n",
       "      <th>2015-10-14</th>\n",
       "      <td>41.305199</td>\n",
       "      <td>20.332971</td>\n",
       "      <td>3387.0892</td>\n",
       "      <td>0.063430</td>\n",
       "      <td>3253.637049</td>\n",
       "      <td>3.091627e+12</td>\n",
       "    </tr>\n",
       "  </tbody>\n",
       "</table>\n",
       "</div>"
      ],
      "text/plain": [
       "                   CCI        EVM        SMA  Rate of Change  \\\n",
       "date                                                           \n",
       "2015-10-08  105.835813  -4.034310  3230.5974        0.003496   \n",
       "2015-10-09   80.471580   1.329778  3252.2304        0.033467   \n",
       "2015-10-12   91.576915  17.966904  3293.2186        0.063200   \n",
       "2015-10-13   66.807236  22.524810  3346.4564        0.083737   \n",
       "2015-10-14   41.305199  20.332971  3387.0892        0.063430   \n",
       "\n",
       "            Lower BollingerBand    ForceIndex  \n",
       "date                                           \n",
       "2015-10-08          3141.534412  1.516695e+11  \n",
       "2015-10-09          3119.622806  1.345059e+12  \n",
       "2015-10-12          3075.732051  4.537403e+12  \n",
       "2015-10-13          3138.849875  3.871288e+12  \n",
       "2015-10-14          3253.637049  3.091627e+12  "
      ]
     },
     "execution_count": 34,
     "metadata": {},
     "output_type": "execute_result"
    }
   ],
   "source": [
    "x2_test = X[X.index >= start_date]\n",
    "x2_test.head()"
   ]
  },
  {
   "cell_type": "code",
   "execution_count": 35,
   "metadata": {},
   "outputs": [
    {
     "data": {
      "text/html": [
       "<div>\n",
       "<table border=\"1\" class=\"dataframe\">\n",
       "  <thead>\n",
       "    <tr style=\"text-align: right;\">\n",
       "      <th></th>\n",
       "      <th>train_close</th>\n",
       "    </tr>\n",
       "    <tr>\n",
       "      <th>date</th>\n",
       "      <th></th>\n",
       "    </tr>\n",
       "  </thead>\n",
       "  <tbody>\n",
       "    <tr>\n",
       "      <th>2015-09-24</th>\n",
       "      <td>3284.999</td>\n",
       "    </tr>\n",
       "    <tr>\n",
       "      <th>2015-09-25</th>\n",
       "      <td>3231.951</td>\n",
       "    </tr>\n",
       "    <tr>\n",
       "      <th>2015-09-28</th>\n",
       "      <td>3242.752</td>\n",
       "    </tr>\n",
       "    <tr>\n",
       "      <th>2015-09-29</th>\n",
       "      <td>3178.854</td>\n",
       "    </tr>\n",
       "    <tr>\n",
       "      <th>2015-09-30</th>\n",
       "      <td>3202.948</td>\n",
       "    </tr>\n",
       "  </tbody>\n",
       "</table>\n",
       "</div>"
      ],
      "text/plain": [
       "            train_close\n",
       "date                   \n",
       "2015-09-24     3284.999\n",
       "2015-09-25     3231.951\n",
       "2015-09-28     3242.752\n",
       "2015-09-29     3178.854\n",
       "2015-09-30     3202.948"
      ]
     },
     "execution_count": 35,
     "metadata": {},
     "output_type": "execute_result"
    }
   ],
   "source": [
    "y2_train = y2[y2.index < start_date]\n",
    "y2_train.tail()"
   ]
  },
  {
   "cell_type": "code",
   "execution_count": 36,
   "metadata": {},
   "outputs": [
    {
     "data": {
      "text/html": [
       "<div>\n",
       "<table border=\"1\" class=\"dataframe\">\n",
       "  <thead>\n",
       "    <tr style=\"text-align: right;\">\n",
       "      <th></th>\n",
       "      <th>train_close</th>\n",
       "    </tr>\n",
       "    <tr>\n",
       "      <th>date</th>\n",
       "      <th></th>\n",
       "    </tr>\n",
       "  </thead>\n",
       "  <tbody>\n",
       "    <tr>\n",
       "      <th>2015-10-08</th>\n",
       "      <td>3296.482</td>\n",
       "    </tr>\n",
       "    <tr>\n",
       "      <th>2015-10-09</th>\n",
       "      <td>3340.116</td>\n",
       "    </tr>\n",
       "    <tr>\n",
       "      <th>2015-10-12</th>\n",
       "      <td>3447.693</td>\n",
       "    </tr>\n",
       "    <tr>\n",
       "      <th>2015-10-13</th>\n",
       "      <td>3445.043</td>\n",
       "    </tr>\n",
       "    <tr>\n",
       "      <th>2015-10-14</th>\n",
       "      <td>3406.112</td>\n",
       "    </tr>\n",
       "  </tbody>\n",
       "</table>\n",
       "</div>"
      ],
      "text/plain": [
       "            train_close\n",
       "date                   \n",
       "2015-10-08     3296.482\n",
       "2015-10-09     3340.116\n",
       "2015-10-12     3447.693\n",
       "2015-10-13     3445.043\n",
       "2015-10-14     3406.112"
      ]
     },
     "execution_count": 36,
     "metadata": {},
     "output_type": "execute_result"
    }
   ],
   "source": [
    "y2_test = y2[y2.index >= start_date]\n",
    "y2_test.head()"
   ]
  },
  {
   "cell_type": "markdown",
   "metadata": {},
   "source": [
    "## Grid Search for Ridge Regression"
   ]
  },
  {
   "cell_type": "code",
   "execution_count": 37,
   "metadata": {},
   "outputs": [
    {
     "name": "stderr",
     "output_type": "stream",
     "text": [
      "/Users/zi-qinzhou/anaconda/lib/python3.6/site-packages/scipy/linalg/basic.py:40: RuntimeWarning: scipy.linalg.solve\n",
      "Ill-conditioned matrix detected. Result is not guaranteed to be accurate.\n",
      "Reciprocal condition number/precision: 7.048392383449219e-29 / 1.1102230246251565e-16\n",
      "  RuntimeWarning)\n",
      "/Users/zi-qinzhou/anaconda/lib/python3.6/site-packages/scipy/linalg/basic.py:40: RuntimeWarning: scipy.linalg.solve\n",
      "Ill-conditioned matrix detected. Result is not guaranteed to be accurate.\n",
      "Reciprocal condition number/precision: 7.01806073384226e-29 / 1.1102230246251565e-16\n",
      "  RuntimeWarning)\n",
      "/Users/zi-qinzhou/anaconda/lib/python3.6/site-packages/scipy/linalg/basic.py:40: RuntimeWarning: scipy.linalg.solve\n",
      "Ill-conditioned matrix detected. Result is not guaranteed to be accurate.\n",
      "Reciprocal condition number/precision: 7.366671053773139e-29 / 1.1102230246251565e-16\n",
      "  RuntimeWarning)\n",
      "/Users/zi-qinzhou/anaconda/lib/python3.6/site-packages/scipy/linalg/basic.py:40: RuntimeWarning: scipy.linalg.solve\n",
      "Ill-conditioned matrix detected. Result is not guaranteed to be accurate.\n",
      "Reciprocal condition number/precision: 7.814321084960499e-29 / 1.1102230246251565e-16\n",
      "  RuntimeWarning)\n",
      "/Users/zi-qinzhou/anaconda/lib/python3.6/site-packages/scipy/linalg/basic.py:40: RuntimeWarning: scipy.linalg.solve\n",
      "Ill-conditioned matrix detected. Result is not guaranteed to be accurate.\n",
      "Reciprocal condition number/precision: 7.7842366293408e-29 / 1.1102230246251565e-16\n",
      "  RuntimeWarning)\n",
      "/Users/zi-qinzhou/anaconda/lib/python3.6/site-packages/scipy/linalg/basic.py:40: RuntimeWarning: scipy.linalg.solve\n",
      "Ill-conditioned matrix detected. Result is not guaranteed to be accurate.\n",
      "Reciprocal condition number/precision: 8.207363940724516e-29 / 1.1102230246251565e-16\n",
      "  RuntimeWarning)\n",
      "/Users/zi-qinzhou/anaconda/lib/python3.6/site-packages/scipy/linalg/basic.py:40: RuntimeWarning: scipy.linalg.solve\n",
      "Ill-conditioned matrix detected. Result is not guaranteed to be accurate.\n",
      "Reciprocal condition number/precision: 1.2055484440977797e-28 / 1.1102230246251565e-16\n",
      "  RuntimeWarning)\n",
      "/Users/zi-qinzhou/anaconda/lib/python3.6/site-packages/scipy/linalg/basic.py:40: RuntimeWarning: scipy.linalg.solve\n",
      "Ill-conditioned matrix detected. Result is not guaranteed to be accurate.\n",
      "Reciprocal condition number/precision: 7.31527425049118e-29 / 1.1102230246251565e-16\n",
      "  RuntimeWarning)\n",
      "/Users/zi-qinzhou/anaconda/lib/python3.6/site-packages/scipy/linalg/basic.py:40: RuntimeWarning: scipy.linalg.solve\n",
      "Ill-conditioned matrix detected. Result is not guaranteed to be accurate.\n",
      "Reciprocal condition number/precision: 7.972130995367495e-29 / 1.1102230246251565e-16\n",
      "  RuntimeWarning)\n",
      "/Users/zi-qinzhou/anaconda/lib/python3.6/site-packages/scipy/linalg/basic.py:40: RuntimeWarning: scipy.linalg.solve\n",
      "Ill-conditioned matrix detected. Result is not guaranteed to be accurate.\n",
      "Reciprocal condition number/precision: 6.992287433615572e-29 / 1.1102230246251565e-16\n",
      "  RuntimeWarning)\n",
      "/Users/zi-qinzhou/anaconda/lib/python3.6/site-packages/scipy/linalg/basic.py:40: RuntimeWarning: scipy.linalg.solve\n",
      "Ill-conditioned matrix detected. Result is not guaranteed to be accurate.\n",
      "Reciprocal condition number/precision: 6.484584065607068e-29 / 1.1102230246251565e-16\n",
      "  RuntimeWarning)\n",
      "/Users/zi-qinzhou/anaconda/lib/python3.6/site-packages/scipy/linalg/basic.py:40: RuntimeWarning: scipy.linalg.solve\n",
      "Ill-conditioned matrix detected. Result is not guaranteed to be accurate.\n",
      "Reciprocal condition number/precision: 6.458280157771851e-29 / 1.1102230246251565e-16\n",
      "  RuntimeWarning)\n",
      "/Users/zi-qinzhou/anaconda/lib/python3.6/site-packages/scipy/linalg/basic.py:40: RuntimeWarning: scipy.linalg.solve\n",
      "Ill-conditioned matrix detected. Result is not guaranteed to be accurate.\n",
      "Reciprocal condition number/precision: 6.77845131673704e-29 / 1.1102230246251565e-16\n",
      "  RuntimeWarning)\n",
      "/Users/zi-qinzhou/anaconda/lib/python3.6/site-packages/scipy/linalg/basic.py:40: RuntimeWarning: scipy.linalg.solve\n",
      "Ill-conditioned matrix detected. Result is not guaranteed to be accurate.\n",
      "Reciprocal condition number/precision: 7.191678028491053e-29 / 1.1102230246251565e-16\n",
      "  RuntimeWarning)\n",
      "/Users/zi-qinzhou/anaconda/lib/python3.6/site-packages/scipy/linalg/basic.py:40: RuntimeWarning: scipy.linalg.solve\n",
      "Ill-conditioned matrix detected. Result is not guaranteed to be accurate.\n",
      "Reciprocal condition number/precision: 7.163678751286032e-29 / 1.1102230246251565e-16\n",
      "  RuntimeWarning)\n",
      "/Users/zi-qinzhou/anaconda/lib/python3.6/site-packages/scipy/linalg/basic.py:40: RuntimeWarning: scipy.linalg.solve\n",
      "Ill-conditioned matrix detected. Result is not guaranteed to be accurate.\n",
      "Reciprocal condition number/precision: 7.552068330421095e-29 / 1.1102230246251565e-16\n",
      "  RuntimeWarning)\n",
      "/Users/zi-qinzhou/anaconda/lib/python3.6/site-packages/scipy/linalg/basic.py:40: RuntimeWarning: scipy.linalg.solve\n",
      "Ill-conditioned matrix detected. Result is not guaranteed to be accurate.\n",
      "Reciprocal condition number/precision: 1.1076718035293958e-28 / 1.1102230246251565e-16\n",
      "  RuntimeWarning)\n",
      "/Users/zi-qinzhou/anaconda/lib/python3.6/site-packages/scipy/linalg/basic.py:40: RuntimeWarning: scipy.linalg.solve\n",
      "Ill-conditioned matrix detected. Result is not guaranteed to be accurate.\n",
      "Reciprocal condition number/precision: 6.731351408932266e-29 / 1.1102230246251565e-16\n",
      "  RuntimeWarning)\n",
      "/Users/zi-qinzhou/anaconda/lib/python3.6/site-packages/scipy/linalg/basic.py:40: RuntimeWarning: scipy.linalg.solve\n",
      "Ill-conditioned matrix detected. Result is not guaranteed to be accurate.\n",
      "Reciprocal condition number/precision: 7.324797027946809e-29 / 1.1102230246251565e-16\n",
      "  RuntimeWarning)\n",
      "/Users/zi-qinzhou/anaconda/lib/python3.6/site-packages/scipy/linalg/basic.py:40: RuntimeWarning: scipy.linalg.solve\n",
      "Ill-conditioned matrix detected. Result is not guaranteed to be accurate.\n",
      "Reciprocal condition number/precision: 6.433733874717395e-29 / 1.1102230246251565e-16\n",
      "  RuntimeWarning)\n",
      "/Users/zi-qinzhou/anaconda/lib/python3.6/site-packages/scipy/linalg/basic.py:40: RuntimeWarning: scipy.linalg.solve\n",
      "Ill-conditioned matrix detected. Result is not guaranteed to be accurate.\n",
      "Reciprocal condition number/precision: 5.920775750381273e-29 / 1.1102230246251565e-16\n",
      "  RuntimeWarning)\n",
      "/Users/zi-qinzhou/anaconda/lib/python3.6/site-packages/scipy/linalg/basic.py:40: RuntimeWarning: scipy.linalg.solve\n",
      "Ill-conditioned matrix detected. Result is not guaranteed to be accurate.\n",
      "Reciprocal condition number/precision: 5.898499584234815e-29 / 1.1102230246251565e-16\n",
      "  RuntimeWarning)\n",
      "/Users/zi-qinzhou/anaconda/lib/python3.6/site-packages/scipy/linalg/basic.py:40: RuntimeWarning: scipy.linalg.solve\n",
      "Ill-conditioned matrix detected. Result is not guaranteed to be accurate.\n",
      "Reciprocal condition number/precision: 6.190231582445807e-29 / 1.1102230246251565e-16\n",
      "  RuntimeWarning)\n",
      "/Users/zi-qinzhou/anaconda/lib/python3.6/site-packages/scipy/linalg/basic.py:40: RuntimeWarning: scipy.linalg.solve\n",
      "Ill-conditioned matrix detected. Result is not guaranteed to be accurate.\n",
      "Reciprocal condition number/precision: 6.569034974943313e-29 / 1.1102230246251565e-16\n",
      "  RuntimeWarning)\n",
      "/Users/zi-qinzhou/anaconda/lib/python3.6/site-packages/scipy/linalg/basic.py:40: RuntimeWarning: scipy.linalg.solve\n",
      "Ill-conditioned matrix detected. Result is not guaranteed to be accurate.\n",
      "Reciprocal condition number/precision: 6.543120876245194e-29 / 1.1102230246251565e-16\n",
      "  RuntimeWarning)\n",
      "/Users/zi-qinzhou/anaconda/lib/python3.6/site-packages/scipy/linalg/basic.py:40: RuntimeWarning: scipy.linalg.solve\n",
      "Ill-conditioned matrix detected. Result is not guaranteed to be accurate.\n",
      "Reciprocal condition number/precision: 6.896772722814153e-29 / 1.1102230246251565e-16\n",
      "  RuntimeWarning)\n",
      "/Users/zi-qinzhou/anaconda/lib/python3.6/site-packages/scipy/linalg/basic.py:40: RuntimeWarning: scipy.linalg.solve\n",
      "Ill-conditioned matrix detected. Result is not guaranteed to be accurate.\n",
      "Reciprocal condition number/precision: 1.0097951640873967e-28 / 1.1102230246251565e-16\n",
      "  RuntimeWarning)\n",
      "/Users/zi-qinzhou/anaconda/lib/python3.6/site-packages/scipy/linalg/basic.py:40: RuntimeWarning: scipy.linalg.solve\n",
      "Ill-conditioned matrix detected. Result is not guaranteed to be accurate.\n",
      "Reciprocal condition number/precision: 6.147428570551088e-29 / 1.1102230246251565e-16\n",
      "  RuntimeWarning)\n",
      "/Users/zi-qinzhou/anaconda/lib/python3.6/site-packages/scipy/linalg/basic.py:40: RuntimeWarning: scipy.linalg.solve\n",
      "Ill-conditioned matrix detected. Result is not guaranteed to be accurate.\n",
      "Reciprocal condition number/precision: 6.677463062503093e-29 / 1.1102230246251565e-16\n",
      "  RuntimeWarning)\n",
      "/Users/zi-qinzhou/anaconda/lib/python3.6/site-packages/scipy/linalg/basic.py:40: RuntimeWarning: scipy.linalg.solve\n",
      "Ill-conditioned matrix detected. Result is not guaranteed to be accurate.\n",
      "Reciprocal condition number/precision: 5.875180318547297e-29 / 1.1102230246251565e-16\n",
      "  RuntimeWarning)\n",
      "/Users/zi-qinzhou/anaconda/lib/python3.6/site-packages/scipy/linalg/basic.py:40: RuntimeWarning: scipy.linalg.solve\n",
      "Ill-conditioned matrix detected. Result is not guaranteed to be accurate.\n",
      "Reciprocal condition number/precision: 5.356967437771852e-29 / 1.1102230246251565e-16\n",
      "  RuntimeWarning)\n",
      "/Users/zi-qinzhou/anaconda/lib/python3.6/site-packages/scipy/linalg/basic.py:40: RuntimeWarning: scipy.linalg.solve\n",
      "Ill-conditioned matrix detected. Result is not guaranteed to be accurate.\n",
      "Reciprocal condition number/precision: 5.338719013231175e-29 / 1.1102230246251565e-16\n",
      "  RuntimeWarning)\n",
      "/Users/zi-qinzhou/anaconda/lib/python3.6/site-packages/scipy/linalg/basic.py:40: RuntimeWarning: scipy.linalg.solve\n",
      "Ill-conditioned matrix detected. Result is not guaranteed to be accurate.\n",
      "Reciprocal condition number/precision: 5.602011850899468e-29 / 1.1102230246251565e-16\n",
      "  RuntimeWarning)\n",
      "/Users/zi-qinzhou/anaconda/lib/python3.6/site-packages/scipy/linalg/basic.py:40: RuntimeWarning: scipy.linalg.solve\n",
      "Ill-conditioned matrix detected. Result is not guaranteed to be accurate.\n",
      "Reciprocal condition number/precision: 5.94639192431732e-29 / 1.1102230246251565e-16\n",
      "  RuntimeWarning)\n",
      "/Users/zi-qinzhou/anaconda/lib/python3.6/site-packages/scipy/linalg/basic.py:40: RuntimeWarning: scipy.linalg.solve\n",
      "Ill-conditioned matrix detected. Result is not guaranteed to be accurate.\n",
      "Reciprocal condition number/precision: 5.922563004218325e-29 / 1.1102230246251565e-16\n",
      "  RuntimeWarning)\n",
      "/Users/zi-qinzhou/anaconda/lib/python3.6/site-packages/scipy/linalg/basic.py:40: RuntimeWarning: scipy.linalg.solve\n",
      "Ill-conditioned matrix detected. Result is not guaranteed to be accurate.\n",
      "Reciprocal condition number/precision: 6.241477117903722e-29 / 1.1102230246251565e-16\n",
      "  RuntimeWarning)\n",
      "/Users/zi-qinzhou/anaconda/lib/python3.6/site-packages/scipy/linalg/basic.py:40: RuntimeWarning: scipy.linalg.solve\n",
      "Ill-conditioned matrix detected. Result is not guaranteed to be accurate.\n",
      "Reciprocal condition number/precision: 9.119185257718011e-29 / 1.1102230246251565e-16\n",
      "  RuntimeWarning)\n",
      "/Users/zi-qinzhou/anaconda/lib/python3.6/site-packages/scipy/linalg/basic.py:40: RuntimeWarning: scipy.linalg.solve\n",
      "Ill-conditioned matrix detected. Result is not guaranteed to be accurate.\n",
      "Reciprocal condition number/precision: 5.563505735347675e-29 / 1.1102230246251565e-16\n",
      "  RuntimeWarning)\n",
      "/Users/zi-qinzhou/anaconda/lib/python3.6/site-packages/scipy/linalg/basic.py:40: RuntimeWarning: scipy.linalg.solve\n",
      "Ill-conditioned matrix detected. Result is not guaranteed to be accurate.\n",
      "Reciprocal condition number/precision: 6.030129099036383e-29 / 1.1102230246251565e-16\n",
      "  RuntimeWarning)\n",
      "/Users/zi-qinzhou/anaconda/lib/python3.6/site-packages/scipy/linalg/basic.py:40: RuntimeWarning: scipy.linalg.solve\n",
      "Ill-conditioned matrix detected. Result is not guaranteed to be accurate.\n",
      "Reciprocal condition number/precision: 5.316626765105301e-29 / 1.1102230246251565e-16\n",
      "  RuntimeWarning)\n",
      "/Users/zi-qinzhou/anaconda/lib/python3.6/site-packages/scipy/linalg/basic.py:40: RuntimeWarning: scipy.linalg.solve\n",
      "Ill-conditioned matrix detected. Result is not guaranteed to be accurate.\n",
      "Reciprocal condition number/precision: 4.7931591277788385e-29 / 1.1102230246251565e-16\n",
      "  RuntimeWarning)\n",
      "/Users/zi-qinzhou/anaconda/lib/python3.6/site-packages/scipy/linalg/basic.py:40: RuntimeWarning: scipy.linalg.solve\n",
      "Ill-conditioned matrix detected. Result is not guaranteed to be accurate.\n",
      "Reciprocal condition number/precision: 4.778938444760953e-29 / 1.1102230246251565e-16\n",
      "  RuntimeWarning)\n",
      "/Users/zi-qinzhou/anaconda/lib/python3.6/site-packages/scipy/linalg/basic.py:40: RuntimeWarning: scipy.linalg.solve\n",
      "Ill-conditioned matrix detected. Result is not guaranteed to be accurate.\n",
      "Reciprocal condition number/precision: 5.013792122098041e-29 / 1.1102230246251565e-16\n",
      "  RuntimeWarning)\n",
      "/Users/zi-qinzhou/anaconda/lib/python3.6/site-packages/scipy/linalg/basic.py:40: RuntimeWarning: scipy.linalg.solve\n",
      "Ill-conditioned matrix detected. Result is not guaranteed to be accurate.\n",
      "Reciprocal condition number/precision: 5.323748876613094e-29 / 1.1102230246251565e-16\n",
      "  RuntimeWarning)\n",
      "/Users/zi-qinzhou/anaconda/lib/python3.6/site-packages/scipy/linalg/basic.py:40: RuntimeWarning: scipy.linalg.solve\n",
      "Ill-conditioned matrix detected. Result is not guaranteed to be accurate.\n",
      "Reciprocal condition number/precision: 5.302005135205441e-29 / 1.1102230246251565e-16\n",
      "  RuntimeWarning)\n",
      "/Users/zi-qinzhou/anaconda/lib/python3.6/site-packages/scipy/linalg/basic.py:40: RuntimeWarning: scipy.linalg.solve\n",
      "Ill-conditioned matrix detected. Result is not guaranteed to be accurate.\n",
      "Reciprocal condition number/precision: 5.586181515689825e-29 / 1.1102230246251565e-16\n",
      "  RuntimeWarning)\n",
      "/Users/zi-qinzhou/anaconda/lib/python3.6/site-packages/scipy/linalg/basic.py:40: RuntimeWarning: scipy.linalg.solve\n",
      "Ill-conditioned matrix detected. Result is not guaranteed to be accurate.\n",
      "Reciprocal condition number/precision: 8.140418885826249e-29 / 1.1102230246251565e-16\n",
      "  RuntimeWarning)\n",
      "/Users/zi-qinzhou/anaconda/lib/python3.6/site-packages/scipy/linalg/basic.py:40: RuntimeWarning: scipy.linalg.solve\n",
      "Ill-conditioned matrix detected. Result is not guaranteed to be accurate.\n",
      "Reciprocal condition number/precision: 4.979582903322059e-29 / 1.1102230246251565e-16\n",
      "  RuntimeWarning)\n",
      "/Users/zi-qinzhou/anaconda/lib/python3.6/site-packages/scipy/linalg/basic.py:40: RuntimeWarning: scipy.linalg.solve\n",
      "Ill-conditioned matrix detected. Result is not guaranteed to be accurate.\n",
      "Reciprocal condition number/precision: 5.382795137546696e-29 / 1.1102230246251565e-16\n",
      "  RuntimeWarning)\n",
      "/Users/zi-qinzhou/anaconda/lib/python3.6/site-packages/scipy/linalg/basic.py:40: RuntimeWarning: scipy.linalg.solve\n",
      "Ill-conditioned matrix detected. Result is not guaranteed to be accurate.\n",
      "Reciprocal condition number/precision: 4.758073214391436e-29 / 1.1102230246251565e-16\n",
      "  RuntimeWarning)\n",
      "/Users/zi-qinzhou/anaconda/lib/python3.6/site-packages/scipy/linalg/basic.py:40: RuntimeWarning: scipy.linalg.solve\n",
      "Ill-conditioned matrix detected. Result is not guaranteed to be accurate.\n",
      "Reciprocal condition number/precision: 7.006660383817118e-29 / 1.1102230246251565e-16\n",
      "  RuntimeWarning)\n"
     ]
    },
    {
     "data": {
      "text/plain": [
       "GridSearchCV(cv=10, error_score='raise',\n",
       "       estimator=Ridge(alpha=1.0, copy_X=True, fit_intercept=True, max_iter=None,\n",
       "   normalize=False, random_state=None, solver='auto', tol=0.001),\n",
       "       fit_params=None, iid=True, n_jobs=1,\n",
       "       param_grid=[{'alpha': [1.2, 1.1, 1.0, 0.9, 0.8]}],\n",
       "       pre_dispatch='2*n_jobs', refit=True, return_train_score='warn',\n",
       "       scoring=None, verbose=0)"
      ]
     },
     "execution_count": 37,
     "metadata": {},
     "output_type": "execute_result"
    }
   ],
   "source": [
    "para_list = [{'alpha': [1.2, 1.1, 1.0, 0.9, 0.8]}]\n",
    "model_2 = GridSearchCV(Ridge(), para_list, cv=10)\n",
    "model_2.fit(x2_train,y2_train)"
   ]
  },
  {
   "cell_type": "code",
   "execution_count": 38,
   "metadata": {
    "collapsed": true
   },
   "outputs": [],
   "source": [
    "y2_pred = model_2.predict(x2_test)"
   ]
  },
  {
   "cell_type": "code",
   "execution_count": 39,
   "metadata": {},
   "outputs": [
    {
     "data": {
      "text/plain": [
       "0.93918753344689399"
      ]
     },
     "execution_count": 39,
     "metadata": {},
     "output_type": "execute_result"
    }
   ],
   "source": [
    "r2_score(y2_test, y2_pred)"
   ]
  },
  {
   "cell_type": "markdown",
   "metadata": {},
   "source": [
    "### Blue line is the true value for the stockmarket\n",
    "### Yellow line is the predicted value"
   ]
  },
  {
   "cell_type": "code",
   "execution_count": 40,
   "metadata": {},
   "outputs": [
    {
     "data": {
      "image/png": "[encoded data removed]",
      "text/plain": [
       "<matplotlib.figure.Figure at 0x113c17080>"
      ]
     },
     "metadata": {},
     "output_type": "display_data"
    }
   ],
   "source": [
    "result = pd.DataFrame(index = y2_test.index)\n",
    "result['True Price'] = y2_test\n",
    "result['Pred Price'] = y2_pred\n",
    "result.plot(figsize = (20,9),grid = True)\n",
    "plt.show()"
   ]
  },
  {
   "cell_type": "code",
   "execution_count": null,
   "metadata": {
    "collapsed": true
   },
   "outputs": [],
   "source": []
  }
 ],
 "metadata": {
  "kernelspec": {
   "display_name": "Python 3",
   "language": "python",
   "name": "python3"
  },
  "language_info": {
   "codemirror_mode": {
    "name": "ipython",
    "version": 3
   },
   "file_extension": ".py",
   "mimetype": "text/x-python",
   "name": "python",
   "nbconvert_exporter": "python",
   "pygments_lexer": "ipython3",
   "version": "3.6.1"
  }
 },
 "nbformat": 4,
 "nbformat_minor": 2
}
