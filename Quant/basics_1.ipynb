{
 "cells": [
  {
   "cell_type": "code",
   "execution_count": 1,
   "metadata": {
    "collapsed": true
   },
   "outputs": [],
   "source": [
    "import datetime as dt\n",
    "import matplotlib.pyplot as plt\n",
    "import pandas as pd\n",
    "import pandas_datareader as pdr\n",
    "from matplotlib import style"
   ]
  },
  {
   "cell_type": "code",
   "execution_count": 2,
   "metadata": {
    "collapsed": true
   },
   "outputs": [],
   "source": [
    "start = dt.datetime(2015,1,1)\n",
    "end = dt.datetime(2017,12,31)\n",
    "tsla = pdr.DataReader('TSLA','yahoo',start,end)"
   ]
  },
  {
   "cell_type": "code",
   "execution_count": 3,
   "metadata": {},
   "outputs": [
    {
     "data": {
      "text/plain": [
       "pandas.core.frame.DataFrame"
      ]
     },
     "execution_count": 3,
     "metadata": {},
     "output_type": "execute_result"
    }
   ],
   "source": [
    "type(tsla)"
   ]
  },
  {
   "cell_type": "code",
   "execution_count": 4,
   "metadata": {},
   "outputs": [
    {
     "name": "stdout",
     "output_type": "stream",
     "text": [
      "                  Open        High         Low       Close   Adj Close  \\\n",
      "Date                                                                     \n",
      "2014-12-31  223.089996  225.679993  222.250000  222.410004  222.410004   \n",
      "2015-01-02  222.869995  223.250000  213.259995  219.309998  219.309998   \n",
      "2015-01-05  214.550003  216.500000  207.160004  210.089996  210.089996   \n",
      "2015-01-06  210.059998  214.199997  204.210007  211.279999  211.279999   \n",
      "2015-01-07  213.350006  214.779999  209.779999  210.949997  210.949997   \n",
      "\n",
      "             Volume  \n",
      "Date                 \n",
      "2014-12-31  2402100  \n",
      "2015-01-02  4764400  \n",
      "2015-01-05  5368500  \n",
      "2015-01-06  6261900  \n",
      "2015-01-07  2968400   \n",
      "\n",
      "\n",
      "\n",
      "===============================================================\n",
      "                  Open        High         Low       Close   Adj Close  \\\n",
      "Date                                                                     \n",
      "2017-12-22  329.510010  330.920013  324.820007  325.200012  325.200012   \n",
      "2017-12-26  323.829987  323.940002  316.579987  317.290009  317.290009   \n",
      "2017-12-27  316.000000  317.679993  310.750000  311.640015  311.640015   \n",
      "2017-12-28  311.750000  315.820007  309.540009  315.359985  315.359985   \n",
      "2017-12-29  316.179993  316.410004  310.000000  311.350006  311.350006   \n",
      "\n",
      "             Volume  \n",
      "Date                 \n",
      "2017-12-22  4215800  \n",
      "2017-12-26  4378400  \n",
      "2017-12-27  4712100  \n",
      "2017-12-28  4316300  \n",
      "2017-12-29  3777200  \n"
     ]
    }
   ],
   "source": [
    "print(tsla.head(),'\\n'*3)\n",
    "print('===============================================================')\n",
    "print(tsla.tail())"
   ]
  },
  {
   "cell_type": "code",
   "execution_count": 5,
   "metadata": {},
   "outputs": [
    {
     "data": {
      "text/html": [
       "<div>\n",
       "<table border=\"1\" class=\"dataframe\">\n",
       "  <thead>\n",
       "    <tr style=\"text-align: right;\">\n",
       "      <th></th>\n",
       "      <th>Open</th>\n",
       "      <th>High</th>\n",
       "      <th>Low</th>\n",
       "      <th>Close</th>\n",
       "      <th>Adj Close</th>\n",
       "      <th>Volume</th>\n",
       "    </tr>\n",
       "    <tr>\n",
       "      <th>Date</th>\n",
       "      <th></th>\n",
       "      <th></th>\n",
       "      <th></th>\n",
       "      <th></th>\n",
       "      <th></th>\n",
       "      <th></th>\n",
       "    </tr>\n",
       "  </thead>\n",
       "  <tbody>\n",
       "    <tr>\n",
       "      <th>2017-12-22</th>\n",
       "      <td>329.510010</td>\n",
       "      <td>330.920013</td>\n",
       "      <td>324.820007</td>\n",
       "      <td>325.200012</td>\n",
       "      <td>325.200012</td>\n",
       "      <td>4215800</td>\n",
       "    </tr>\n",
       "    <tr>\n",
       "      <th>2017-12-26</th>\n",
       "      <td>323.829987</td>\n",
       "      <td>323.940002</td>\n",
       "      <td>316.579987</td>\n",
       "      <td>317.290009</td>\n",
       "      <td>317.290009</td>\n",
       "      <td>4378400</td>\n",
       "    </tr>\n",
       "    <tr>\n",
       "      <th>2017-12-27</th>\n",
       "      <td>316.000000</td>\n",
       "      <td>317.679993</td>\n",
       "      <td>310.750000</td>\n",
       "      <td>311.640015</td>\n",
       "      <td>311.640015</td>\n",
       "      <td>4712100</td>\n",
       "    </tr>\n",
       "    <tr>\n",
       "      <th>2017-12-28</th>\n",
       "      <td>311.750000</td>\n",
       "      <td>315.820007</td>\n",
       "      <td>309.540009</td>\n",
       "      <td>315.359985</td>\n",
       "      <td>315.359985</td>\n",
       "      <td>4316300</td>\n",
       "    </tr>\n",
       "    <tr>\n",
       "      <th>2017-12-29</th>\n",
       "      <td>316.179993</td>\n",
       "      <td>316.410004</td>\n",
       "      <td>310.000000</td>\n",
       "      <td>311.350006</td>\n",
       "      <td>311.350006</td>\n",
       "      <td>3777200</td>\n",
       "    </tr>\n",
       "  </tbody>\n",
       "</table>\n",
       "</div>"
      ],
      "text/plain": [
       "                  Open        High         Low       Close   Adj Close  \\\n",
       "Date                                                                     \n",
       "2017-12-22  329.510010  330.920013  324.820007  325.200012  325.200012   \n",
       "2017-12-26  323.829987  323.940002  316.579987  317.290009  317.290009   \n",
       "2017-12-27  316.000000  317.679993  310.750000  311.640015  311.640015   \n",
       "2017-12-28  311.750000  315.820007  309.540009  315.359985  315.359985   \n",
       "2017-12-29  316.179993  316.410004  310.000000  311.350006  311.350006   \n",
       "\n",
       "             Volume  \n",
       "Date                 \n",
       "2017-12-22  4215800  \n",
       "2017-12-26  4378400  \n",
       "2017-12-27  4712100  \n",
       "2017-12-28  4316300  \n",
       "2017-12-29  3777200  "
      ]
     },
     "execution_count": 5,
     "metadata": {},
     "output_type": "execute_result"
    }
   ],
   "source": [
    "tsla.reset_index(inplace='true') # 重新设置index inplace=True表示在原dataframe上操作 不产生新的dataframe\n",
    "tsla.set_index('Date',inplace=True) # 将'Date'这一列作为index排序\n",
    "# tsla.drop(['Adj Close'],axis=1,inplace=True) #丢弃'Adj Close'这一列\n",
    "tsla.tail()"
   ]
  },
  {
   "cell_type": "code",
   "execution_count": 6,
   "metadata": {
    "collapsed": true
   },
   "outputs": [],
   "source": [
    "tsla.to_csv('tsla.csv')\n",
    "# tsla.to_csv('/Users/zi-qinzhou/Documents/LearnBySelf/Quant/TSLA.csv')"
   ]
  },
  {
   "cell_type": "code",
   "execution_count": 7,
   "metadata": {
    "collapsed": true
   },
   "outputs": [],
   "source": [
    "result = pd.read_csv('tsla.csv', parse_dates = True, index_col=0)"
   ]
  },
  {
   "cell_type": "code",
   "execution_count": 8,
   "metadata": {},
   "outputs": [
    {
     "data": {
      "text/html": [
       "<div>\n",
       "<table border=\"1\" class=\"dataframe\">\n",
       "  <thead>\n",
       "    <tr style=\"text-align: right;\">\n",
       "      <th></th>\n",
       "      <th>Open</th>\n",
       "      <th>High</th>\n",
       "      <th>Low</th>\n",
       "      <th>Close</th>\n",
       "      <th>Adj Close</th>\n",
       "      <th>Volume</th>\n",
       "    </tr>\n",
       "    <tr>\n",
       "      <th>Date</th>\n",
       "      <th></th>\n",
       "      <th></th>\n",
       "      <th></th>\n",
       "      <th></th>\n",
       "      <th></th>\n",
       "      <th></th>\n",
       "    </tr>\n",
       "  </thead>\n",
       "  <tbody>\n",
       "    <tr>\n",
       "      <th>2014-12-31</th>\n",
       "      <td>223.089996</td>\n",
       "      <td>225.679993</td>\n",
       "      <td>222.250000</td>\n",
       "      <td>222.410004</td>\n",
       "      <td>222.410004</td>\n",
       "      <td>2402100</td>\n",
       "    </tr>\n",
       "    <tr>\n",
       "      <th>2015-01-02</th>\n",
       "      <td>222.869995</td>\n",
       "      <td>223.250000</td>\n",
       "      <td>213.259995</td>\n",
       "      <td>219.309998</td>\n",
       "      <td>219.309998</td>\n",
       "      <td>4764400</td>\n",
       "    </tr>\n",
       "    <tr>\n",
       "      <th>2015-01-05</th>\n",
       "      <td>214.550003</td>\n",
       "      <td>216.500000</td>\n",
       "      <td>207.160004</td>\n",
       "      <td>210.089996</td>\n",
       "      <td>210.089996</td>\n",
       "      <td>5368500</td>\n",
       "    </tr>\n",
       "    <tr>\n",
       "      <th>2015-01-06</th>\n",
       "      <td>210.059998</td>\n",
       "      <td>214.199997</td>\n",
       "      <td>204.210007</td>\n",
       "      <td>211.279999</td>\n",
       "      <td>211.279999</td>\n",
       "      <td>6261900</td>\n",
       "    </tr>\n",
       "    <tr>\n",
       "      <th>2015-01-07</th>\n",
       "      <td>213.350006</td>\n",
       "      <td>214.779999</td>\n",
       "      <td>209.779999</td>\n",
       "      <td>210.949997</td>\n",
       "      <td>210.949997</td>\n",
       "      <td>2968400</td>\n",
       "    </tr>\n",
       "  </tbody>\n",
       "</table>\n",
       "</div>"
      ],
      "text/plain": [
       "                  Open        High         Low       Close   Adj Close  \\\n",
       "Date                                                                     \n",
       "2014-12-31  223.089996  225.679993  222.250000  222.410004  222.410004   \n",
       "2015-01-02  222.869995  223.250000  213.259995  219.309998  219.309998   \n",
       "2015-01-05  214.550003  216.500000  207.160004  210.089996  210.089996   \n",
       "2015-01-06  210.059998  214.199997  204.210007  211.279999  211.279999   \n",
       "2015-01-07  213.350006  214.779999  209.779999  210.949997  210.949997   \n",
       "\n",
       "             Volume  \n",
       "Date                 \n",
       "2014-12-31  2402100  \n",
       "2015-01-02  4764400  \n",
       "2015-01-05  5368500  \n",
       "2015-01-06  6261900  \n",
       "2015-01-07  2968400  "
      ]
     },
     "execution_count": 8,
     "metadata": {},
     "output_type": "execute_result"
    }
   ],
   "source": [
    "result.head()"
   ]
  },
  {
   "cell_type": "code",
   "execution_count": 9,
   "metadata": {},
   "outputs": [
    {
     "name": "stdout",
     "output_type": "stream",
     "text": [
      "<class 'numpy.int64'>\n"
     ]
    }
   ],
   "source": [
    "print(type(result.Volume[0]))"
   ]
  },
  {
   "cell_type": "code",
   "execution_count": 10,
   "metadata": {},
   "outputs": [
    {
     "data": {
      "image/png": "[encoded data removed]",
      "text/plain": [
       "<matplotlib.figure.Figure at 0x111ef6898>"
      ]
     },
     "metadata": {},
     "output_type": "display_data"
    }
   ],
   "source": [
    "style.use('ggplot')\n",
    "result.High.plot()\n",
    "result['Low'].plot()\n",
    "plt.show()"
   ]
  },
  {
   "cell_type": "code",
   "execution_count": 11,
   "metadata": {},
   "outputs": [
    {
     "data": {
      "text/html": [
       "<div>\n",
       "<table border=\"1\" class=\"dataframe\">\n",
       "  <thead>\n",
       "    <tr style=\"text-align: right;\">\n",
       "      <th></th>\n",
       "      <th>High</th>\n",
       "      <th>Low</th>\n",
       "    </tr>\n",
       "    <tr>\n",
       "      <th>Date</th>\n",
       "      <th></th>\n",
       "      <th></th>\n",
       "    </tr>\n",
       "  </thead>\n",
       "  <tbody>\n",
       "    <tr>\n",
       "      <th>2014-12-31</th>\n",
       "      <td>225.679993</td>\n",
       "      <td>222.250000</td>\n",
       "    </tr>\n",
       "    <tr>\n",
       "      <th>2015-01-02</th>\n",
       "      <td>223.250000</td>\n",
       "      <td>213.259995</td>\n",
       "    </tr>\n",
       "    <tr>\n",
       "      <th>2015-01-05</th>\n",
       "      <td>216.500000</td>\n",
       "      <td>207.160004</td>\n",
       "    </tr>\n",
       "    <tr>\n",
       "      <th>2015-01-06</th>\n",
       "      <td>214.199997</td>\n",
       "      <td>204.210007</td>\n",
       "    </tr>\n",
       "    <tr>\n",
       "      <th>2015-01-07</th>\n",
       "      <td>214.779999</td>\n",
       "      <td>209.779999</td>\n",
       "    </tr>\n",
       "  </tbody>\n",
       "</table>\n",
       "</div>"
      ],
      "text/plain": [
       "                  High         Low\n",
       "Date                              \n",
       "2014-12-31  225.679993  222.250000\n",
       "2015-01-02  223.250000  213.259995\n",
       "2015-01-05  216.500000  207.160004\n",
       "2015-01-06  214.199997  204.210007\n",
       "2015-01-07  214.779999  209.779999"
      ]
     },
     "execution_count": 11,
     "metadata": {},
     "output_type": "execute_result"
    }
   ],
   "source": [
    "result[['High','Low']].head()"
   ]
  },
  {
   "cell_type": "code",
   "execution_count": 12,
   "metadata": {
    "collapsed": true
   },
   "outputs": [],
   "source": [
    "result['100ma'] = result['Adj Close'].rolling(window=100).mean()\n",
    "result['100ma'] = result['Adj Close'].rolling(window=100,min_periods=0).mean() \n",
    "# min_periods可以为任何数字，丛这个数字所代表的row开始算起，如果没有min_periods这个参数， 则从\n",
    "#window所代表的数值开始计算，之前的都为None"
   ]
  },
  {
   "cell_type": "code",
   "execution_count": 13,
   "metadata": {},
   "outputs": [
    {
     "data": {
      "text/html": [
       "<div>\n",
       "<table border=\"1\" class=\"dataframe\">\n",
       "  <thead>\n",
       "    <tr style=\"text-align: right;\">\n",
       "      <th></th>\n",
       "      <th>Open</th>\n",
       "      <th>High</th>\n",
       "      <th>Low</th>\n",
       "      <th>Close</th>\n",
       "      <th>Adj Close</th>\n",
       "      <th>Volume</th>\n",
       "      <th>100ma</th>\n",
       "    </tr>\n",
       "    <tr>\n",
       "      <th>Date</th>\n",
       "      <th></th>\n",
       "      <th></th>\n",
       "      <th></th>\n",
       "      <th></th>\n",
       "      <th></th>\n",
       "      <th></th>\n",
       "      <th></th>\n",
       "    </tr>\n",
       "  </thead>\n",
       "  <tbody>\n",
       "    <tr>\n",
       "      <th>2014-12-31</th>\n",
       "      <td>223.089996</td>\n",
       "      <td>225.679993</td>\n",
       "      <td>222.250000</td>\n",
       "      <td>222.410004</td>\n",
       "      <td>222.410004</td>\n",
       "      <td>2402100</td>\n",
       "      <td>222.410004</td>\n",
       "    </tr>\n",
       "    <tr>\n",
       "      <th>2015-01-02</th>\n",
       "      <td>222.869995</td>\n",
       "      <td>223.250000</td>\n",
       "      <td>213.259995</td>\n",
       "      <td>219.309998</td>\n",
       "      <td>219.309998</td>\n",
       "      <td>4764400</td>\n",
       "      <td>220.860001</td>\n",
       "    </tr>\n",
       "    <tr>\n",
       "      <th>2015-01-05</th>\n",
       "      <td>214.550003</td>\n",
       "      <td>216.500000</td>\n",
       "      <td>207.160004</td>\n",
       "      <td>210.089996</td>\n",
       "      <td>210.089996</td>\n",
       "      <td>5368500</td>\n",
       "      <td>217.269999</td>\n",
       "    </tr>\n",
       "    <tr>\n",
       "      <th>2015-01-06</th>\n",
       "      <td>210.059998</td>\n",
       "      <td>214.199997</td>\n",
       "      <td>204.210007</td>\n",
       "      <td>211.279999</td>\n",
       "      <td>211.279999</td>\n",
       "      <td>6261900</td>\n",
       "      <td>215.772499</td>\n",
       "    </tr>\n",
       "    <tr>\n",
       "      <th>2015-01-07</th>\n",
       "      <td>213.350006</td>\n",
       "      <td>214.779999</td>\n",
       "      <td>209.779999</td>\n",
       "      <td>210.949997</td>\n",
       "      <td>210.949997</td>\n",
       "      <td>2968400</td>\n",
       "      <td>214.807999</td>\n",
       "    </tr>\n",
       "  </tbody>\n",
       "</table>\n",
       "</div>"
      ],
      "text/plain": [
       "                  Open        High         Low       Close   Adj Close  \\\n",
       "Date                                                                     \n",
       "2014-12-31  223.089996  225.679993  222.250000  222.410004  222.410004   \n",
       "2015-01-02  222.869995  223.250000  213.259995  219.309998  219.309998   \n",
       "2015-01-05  214.550003  216.500000  207.160004  210.089996  210.089996   \n",
       "2015-01-06  210.059998  214.199997  204.210007  211.279999  211.279999   \n",
       "2015-01-07  213.350006  214.779999  209.779999  210.949997  210.949997   \n",
       "\n",
       "             Volume       100ma  \n",
       "Date                             \n",
       "2014-12-31  2402100  222.410004  \n",
       "2015-01-02  4764400  220.860001  \n",
       "2015-01-05  5368500  217.269999  \n",
       "2015-01-06  6261900  215.772499  \n",
       "2015-01-07  2968400  214.807999  "
      ]
     },
     "execution_count": 13,
     "metadata": {},
     "output_type": "execute_result"
    }
   ],
   "source": [
    "result.head()"
   ]
  },
  {
   "cell_type": "code",
   "execution_count": 14,
   "metadata": {},
   "outputs": [
    {
     "data": {
      "image/png": "[encoded data removed]",
      "text/plain": [
       "<matplotlib.figure.Figure at 0x10799d048>"
      ]
     },
     "metadata": {},
     "output_type": "display_data"
    }
   ],
   "source": [
    "result[['Adj Close','100ma']].plot()\n",
    "plt.bar(result.index, result['Volume'],color='g')\n",
    "plt.show()"
   ]
  },
  {
   "cell_type": "code",
   "execution_count": null,
   "metadata": {
    "collapsed": true
   },
   "outputs": [],
   "source": []
  }
 ],
 "metadata": {
  "kernelspec": {
   "display_name": "Python 3",
   "language": "python",
   "name": "python3"
  },
  "language_info": {
   "codemirror_mode": {
    "name": "ipython",
    "version": 3
   },
   "file_extension": ".py",
   "mimetype": "text/x-python",
   "name": "python",
   "nbconvert_exporter": "python",
   "pygments_lexer": "ipython3",
   "version": "3.6.1"
  }
 },
 "nbformat": 4,
 "nbformat_minor": 2
}
