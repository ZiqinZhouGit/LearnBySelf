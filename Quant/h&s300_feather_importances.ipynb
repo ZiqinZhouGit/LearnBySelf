{
 "cells": [
  {
   "cell_type": "code",
   "execution_count": 19,
   "metadata": {
    "collapsed": true
   },
   "outputs": [],
   "source": [
    "# result = ts.get_hs300s()\n",
    "# result.head()\n",
    "# result.to_csv('/Users/zi-qinzhou/Documents/LearnBySelf/Quant/hs300.csv',encoding='utf-8-sig')\n",
    "# data = pd.read_csv('hs300.csv') \n",
    "# print(result['name'].head())"
   ]
  },
  {
   "cell_type": "code",
   "execution_count": 92,
   "metadata": {
    "collapsed": true
   },
   "outputs": [],
   "source": [
    "import csv\n",
    "import tushare as ts\n",
    "import pandas as pd\n",
    "import numpy as np\n",
    "import matplotlib.pyplot as plt\n",
    "\n",
    "from sklearn.ensemble import RandomForestClassifier"
   ]
  },
  {
   "cell_type": "markdown",
   "metadata": {},
   "source": [
    "# Preprocessing Data\n",
    "### 1. Downloading Data"
   ]
  },
  {
   "cell_type": "code",
   "execution_count": 3,
   "metadata": {},
   "outputs": [
    {
     "name": "stdout",
     "output_type": "stream",
     "text": [
      "[Getting data:]####"
     ]
    }
   ],
   "source": [
    "data = ts.get_h_data('000300', index = True, start = '2015-01-01', end = '2016-01-01')"
   ]
  },
  {
   "cell_type": "code",
   "execution_count": 4,
   "metadata": {},
   "outputs": [
    {
     "data": {
      "text/html": [
       "<div>\n",
       "<table border=\"1\" class=\"dataframe\">\n",
       "  <thead>\n",
       "    <tr style=\"text-align: right;\">\n",
       "      <th></th>\n",
       "      <th>open</th>\n",
       "      <th>high</th>\n",
       "      <th>close</th>\n",
       "      <th>low</th>\n",
       "      <th>volume</th>\n",
       "      <th>amount</th>\n",
       "    </tr>\n",
       "    <tr>\n",
       "      <th>date</th>\n",
       "      <th></th>\n",
       "      <th></th>\n",
       "      <th></th>\n",
       "      <th></th>\n",
       "      <th></th>\n",
       "      <th></th>\n",
       "    </tr>\n",
       "  </thead>\n",
       "  <tbody>\n",
       "    <tr>\n",
       "      <th>2015-12-25</th>\n",
       "      <td>3832.085</td>\n",
       "      <td>3848.025</td>\n",
       "      <td>3838.201</td>\n",
       "      <td>3813.204</td>\n",
       "      <td>11962401300</td>\n",
       "      <td>163314511431</td>\n",
       "    </tr>\n",
       "    <tr>\n",
       "      <th>2015-12-28</th>\n",
       "      <td>3847.532</td>\n",
       "      <td>3853.389</td>\n",
       "      <td>3727.632</td>\n",
       "      <td>3727.632</td>\n",
       "      <td>15398844000</td>\n",
       "      <td>210026020459</td>\n",
       "    </tr>\n",
       "    <tr>\n",
       "      <th>2015-12-29</th>\n",
       "      <td>3723.050</td>\n",
       "      <td>3762.052</td>\n",
       "      <td>3761.875</td>\n",
       "      <td>3710.480</td>\n",
       "      <td>10188555500</td>\n",
       "      <td>140405054699</td>\n",
       "    </tr>\n",
       "    <tr>\n",
       "      <th>2015-12-30</th>\n",
       "      <td>3762.914</td>\n",
       "      <td>3765.657</td>\n",
       "      <td>3765.175</td>\n",
       "      <td>3726.278</td>\n",
       "      <td>10562995500</td>\n",
       "      <td>155744099319</td>\n",
       "    </tr>\n",
       "    <tr>\n",
       "      <th>2015-12-31</th>\n",
       "      <td>3760.904</td>\n",
       "      <td>3772.617</td>\n",
       "      <td>3731.005</td>\n",
       "      <td>3727.325</td>\n",
       "      <td>10187355600</td>\n",
       "      <td>145043696235</td>\n",
       "    </tr>\n",
       "  </tbody>\n",
       "</table>\n",
       "</div>"
      ],
      "text/plain": [
       "                open      high     close       low       volume        amount\n",
       "date                                                                         \n",
       "2015-12-25  3832.085  3848.025  3838.201  3813.204  11962401300  163314511431\n",
       "2015-12-28  3847.532  3853.389  3727.632  3727.632  15398844000  210026020459\n",
       "2015-12-29  3723.050  3762.052  3761.875  3710.480  10188555500  140405054699\n",
       "2015-12-30  3762.914  3765.657  3765.175  3726.278  10562995500  155744099319\n",
       "2015-12-31  3760.904  3772.617  3731.005  3727.325  10187355600  145043696235"
      ]
     },
     "execution_count": 4,
     "metadata": {},
     "output_type": "execute_result"
    }
   ],
   "source": [
    "data = data.sort_index(ascending=True)#升序\n",
    "data.tail()"
   ]
  },
  {
   "cell_type": "markdown",
   "metadata": {},
   "source": [
    "### 2. Features Fuction"
   ]
  },
  {
   "cell_type": "code",
   "execution_count": 22,
   "metadata": {
    "collapsed": true
   },
   "outputs": [],
   "source": [
    "def CCI(data, ndays):\n",
    "    TP = (data['high'] + data['low'] + data['close']) / 3\n",
    "    CCI = pd.Series((TP - pd.DataFrame.rolling(TP, ndays).mean()) / (0.015 * pd.DataFrame.rolling(TP, ndays).std()),\n",
    "    name = 'CCI')\n",
    "    result = pd.DataFrame(CCI)\n",
    "    return result\n",
    "\n",
    "def EVM(data, ndays):\n",
    "    dm = ((data['high'] + data['low'])/2) - ((data['high'].shift(1) + data['low'].shift(1))/2)\n",
    "    br = (data['volume'] / 100000000) / ((data['high'] - data['low']))\n",
    "    EVM = dm / br\n",
    "    EVM_MA = pd.Series(pd.DataFrame.rolling(EVM, ndays).mean(), name = 'EVM')\n",
    "    result = pd.DataFrame(EVM_MA)\n",
    "    return result\n",
    "\n",
    "def SMA(data, ndays):\n",
    "    SMA = pd.Series(pd.DataFrame.rolling(data['close'], ndays).mean(), name = 'SMA')\n",
    "    result = pd.DataFrame(SMA)\n",
    "    return result\n",
    "\n",
    "def ROC(data,n):\n",
    "    N = data['close'].diff(n)\n",
    "    D = data['close'].shift(n)\n",
    "    ROC = pd.Series(N/D,name='Rate of Change')\n",
    "    result = pd.DataFrame(ROC)\n",
    "    return result\n",
    "\n",
    "def BBANDS(data, ndays):\n",
    "    MA = pd.Series(pd.DataFrame.rolling(data['close'], ndays).mean())\n",
    "    SD = pd.Series(pd.DataFrame.rolling(data['close'], ndays).std())\n",
    "\n",
    "    b1 = MA + (2 * SD)\n",
    "    B1 = pd.Series(b1, name = 'Upper BollingerBand')\n",
    "    data = data.join(B1)\n",
    "\n",
    "    b2 = MA - (2 * SD)\n",
    "    B2 = pd.Series(b2, name = 'Lower BollingerBand')\n",
    "    result = pd.DataFrame(B2)\n",
    "    return result\n",
    "\n",
    "def ForceIndex(data, ndays): \n",
    "    FI = pd.Series(data['close'].diff(ndays) * data['volume'], name = 'ForceIndex') \n",
    "    result = pd.DataFrame(FI) \n",
    "    return result"
   ]
  },
  {
   "cell_type": "markdown",
   "metadata": {},
   "source": [
    "### 3. Building Training Datasets"
   ]
  },
  {
   "cell_type": "code",
   "execution_count": 104,
   "metadata": {},
   "outputs": [
    {
     "data": {
      "text/html": [
       "<div>\n",
       "<table border=\"1\" class=\"dataframe\">\n",
       "  <thead>\n",
       "    <tr style=\"text-align: right;\">\n",
       "      <th></th>\n",
       "      <th>CCI</th>\n",
       "      <th>EVM</th>\n",
       "      <th>SMA</th>\n",
       "      <th>Rate of Change</th>\n",
       "      <th>Lower BollingerBand</th>\n",
       "      <th>ForceIndex</th>\n",
       "    </tr>\n",
       "    <tr>\n",
       "      <th>date</th>\n",
       "      <th></th>\n",
       "      <th></th>\n",
       "      <th></th>\n",
       "      <th></th>\n",
       "      <th></th>\n",
       "      <th></th>\n",
       "    </tr>\n",
       "  </thead>\n",
       "  <tbody>\n",
       "    <tr>\n",
       "      <th>2015-01-12</th>\n",
       "      <td>-105.969604</td>\n",
       "      <td>-8.018640</td>\n",
       "      <td>3580.8814</td>\n",
       "      <td>-0.035140</td>\n",
       "      <td>3463.650104</td>\n",
       "      <td>-3.411127e+12</td>\n",
       "    </tr>\n",
       "    <tr>\n",
       "      <th>2015-01-13</th>\n",
       "      <td>-62.966672</td>\n",
       "      <td>-8.473673</td>\n",
       "      <td>3555.4776</td>\n",
       "      <td>-0.034885</td>\n",
       "      <td>3448.880974</td>\n",
       "      <td>-2.377211e+12</td>\n",
       "    </tr>\n",
       "    <tr>\n",
       "      <th>2015-01-14</th>\n",
       "      <td>-57.391363</td>\n",
       "      <td>-9.535103</td>\n",
       "      <td>3527.2042</td>\n",
       "      <td>-0.038797</td>\n",
       "      <td>3478.402298</td>\n",
       "      <td>-2.770970e+12</td>\n",
       "    </tr>\n",
       "    <tr>\n",
       "      <th>2015-01-15</th>\n",
       "      <td>45.053627</td>\n",
       "      <td>-3.847704</td>\n",
       "      <td>3536.1766</td>\n",
       "      <td>0.012604</td>\n",
       "      <td>3453.304471</td>\n",
       "      <td>1.066874e+12</td>\n",
       "    </tr>\n",
       "    <tr>\n",
       "      <th>2015-01-16</th>\n",
       "      <td>108.078685</td>\n",
       "      <td>-0.651911</td>\n",
       "      <td>3553.8612</td>\n",
       "      <td>0.024931</td>\n",
       "      <td>3431.436611</td>\n",
       "      <td>2.499556e+12</td>\n",
       "    </tr>\n",
       "  </tbody>\n",
       "</table>\n",
       "</div>"
      ],
      "text/plain": [
       "                   CCI       EVM        SMA  Rate of Change  \\\n",
       "date                                                          \n",
       "2015-01-12 -105.969604 -8.018640  3580.8814       -0.035140   \n",
       "2015-01-13  -62.966672 -8.473673  3555.4776       -0.034885   \n",
       "2015-01-14  -57.391363 -9.535103  3527.2042       -0.038797   \n",
       "2015-01-15   45.053627 -3.847704  3536.1766        0.012604   \n",
       "2015-01-16  108.078685 -0.651911  3553.8612        0.024931   \n",
       "\n",
       "            Lower BollingerBand    ForceIndex  \n",
       "date                                           \n",
       "2015-01-12          3463.650104 -3.411127e+12  \n",
       "2015-01-13          3448.880974 -2.377211e+12  \n",
       "2015-01-14          3478.402298 -2.770970e+12  \n",
       "2015-01-15          3453.304471  1.066874e+12  \n",
       "2015-01-16          3431.436611  2.499556e+12  "
      ]
     },
     "execution_count": 104,
     "metadata": {},
     "output_type": "execute_result"
    }
   ],
   "source": [
    "final = pd.concat([CCI(data,5), EVM(data,5), SMA(data,5), ROC(data,5), BBANDS(data,5),ForceIndex(data,5)], axis=1)\n",
    "final.dropna().head()"
   ]
  },
  {
   "cell_type": "code",
   "execution_count": 102,
   "metadata": {},
   "outputs": [
    {
     "data": {
      "text/plain": [
       "date\n",
       "2015-01-05    0\n",
       "2015-01-06    0\n",
       "2015-01-07    1\n",
       "2015-01-08    0\n",
       "2015-01-09    0\n",
       "Name: close, dtype: int64"
      ]
     },
     "execution_count": 102,
     "metadata": {},
     "output_type": "execute_result"
    }
   ],
   "source": [
    "temp_target = data.close.diff().apply(lambda x: 1 if x>=0 else 0)\n",
    "temp_target.head()"
   ]
  },
  {
   "cell_type": "code",
   "execution_count": 25,
   "metadata": {
    "collapsed": true
   },
   "outputs": [],
   "source": [
    "final['target'] = temp_target"
   ]
  },
  {
   "cell_type": "code",
   "execution_count": 29,
   "metadata": {},
   "outputs": [],
   "source": [
    "final.dropna(inplace = True)"
   ]
  },
  {
   "cell_type": "code",
   "execution_count": 103,
   "metadata": {},
   "outputs": [
    {
     "data": {
      "text/html": [
       "<div>\n",
       "<table border=\"1\" class=\"dataframe\">\n",
       "  <thead>\n",
       "    <tr style=\"text-align: right;\">\n",
       "      <th></th>\n",
       "      <th>CCI</th>\n",
       "      <th>EVM</th>\n",
       "      <th>SMA</th>\n",
       "      <th>Rate of Change</th>\n",
       "      <th>Lower BollingerBand</th>\n",
       "      <th>ForceIndex</th>\n",
       "      <th>target</th>\n",
       "    </tr>\n",
       "    <tr>\n",
       "      <th>date</th>\n",
       "      <th></th>\n",
       "      <th></th>\n",
       "      <th></th>\n",
       "      <th></th>\n",
       "      <th></th>\n",
       "      <th></th>\n",
       "      <th></th>\n",
       "    </tr>\n",
       "  </thead>\n",
       "  <tbody>\n",
       "    <tr>\n",
       "      <th>2015-01-12</th>\n",
       "      <td>-105.969604</td>\n",
       "      <td>-8.018640</td>\n",
       "      <td>3580.8814</td>\n",
       "      <td>-0.035140</td>\n",
       "      <td>3463.650104</td>\n",
       "      <td>-3.411127e+12</td>\n",
       "      <td>0</td>\n",
       "    </tr>\n",
       "    <tr>\n",
       "      <th>2015-01-13</th>\n",
       "      <td>-62.966672</td>\n",
       "      <td>-8.473673</td>\n",
       "      <td>3555.4776</td>\n",
       "      <td>-0.034885</td>\n",
       "      <td>3448.880974</td>\n",
       "      <td>-2.377211e+12</td>\n",
       "      <td>1</td>\n",
       "    </tr>\n",
       "    <tr>\n",
       "      <th>2015-01-14</th>\n",
       "      <td>-57.391363</td>\n",
       "      <td>-9.535103</td>\n",
       "      <td>3527.2042</td>\n",
       "      <td>-0.038797</td>\n",
       "      <td>3478.402298</td>\n",
       "      <td>-2.770970e+12</td>\n",
       "      <td>0</td>\n",
       "    </tr>\n",
       "    <tr>\n",
       "      <th>2015-01-15</th>\n",
       "      <td>45.053627</td>\n",
       "      <td>-3.847704</td>\n",
       "      <td>3536.1766</td>\n",
       "      <td>0.012604</td>\n",
       "      <td>3453.304471</td>\n",
       "      <td>1.066874e+12</td>\n",
       "      <td>1</td>\n",
       "    </tr>\n",
       "    <tr>\n",
       "      <th>2015-01-16</th>\n",
       "      <td>108.078685</td>\n",
       "      <td>-0.651911</td>\n",
       "      <td>3553.8612</td>\n",
       "      <td>0.024931</td>\n",
       "      <td>3431.436611</td>\n",
       "      <td>2.499556e+12</td>\n",
       "      <td>1</td>\n",
       "    </tr>\n",
       "  </tbody>\n",
       "</table>\n",
       "</div>"
      ],
      "text/plain": [
       "                   CCI       EVM        SMA  Rate of Change  \\\n",
       "date                                                          \n",
       "2015-01-12 -105.969604 -8.018640  3580.8814       -0.035140   \n",
       "2015-01-13  -62.966672 -8.473673  3555.4776       -0.034885   \n",
       "2015-01-14  -57.391363 -9.535103  3527.2042       -0.038797   \n",
       "2015-01-15   45.053627 -3.847704  3536.1766        0.012604   \n",
       "2015-01-16  108.078685 -0.651911  3553.8612        0.024931   \n",
       "\n",
       "            Lower BollingerBand    ForceIndex  target  \n",
       "date                                                   \n",
       "2015-01-12          3463.650104 -3.411127e+12       0  \n",
       "2015-01-13          3448.880974 -2.377211e+12       1  \n",
       "2015-01-14          3478.402298 -2.770970e+12       0  \n",
       "2015-01-15          3453.304471  1.066874e+12       1  \n",
       "2015-01-16          3431.436611  2.499556e+12       1  "
      ]
     },
     "execution_count": 103,
     "metadata": {},
     "output_type": "execute_result"
    }
   ],
   "source": [
    "final.head()"
   ]
  },
  {
   "cell_type": "markdown",
   "metadata": {},
   "source": [
    "# Training Data"
   ]
  },
  {
   "cell_type": "markdown",
   "metadata": {},
   "source": [
    "### 1. Let's see what's the data looking like"
   ]
  },
  {
   "cell_type": "code",
   "execution_count": 40,
   "metadata": {},
   "outputs": [
    {
     "name": "stdout",
     "output_type": "stream",
     "text": [
      "                   CCI       EVM        SMA  Rate of Change  \\\n",
      "date                                                          \n",
      "2015-01-12 -105.969604 -8.018640  3580.8814       -0.035140   \n",
      "2015-01-13  -62.966672 -8.473673  3555.4776       -0.034885   \n",
      "2015-01-14  -57.391363 -9.535103  3527.2042       -0.038797   \n",
      "2015-01-15   45.053627 -3.847704  3536.1766        0.012604   \n",
      "2015-01-16  108.078685 -0.651911  3553.8612        0.024931   \n",
      "\n",
      "            Lower BollingerBand    ForceIndex  \n",
      "date                                           \n",
      "2015-01-12          3463.650104 -3.411127e+12  \n",
      "2015-01-13          3448.880974 -2.377211e+12  \n",
      "2015-01-14          3478.402298 -2.770970e+12  \n",
      "2015-01-15          3453.304471  1.066874e+12  \n",
      "2015-01-16          3431.436611  2.499556e+12  \n",
      "date\n",
      "2015-01-12    0\n",
      "2015-01-13    1\n",
      "2015-01-14    0\n",
      "2015-01-15    1\n",
      "2015-01-16    1\n",
      "Name: target, dtype: int64\n"
     ]
    }
   ],
   "source": [
    "X = final.drop(['target'], axis=1)\n",
    "Y = final.target\n",
    "print(X.head())\n",
    "print(Y.head())"
   ]
  },
  {
   "cell_type": "markdown",
   "metadata": {},
   "source": [
    "### 2. Using random forest to train the data"
   ]
  },
  {
   "cell_type": "code",
   "execution_count": 99,
   "metadata": {},
   "outputs": [],
   "source": [
    "forest = RandomForestClassifier(n_estimators=10,\n",
    "                              random_state=0)\n",
    "\n",
    "forest.fit(X, Y)\n",
    "importances = forest.feature_importances_\n",
    "indices = np.argsort(importances)[::-1]"
   ]
  },
  {
   "cell_type": "markdown",
   "metadata": {},
   "source": [
    "### 3. Feather importance and sorting the feather list in importance descending order"
   ]
  },
  {
   "cell_type": "code",
   "execution_count": 100,
   "metadata": {},
   "outputs": [
    {
     "name": "stdout",
     "output_type": "stream",
     "text": [
      "[0 1 5 3 4 2]\n",
      "[ 0.29419917  0.1903317   0.0967372   0.14488776  0.11023684  0.16360733]\n"
     ]
    }
   ],
   "source": [
    "print(indices)\n",
    "print(importances)\n",
    "names = X.columns.tolist()"
   ]
  },
  {
   "cell_type": "markdown",
   "metadata": {},
   "source": [
    "### 4. Plot the feather importances"
   ]
  },
  {
   "cell_type": "code",
   "execution_count": 105,
   "metadata": {},
   "outputs": [
    {
     "name": "stdout",
     "output_type": "stream",
     "text": [
      "Feature ranking:\n",
      "1. feature CCI (0.294199)\n",
      "2. feature EVM (0.190332)\n",
      "3. feature ForceIndex (0.163607)\n",
      "4. feature Rate of Change (0.144888)\n",
      "5. feature Lower BollingerBand (0.110237)\n",
      "6. feature SMA (0.096737)\n",
      "['CCI', 'EVM', 'ForceIndex', 'Rate of Change', 'Lower BollingerBand', 'SMA']\n"
     ]
    },
    {
     "data": {
      "image/png": "[encoded data removed]",
      "text/plain": [
       "<matplotlib.figure.Figure at 0x116de77b8>"
      ]
     },
     "metadata": {},
     "output_type": "display_data"
    }
   ],
   "source": [
    "# Print the feature ranking\n",
    "print(\"Feature ranking:\")\n",
    "x_pin = []\n",
    "for f in range(X.shape[1]): \n",
    "    print(\"%d. feature %s (%f)\" % (f + 1, names[(indices[f])], importances[indices[f]]))\n",
    "    x_pin.append(names[indices[f]])\n",
    "\n",
    "    # Plot the feature importances of the forest\n",
    "print(x_pin)\n",
    "plt.figure(1, facecolor='w', figsize=(15, 10))\n",
    "plt.title(\"Feature importances\")\n",
    "plt.bar(range(X.shape[1]), importances[indices],\n",
    "       color=\"pink\")\n",
    "plt.xticks(range(X.shape[1]), x_pin)\n",
    "plt.xlim([-1, X.shape[1]])\n",
    "plt.show()"
   ]
  },
  {
   "cell_type": "code",
   "execution_count": null,
   "metadata": {
    "collapsed": true
   },
   "outputs": [],
   "source": []
  }
 ],
 "metadata": {
  "kernelspec": {
   "display_name": "Python 3",
   "language": "python",
   "name": "python3"
  },
  "language_info": {
   "codemirror_mode": {
    "name": "ipython",
    "version": 3
   },
   "file_extension": ".py",
   "mimetype": "text/x-python",
   "name": "python",
   "nbconvert_exporter": "python",
   "pygments_lexer": "ipython3",
   "version": "3.6.1"
  }
 },
 "nbformat": 4,
 "nbformat_minor": 2
}
