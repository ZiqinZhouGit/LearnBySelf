{
 "cells": [
  {
   "cell_type": "code",
   "execution_count": 4,
   "metadata": {},
   "outputs": [
    {
     "name": "stdout",
     "output_type": "stream",
     "text": [
      "please enter your password: ········\n",
      "{'authenticated': True, 'user': True, 'status': 'ok'}\n"
     ]
    }
   ],
   "source": [
    "import requests\n",
    "import json\n",
    "import getpass\n",
    "\n",
    "base_url = 'https://www.instagram.com/'\n",
    "login_url = base_url + 'accounts/login/ajax/'\n",
    "username = 'daqin9356'\n",
    "password = getpass.getpass('please enter your password: ')\n",
    "user_agent = 'Mozilla/5.0 (Macintosh; Intel Mac OS X 10_13_3) AppleWebKit/537.36 (KHTML, like Gecko) Chrome/64.0.3282.186 Safari/537.36'\n",
    "\n",
    "session = requests.Session()\n",
    "session.headers = {'user-agent': user_agent}\n",
    "session.headers.update({'Referer': base_url})\n",
    "\n",
    "req = session.get(base_url)\n",
    "session.headers.update({'X-CSRFToken':req.cookies['csrftoken']})\n",
    "login_data = {'username': user, 'password': password}\n",
    "login = session.post(login_url, data=login_data, allow_redirects = True)\n",
    "session.headers.update({'X-CSRFToken':login.cookies['csrftoken']})\n",
    "cookies = login.cookies\n",
    "login_text = json.loads(login.text)\n",
    "print(login_text)"
   ]
  },
  {
   "cell_type": "code",
   "execution_count": null,
   "metadata": {
    "collapsed": true
   },
   "outputs": [],
   "source": []
  }
 ],
 "metadata": {
  "kernelspec": {
   "display_name": "Python 3",
   "language": "python",
   "name": "python3"
  },
  "language_info": {
   "codemirror_mode": {
    "name": "ipython",
    "version": 3
   },
   "file_extension": ".py",
   "mimetype": "text/x-python",
   "name": "python",
   "nbconvert_exporter": "python",
   "pygments_lexer": "ipython3",
   "version": "3.6.1"
  }
 },
 "nbformat": 4,
 "nbformat_minor": 2
}
