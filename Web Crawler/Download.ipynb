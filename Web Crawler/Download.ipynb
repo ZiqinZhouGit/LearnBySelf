{
 "cells": [
  {
   "cell_type": "code",
   "execution_count": 1,
   "metadata": {
    "collapsed": true
   },
   "outputs": [],
   "source": [
    "import os\n",
    "os.makedirs('/Users/zi-qinzhou/Documents/LearnBySelf/Python Crawler/img/')"
   ]
  },
  {
   "cell_type": "code",
   "execution_count": 2,
   "metadata": {
    "collapsed": true
   },
   "outputs": [],
   "source": [
    "image_url = \"https://media.gucci.com/style/DarkGray_Center_0_0_1200x1200/1439376067/307929_BLM00_1000_001_100_0000_Light-1953-Horsebit-leather-loafer.jpg\""
   ]
  },
  {
   "cell_type": "code",
   "execution_count": 4,
   "metadata": {},
   "outputs": [
    {
     "data": {
      "text/plain": [
       "('./img/image1.png', <http.client.HTTPMessage at 0x10ab3ab70>)"
      ]
     },
     "execution_count": 4,
     "metadata": {},
     "output_type": "execute_result"
    }
   ],
   "source": [
    "from urllib.request import urlretrieve\n",
    "urlretrieve(image_url, './img/image1.png')"
   ]
  },
  {
   "cell_type": "code",
   "execution_count": 13,
   "metadata": {},
   "outputs": [
    {
     "data": {
      "text/plain": [
       "True"
      ]
     },
     "execution_count": 13,
     "metadata": {},
     "output_type": "execute_result"
    }
   ],
   "source": [
    "import requests\n",
    "request_1 = requests.get(image_url)\n",
    "with open('/Users/zi-qinzhou/Documents/LearnBySelf/Python Crawler/img/image2.png','wb') as file:\n",
    "    file.write(request_1.content)\n",
    "    \n",
    "os.path.exists('/Users/zi-qinzhou/Documents/LearnBySelf/Python Crawler/img/image2.png')"
   ]
  },
  {
   "cell_type": "code",
   "execution_count": 17,
   "metadata": {},
   "outputs": [
    {
     "data": {
      "text/plain": [
       "True"
      ]
     },
     "execution_count": 17,
     "metadata": {},
     "output_type": "execute_result"
    }
   ],
   "source": [
    "os.access('/Users/zi-qinzhou/Documents/LearnBySelf/Python Crawler/img/image2.png', os.W_OK)"
   ]
  },
  {
   "cell_type": "code",
   "execution_count": 18,
   "metadata": {
    "collapsed": true
   },
   "outputs": [],
   "source": [
    "request_2 = requests.get(image_url, stream=True)\n",
    "\n",
    "with open('/Users/zi-qinzhou/Documents/LearnBySelf/Python Crawler/img/image3.png', 'wb') as file:\n",
    "    for chunk in request_2.iter_content(chunk_size = 32):\n",
    "        file.write(chunk)"
   ]
  },
  {
   "cell_type": "code",
   "execution_count": null,
   "metadata": {
    "collapsed": true
   },
   "outputs": [],
   "source": []
  }
 ],
 "metadata": {
  "kernelspec": {
   "display_name": "Python 3",
   "language": "python",
   "name": "python3"
  },
  "language_info": {
   "codemirror_mode": {
    "name": "ipython",
    "version": 3
   },
   "file_extension": ".py",
   "mimetype": "text/x-python",
   "name": "python",
   "nbconvert_exporter": "python",
   "pygments_lexer": "ipython3",
   "version": "3.6.1"
  }
 },
 "nbformat": 4,
 "nbformat_minor": 2
}
