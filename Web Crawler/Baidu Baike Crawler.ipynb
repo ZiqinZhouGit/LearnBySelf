{
 "cells": [
  {
   "cell_type": "code",
   "execution_count": 22,
   "metadata": {},
   "outputs": [
    {
     "name": "stdout",
     "output_type": "stream",
     "text": [
      "网络爬虫\n",
      "url: /item/%E7%BD%91%E7%BB%9C%E7%88%AC%E8%99%AB/5162711\n"
     ]
    }
   ],
   "source": [
    "from bs4 import BeautifulSoup\n",
    "from urllib.request import urlopen\n",
    "import re\n",
    "import random\n",
    "\n",
    "base_url = \"https://baike.baidu.com\"\n",
    "history = [\"/item/%E7%BD%91%E7%BB%9C%E7%88%AC%E8%99%AB/5162711\"]\n",
    "\n",
    "url = base_url + history[-1]\n",
    "\n",
    "html = urlopen(url).read().decode('utf-8')\n",
    "soup = BeautifulSoup(html, features ='lxml')\n",
    "print(soup.find('h1').get_text())\n",
    "print('url: '+ history[-1])"
   ]
  },
  {
   "cell_type": "code",
   "execution_count": 23,
   "metadata": {},
   "outputs": [
    {
     "name": "stdout",
     "output_type": "stream",
     "text": [
      "['/item/%E7%BD%91%E7%BB%9C%E7%88%AC%E8%99%AB/5162711', '/item/%E5%8A%A8%E6%80%81%E9%A1%B5%E9%9D%A2']\n"
     ]
    }
   ],
   "source": [
    "sub_urls = soup.find_all(\"a\", {\"target\": \"_blank\", \"href\": re.compile(\"/item/(%.{2})+$\")})\n",
    "\n",
    "if len(sub_urls)!= 0:\n",
    "    history.append(random.sample(sub_urls, 1)[0]['href'])\n",
    "\n",
    "else:\n",
    "    history.pop()\n",
    "\n",
    "print(history)"
   ]
  },
  {
   "cell_type": "code",
   "execution_count": 29,
   "metadata": {},
   "outputs": [
    {
     "name": "stdout",
     "output_type": "stream",
     "text": [
      "0 网络爬虫     url:  /item/%E7%BD%91%E7%BB%9C%E7%88%AC%E8%99%AB/5162711\n",
      "2\n",
      "1 詹妮弗·劳伦斯     url:  /item/%E5%8A%B3%E4%BC%A6%E6%96%AF\n",
      "3\n",
      "2 乌云背后的幸福线     url:  /item/%E4%B9%8C%E4%BA%91%E8%83%8C%E5%90%8E%E7%9A%84%E5%B9%B8%E7%A6%8F%E7%BA%BF\n",
      "4\n",
      "3 安吉丽娜·朱莉     url:  /item/%E5%AE%89%E5%90%89%E4%B8%BD%E5%A8%9C%C2%B7%E6%9C%B1%E8%8E%89\n",
      "5\n",
      "4 瓦妮莎·布莱恩特     url:  /item/%E7%93%A6%E5%A6%AE%E8%8E%8E\n",
      "6\n",
      "5 格兰特·希尔     url:  /item/%E6%A0%BC%E5%85%B0%E7%89%B9%C2%B7%E5%B8%8C%E5%B0%94\n",
      "7\n",
      "6 奥斯卡·罗伯特森     url:  /item/%E5%A5%A5%E6%96%AF%E5%8D%A1%C2%B7%E7%BD%97%E4%BC%AF%E7%89%B9%E6%A3%AE\n",
      "8\n",
      "7 波士顿     url:  /item/%E6%B3%A2%E5%A3%AB%E9%A1%BF\n",
      "9\n",
      "8 百度百科：多义词     url:  /item/%E7%99%BE%E5%BA%A6%E7%99%BE%E7%A7%91%EF%BC%9A%E5%A4%9A%E4%B9%89%E8%AF%8D\n",
      "10\n",
      "9 赵氏孤儿     url:  /item/%E8%B5%B5%E6%B0%8F%E5%AD%A4%E5%84%BF\n",
      "11\n"
     ]
    }
   ],
   "source": [
    "history = [\"/item/%E7%BD%91%E7%BB%9C%E7%88%AC%E8%99%AB/5162711\"]\n",
    "\n",
    "for i in range(10):\n",
    "    url = base_url + history[-1]\n",
    "\n",
    "    html = urlopen(url).read().decode('utf-8')\n",
    "    soup = BeautifulSoup(html, features='lxml')\n",
    "    print(i, soup.find('h1').get_text(), '    url: ', history[-1])\n",
    "\n",
    "    # find valid urls\n",
    "    sub_urls = soup.find_all(\"a\", {\"target\": \"_blank\", \"href\": re.compile(\"/item/(%.{2})+$\")}) # (%.{2})+  匹配任意 %[A-Z0-9][A-Z0-9]一次以上\n",
    "\n",
    "    if len(sub_urls) != 0:\n",
    "        history.append(random.sample(sub_urls, 1)[0]['href'])\n",
    "        print(len(history))\n",
    "    else:\n",
    "        # no valid sub link found\n",
    "        history.pop()\n"
   ]
  },
  {
   "cell_type": "code",
   "execution_count": null,
   "metadata": {
    "collapsed": true
   },
   "outputs": [],
   "source": []
  }
 ],
 "metadata": {
  "kernelspec": {
   "display_name": "Python 3",
   "language": "python",
   "name": "python3"
  },
  "language_info": {
   "codemirror_mode": {
    "name": "ipython",
    "version": 3
   },
   "file_extension": ".py",
   "mimetype": "text/x-python",
   "name": "python",
   "nbconvert_exporter": "python",
   "pygments_lexer": "ipython3",
   "version": "3.6.1"
  }
 },
 "nbformat": 4,
 "nbformat_minor": 2
}
