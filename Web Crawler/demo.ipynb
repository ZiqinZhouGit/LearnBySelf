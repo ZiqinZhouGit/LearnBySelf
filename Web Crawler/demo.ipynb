{
 "cells": [
  {
   "cell_type": "code",
   "execution_count": 2,
   "metadata": {},
   "outputs": [
    {
     "name": "stdout",
     "output_type": "stream",
     "text": [
      "<!DOCTYPE html>\n",
      "<html lang=\"cn\">\n",
      "<head>\n",
      "\t<meta charset=\"UTF-8\">\n",
      "\t<title>爬虫练习 列表 class | 莫烦 Python</title>\n",
      "\t<style>\n",
      "\t.jan {\n",
      "\t\tbackground-color: yellow;\n",
      "\t}\n",
      "\t.feb {\n",
      "\t\tfont-size: 25px;\n",
      "\t}\n",
      "\t.month {\n",
      "\t\tcolor: red;\n",
      "\t}\n",
      "\t</style>\n",
      "</head>\n",
      "\n",
      "<body>\n",
      "\n",
      "<h1>列表 爬虫练习</h1>\n",
      "\n",
      "<p>这是一个在 <a href=\"https://morvanzhou.github.io/\" >莫烦 Python</a> 的 <a href=\"https://morvanzhou.github.io/tutorials/scraping\" >爬虫教程</a>\n",
      "\t里无敌简单的网页, 所有的 code 让你一目了然, 清晰无比.</p>\n",
      "\n",
      "<ul>\n",
      "\t<li class=\"month\">一月</li>\n",
      "\t<ul class=\"jan\">\n",
      "\t\t<li>一月一号</li>\n",
      "\t\t<li>一月二号</li>\n",
      "\t\t<li>一月三号</li>\n",
      "\t</ul>\n",
      "\t<li class=\"feb month\">二月</li>\n",
      "\t<li class=\"month\">三月</li>\n",
      "\t<li class=\"month\">四月</li>\n",
      "\t<li class=\"month\">五月</li>\n",
      "</ul>\n",
      "\n",
      "</body>\n",
      "</html>\n"
     ]
    }
   ],
   "source": [
    "from urllib.request import urlopen\n",
    "from bs4 import BeautifulSoup\n",
    "\n",
    "html = urlopen(\"https://morvanzhou.github.io/static/scraping/list.html\"\n",
    ").read().decode('utf-8')\n",
    "\n",
    "print(html)"
   ]
  },
  {
   "cell_type": "code",
   "execution_count": 31,
   "metadata": {},
   "outputs": [
    {
     "name": "stdout",
     "output_type": "stream",
     "text": [
      "\n",
      "Page title is:  爬虫练习 列表 class | 莫烦 Python\n",
      "\n",
      "Page paragraph is: 这是一个在 <a href=\"https://morvanzhou.github.io/\" >莫烦 Python</a> 的 <a href=\"https://morvanzhou.github.io/tutorials/scraping\" >爬虫教程</a>\n",
      "\t里无敌简单的网页, 所有的 code 让你一目了然, 清晰无比.\n",
      "\n",
      "All links:  https://morvanzhou.github.io/\n"
     ]
    }
   ],
   "source": [
    "import re\n",
    "res = re.findall(\"<title>(.*?)</title>\",html)\n",
    "print(\"\\nPage title is: \", res[0])\n",
    "res = re.findall(r\"<p>(.*?)</p>\",html,flags = re.DOTALL) #DOTALL 只在正则表达式里有'.'的时候使用，匹配newline\n",
    "print(\"\\nPage paragraph is:\", res[0])\n",
    "res = re.findall('href=\"(.*?)\"',html)\n",
    "print(\"\\nAll links: \", res[0])"
   ]
  },
  {
   "cell_type": "code",
   "execution_count": 32,
   "metadata": {},
   "outputs": [
    {
     "name": "stdout",
     "output_type": "stream",
     "text": [
      "<h1>列表 爬虫练习</h1>\n",
      "\n",
      " <p>这是一个在 <a href=\"https://morvanzhou.github.io/\">莫烦 Python</a> 的 <a href=\"https://morvanzhou.github.io/tutorials/scraping\">爬虫教程</a>\n",
      "\t里无敌简单的网页, 所有的 code 让你一目了然, 清晰无比.</p>\n"
     ]
    }
   ],
   "source": [
    "soup = BeautifulSoup(html, features = 'lxml')\n",
    "print(soup.h1)\n",
    "print('\\n', soup.p)"
   ]
  },
  {
   "cell_type": "code",
   "execution_count": 35,
   "metadata": {},
   "outputs": [
    {
     "name": "stdout",
     "output_type": "stream",
     "text": [
      "\n",
      " <a href=\"https://morvanzhou.github.io/\">莫烦 Python</a>\n",
      "\n",
      " <a href=\"https://morvanzhou.github.io/tutorials/scraping\">爬虫教程</a>\n"
     ]
    }
   ],
   "source": [
    "all_href = soup.find_all('a')\n",
    "for l in all_href:\n",
    "    print('\\n', l)"
   ]
  },
  {
   "cell_type": "code",
   "execution_count": 75,
   "metadata": {},
   "outputs": [
    {
     "name": "stdout",
     "output_type": "stream",
     "text": [
      "一月\n",
      "二月\n",
      "三月\n",
      "四月\n",
      "五月\n"
     ]
    }
   ],
   "source": [
    "month = soup.find_all('li', {\"class\": \"month\"})\n",
    "for m in month:\n",
    "    print(m.get_text())"
   ]
  },
  {
   "cell_type": "code",
   "execution_count": 43,
   "metadata": {},
   "outputs": [
    {
     "name": "stdout",
     "output_type": "stream",
     "text": [
      "\n",
      "\n",
      "<li>一月一号</li>\n",
      "\n",
      "\n",
      "<li>一月二号</li>\n",
      "\n",
      "\n",
      "<li>一月三号</li>\n",
      "\n",
      "\n",
      "一月一号\n",
      "一月二号\n",
      "一月三号\n"
     ]
    }
   ],
   "source": [
    "jan = soup.find('ul', {\"class\": 'jan'})\n",
    "for j in jan:\n",
    "    print(j)\n",
    "\n",
    "d_jan = jan.find_all('li') \n",
    "for d in d_jan:\n",
    "    print(d.get_text())"
   ]
  },
  {
   "cell_type": "code",
   "execution_count": 76,
   "metadata": {
    "scrolled": true
   },
   "outputs": [
    {
     "name": "stdout",
     "output_type": "stream",
     "text": [
      "\n",
      " //cdn.shopify.com/s/files/1/1814/0331/products/Boot_Trees_Chelsea_Trimly_1280x1280.jpg?v=1514349970\n",
      "\n",
      " //cdn.shopify.com/s/files/1/1814/0331/products/Boot_Trees_Chelsea_Trimly_small.jpg?v=1514349970\n",
      "\n",
      " //cdn.shopify.com/s/files/1/1814/0331/products/Shopify-Chelsea-BootTrees-Trimly-WithPackage_small.jpg?v=1514349970\n",
      "\n",
      " //cdn.shopify.com/s/files/1/1814/0331/products/Shopify-Chelsea-BootTrees-Amazon_small.jpg?v=1514349970\n",
      "\n",
      " //cdn.shopify.com/s/files/1/1814/0331/products/Shopify0Chelsea-BootTrees-HelicopterView_small.jpg?v=1514349970\n",
      "\n",
      " //cdn.shopify.com/s/files/1/1814/0331/products/Trimly_Boot_Trees_1_1024x1024_4de9a06e-5966-4c2b-b3e2-827a8195bfd9_small.jpg?v=1514349970\n",
      "\n",
      " //cdn.shopify.com/s/files/1/1814/0331/products/Boot-trees-in-boots-Trimly_small.jpg?v=1514349970\n",
      "\n",
      " //cdn.shopify.com/s/files/1/1814/0331/products/BootTrees-Chelsea-Trimly_small.jpg?v=1514349970\n",
      "\n",
      " //cdn.shopify.com/s/files/1/1814/0331/products/Trimly_Boot_Trees_5_small.jpg?v=1514349970\n",
      "\n",
      " //cdn.shopify.com/s/files/1/1814/0331/products/Trimly_Boot_Trees_3_1024x1024_1200a332-5c01-431d-a8d7-8b9eac11bad2_small.jpg?v=1514349970\n",
      "\n",
      " //cdn.shopify.com/s/files/1/1814/0331/products/Twin-Tube-Pic_grande.jpg?v=1513642418\n",
      "\n",
      " //cdn.shopify.com/s/files/1/1814/0331/products/Flattoe-Shoetree-Trimly_grande.jpg?v=1512972668\n",
      "\n",
      " //cdn.shopify.com/s/files/1/1814/0331/products/ShoeStretcher-Trimly-1_grande.jpg?v=1513209686\n",
      "\n",
      " //cdn.shopify.com/s/files/1/1814/0331/files/Untitled_design_11_1280x1280.jpg?v=1517022803\n",
      "\n",
      " //cdn.shopify.com/s/files/1/1814/0331/files/Untitled_design_10_1280x1280.jpg?v=1517022803\n",
      "\n",
      " //cdn.shopify.com/s/files/1/1814/0331/files/Untitled_design_12_1280x1280.jpg?v=1517022803\n"
     ]
    }
   ],
   "source": [
    "html = urlopen(\"https://trimly.com.au/products/mens-cedar-boot-tree\").read()\n",
    "\n",
    "shoe = BeautifulSoup(html, features='lxml')\n",
    "img_links = shoe.find_all(\"img\", {\"src\": re.compile('.*?\\.jpg')})\n",
    "for link in img_links:\n",
    "    print('\\n',link['src'])"
   ]
  },
  {
   "cell_type": "code",
   "execution_count": null,
   "metadata": {
    "collapsed": true
   },
   "outputs": [],
   "source": []
  }
 ],
 "metadata": {
  "kernelspec": {
   "display_name": "Python 3",
   "language": "python",
   "name": "python3"
  },
  "language_info": {
   "codemirror_mode": {
    "name": "ipython",
    "version": 3
   },
   "file_extension": ".py",
   "mimetype": "text/x-python",
   "name": "python",
   "nbconvert_exporter": "python",
   "pygments_lexer": "ipython3",
   "version": "3.6.1"
  }
 },
 "nbformat": 4,
 "nbformat_minor": 2
}
