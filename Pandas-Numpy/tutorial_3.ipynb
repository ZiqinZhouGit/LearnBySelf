{
 "cells": [
  {
   "cell_type": "code",
   "execution_count": 2,
   "metadata": {
    "collapsed": true
   },
   "outputs": [],
   "source": [
    "import pandas as pd\n",
    "import numpy as np"
   ]
  },
  {
   "cell_type": "code",
   "execution_count": 6,
   "metadata": {},
   "outputs": [
    {
     "name": "stdout",
     "output_type": "stream",
     "text": [
      "0     1.0\n",
      "1     3.0\n",
      "2     6.0\n",
      "3     NaN\n",
      "4    44.0\n",
      "5     1.0\n",
      "dtype: float32\n"
     ]
    }
   ],
   "source": [
    "s = pd.Series([1,3,6,np.nan,44,1],dtype = 'float32')\n",
    "print(s)"
   ]
  },
  {
   "cell_type": "code",
   "execution_count": 5,
   "metadata": {},
   "outputs": [
    {
     "name": "stdout",
     "output_type": "stream",
     "text": [
      "                   a         b         c         d\n",
      "2016-01-01  0.903127 -0.448120 -2.873916  0.478163\n",
      "2016-01-02  0.409611  0.890832 -1.378341  0.994532\n",
      "2016-01-03  1.624383 -0.187884 -0.770884 -1.128741\n",
      "2016-01-04 -0.166808  0.090528  1.917002 -0.973733\n",
      "2016-01-05  0.752126  0.281760 -1.017328  2.401029\n",
      "2016-01-06  0.510689 -3.058445 -1.361649 -1.000717\n"
     ]
    }
   ],
   "source": [
    "dates = pd.date_range('20160101', periods = 6)\n",
    "df = pd.DataFrame(np.random.randn(6,4), index=dates, columns = ['a','b','c','d'])\n",
    "print(df)"
   ]
  },
  {
   "cell_type": "code",
   "execution_count": 37,
   "metadata": {},
   "outputs": [
    {
     "name": "stdout",
     "output_type": "stream",
     "text": [
      "          A          B    C  D      E    F\n",
      "0  1.815121 2013-01-02  1.0  3   test  foo\n",
      "1  0.954242 2013-01-02  1.0  3  train  foo\n",
      "2 -0.779544 2013-01-02  1.0  3   test  foo\n",
      "3 -0.035029 2013-01-02  1.0  3  train  foo \n",
      "\n",
      "A           float64\n",
      "B    datetime64[ns]\n",
      "C           float32\n",
      "D             int32\n",
      "E          category\n",
      "F            object\n",
      "dtype: object \n",
      " experiment \n",
      "\n",
      "[[1.8151210464478338 Timestamp('2013-01-02 00:00:00') 1.0 3 'test' 'foo']\n",
      " [0.9542423561506563 Timestamp('2013-01-02 00:00:00') 1.0 3 'train' 'foo']\n",
      " [-0.7795444004526694 Timestamp('2013-01-02 00:00:00') 1.0 3 'test' 'foo']\n",
      " [-0.03502917295871796 Timestamp('2013-01-02 00:00:00') 1.0 3 'train' 'foo']] \n",
      "\n",
      "Int64Index([0, 1, 2, 3], dtype='int64') \n",
      "\n",
      "Index(['A', 'B', 'C', 'D', 'E', 'F'], dtype='object') \n",
      "\n"
     ]
    },
    {
     "data": {
      "text/html": [
       "<div>\n",
       "<table border=\"1\" class=\"dataframe\">\n",
       "  <thead>\n",
       "    <tr style=\"text-align: right;\">\n",
       "      <th></th>\n",
       "      <th>A</th>\n",
       "      <th>C</th>\n",
       "      <th>D</th>\n",
       "    </tr>\n",
       "  </thead>\n",
       "  <tbody>\n",
       "    <tr>\n",
       "      <th>count</th>\n",
       "      <td>4.000000</td>\n",
       "      <td>4.0</td>\n",
       "      <td>4.0</td>\n",
       "    </tr>\n",
       "    <tr>\n",
       "      <th>mean</th>\n",
       "      <td>0.488697</td>\n",
       "      <td>1.0</td>\n",
       "      <td>3.0</td>\n",
       "    </tr>\n",
       "    <tr>\n",
       "      <th>std</th>\n",
       "      <td>1.134146</td>\n",
       "      <td>0.0</td>\n",
       "      <td>0.0</td>\n",
       "    </tr>\n",
       "    <tr>\n",
       "      <th>min</th>\n",
       "      <td>-0.779544</td>\n",
       "      <td>1.0</td>\n",
       "      <td>3.0</td>\n",
       "    </tr>\n",
       "    <tr>\n",
       "      <th>25%</th>\n",
       "      <td>-0.221158</td>\n",
       "      <td>1.0</td>\n",
       "      <td>3.0</td>\n",
       "    </tr>\n",
       "    <tr>\n",
       "      <th>50%</th>\n",
       "      <td>0.459607</td>\n",
       "      <td>1.0</td>\n",
       "      <td>3.0</td>\n",
       "    </tr>\n",
       "    <tr>\n",
       "      <th>75%</th>\n",
       "      <td>1.169462</td>\n",
       "      <td>1.0</td>\n",
       "      <td>3.0</td>\n",
       "    </tr>\n",
       "    <tr>\n",
       "      <th>max</th>\n",
       "      <td>1.815121</td>\n",
       "      <td>1.0</td>\n",
       "      <td>3.0</td>\n",
       "    </tr>\n",
       "  </tbody>\n",
       "</table>\n",
       "</div>"
      ],
      "text/plain": [
       "              A    C    D\n",
       "count  4.000000  4.0  4.0\n",
       "mean   0.488697  1.0  3.0\n",
       "std    1.134146  0.0  0.0\n",
       "min   -0.779544  1.0  3.0\n",
       "25%   -0.221158  1.0  3.0\n",
       "50%    0.459607  1.0  3.0\n",
       "75%    1.169462  1.0  3.0\n",
       "max    1.815121  1.0  3.0"
      ]
     },
     "execution_count": 37,
     "metadata": {},
     "output_type": "execute_result"
    }
   ],
   "source": [
    "df2 = pd.DataFrame({'A' : np.random.randn(4),\n",
    "                    'B' : pd.Timestamp('20130102'),\n",
    "                    'C' : pd.Series(1,index=list(range(4)),dtype='float32'),\n",
    "                    'D' : np.array([3] * 4,dtype='int32'),\n",
    "                    'E' : pd.Categorical([\"test\",\"train\",\"test\",\"train\"]),\n",
    "                    'F' : 'foo'})\n",
    "print(df2,'\\n')\n",
    "print(df2.dtypes,'\\n','experiment','\\n')\n",
    "print(df2.values,'\\n')\n",
    "print(df2.index,'\\n')\n",
    "print(df2.columns,'\\n')\n",
    "df2.describe()"
   ]
  },
  {
   "cell_type": "code",
   "execution_count": 38,
   "metadata": {},
   "outputs": [
    {
     "name": "stdout",
     "output_type": "stream",
     "text": [
      "                     0                    1                    2  \\\n",
      "A              1.81512             0.954242            -0.779544   \n",
      "B  2013-01-02 00:00:00  2013-01-02 00:00:00  2013-01-02 00:00:00   \n",
      "C                    1                    1                    1   \n",
      "D                    3                    3                    3   \n",
      "E                 test                train                 test   \n",
      "F                  foo                  foo                  foo   \n",
      "\n",
      "                     3  \n",
      "A           -0.0350292  \n",
      "B  2013-01-02 00:00:00  \n",
      "C                    1  \n",
      "D                    3  \n",
      "E                train  \n",
      "F                  foo  \n"
     ]
    }
   ],
   "source": [
    "print(df2.T)"
   ]
  },
  {
   "cell_type": "code",
   "execution_count": 42,
   "metadata": {},
   "outputs": [
    {
     "name": "stdout",
     "output_type": "stream",
     "text": [
      "     F      E  D    C          B         A\n",
      "0  foo   test  3  1.0 2013-01-02  1.815121\n",
      "1  foo  train  3  1.0 2013-01-02  0.954242\n",
      "2  foo   test  3  1.0 2013-01-02 -0.779544\n",
      "3  foo  train  3  1.0 2013-01-02 -0.035029\n"
     ]
    }
   ],
   "source": [
    "print(df2.sort_index(axis=1, ascending=False))"
   ]
  },
  {
   "cell_type": "code",
   "execution_count": 44,
   "metadata": {},
   "outputs": [
    {
     "name": "stdout",
     "output_type": "stream",
     "text": [
      "          A          B    C  D      E    F\n",
      "0  1.815121 2013-01-02  1.0  3   test  foo\n",
      "1  0.954242 2013-01-02  1.0  3  train  foo\n",
      "3 -0.035029 2013-01-02  1.0  3  train  foo\n",
      "2 -0.779544 2013-01-02  1.0  3   test  foo\n"
     ]
    }
   ],
   "source": [
    "print(df2.sort_values(by='A', ascending=False))"
   ]
  },
  {
   "cell_type": "code",
   "execution_count": null,
   "metadata": {
    "collapsed": true
   },
   "outputs": [],
   "source": []
  }
 ],
 "metadata": {
  "kernelspec": {
   "display_name": "Python 3",
   "language": "python",
   "name": "python3"
  },
  "language_info": {
   "codemirror_mode": {
    "name": "ipython",
    "version": 3
   },
   "file_extension": ".py",
   "mimetype": "text/x-python",
   "name": "python",
   "nbconvert_exporter": "python",
   "pygments_lexer": "ipython3",
   "version": "3.6.1"
  }
 },
 "nbformat": 4,
 "nbformat_minor": 2
}
