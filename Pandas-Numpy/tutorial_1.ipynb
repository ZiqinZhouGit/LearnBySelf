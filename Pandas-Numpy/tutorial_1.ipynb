{
 "cells": [
  {
   "cell_type": "code",
   "execution_count": 101,
   "metadata": {
    "collapsed": true
   },
   "outputs": [],
   "source": [
    "import numpy as np"
   ]
  },
  {
   "cell_type": "code",
   "execution_count": 102,
   "metadata": {},
   "outputs": [
    {
     "name": "stdout",
     "output_type": "stream",
     "text": [
      "[[ 1.  2.  3.]\n",
      " [ 2.  3.  4.]]\n"
     ]
    }
   ],
   "source": [
    "test_1 = np.array([[1,2,3], [2,3,4]], dtype=np.float)\n",
    "print(test_array)"
   ]
  },
  {
   "cell_type": "code",
   "execution_count": 103,
   "metadata": {},
   "outputs": [
    {
     "name": "stdout",
     "output_type": "stream",
     "text": [
      "<class 'numpy.ndarray'>\n",
      "dimension:  2\n",
      "shape:  (2, 3)\n",
      "size:  6\n"
     ]
    }
   ],
   "source": [
    "print(type(test_1))\n",
    "print('dimension: ', test_1.ndim)\n",
    "print('shape: ', test_1.shape)\n",
    "print('size: ', test_1.size)"
   ]
  },
  {
   "cell_type": "code",
   "execution_count": 104,
   "metadata": {},
   "outputs": [
    {
     "name": "stdout",
     "output_type": "stream",
     "text": [
      "float64\n"
     ]
    }
   ],
   "source": [
    "print(test_1.dtype)"
   ]
  },
  {
   "cell_type": "code",
   "execution_count": 105,
   "metadata": {},
   "outputs": [
    {
     "name": "stdout",
     "output_type": "stream",
     "text": [
      "(3, 4)\n",
      "[ 1.  1.  1.  1.]\n"
     ]
    }
   ],
   "source": [
    "test_2 = np.ones((3,4),dtype = np.float)\n",
    "print(test_2.shape)\n",
    "print(test_2[0])"
   ]
  },
  {
   "cell_type": "code",
   "execution_count": 106,
   "metadata": {},
   "outputs": [
    {
     "name": "stdout",
     "output_type": "stream",
     "text": [
      "[[10 11]\n",
      " [12 13]\n",
      " [14 15]\n",
      " [16 17]\n",
      " [18 19]]\n"
     ]
    }
   ],
   "source": [
    "test_3 = np.arange(10,20).reshape((5,2)) #第一个是row， 第二个是column\n",
    "print(test_3)"
   ]
  },
  {
   "cell_type": "code",
   "execution_count": 107,
   "metadata": {},
   "outputs": [
    {
     "name": "stdout",
     "output_type": "stream",
     "text": [
      "[ 10.   12.5  15.   17.5  20. ]\n"
     ]
    }
   ],
   "source": [
    "test_4 = np.linspace(10,20,5)\n",
    "print(test_4)"
   ]
  },
  {
   "cell_type": "code",
   "execution_count": 108,
   "metadata": {},
   "outputs": [
    {
     "name": "stdout",
     "output_type": "stream",
     "text": [
      "[0 1 2 3 4 5 6 7 8]\n",
      "[10 11 12 13 14 15 16 17 18]\n",
      "[10 12 14 16 18 20 22 24 26]\n",
      "[ True False False False False False False False False]\n",
      "[ 0.         -0.99999021 -0.90557836  0.96379539 -0.521551   -0.38778164\n",
      "  0.98358775 -0.3714041  -0.49102159]\n"
     ]
    }
   ],
   "source": [
    "test_a = np.arange(0,9)\n",
    "print(test_a)\n",
    "test_b = np.arange(10,19)\n",
    "print(test_b)\n",
    "print(test_a+test_b)\n",
    "test_c = test_a*test_b\n",
    "# test_c.dtype = float\n",
    "print(test_c<10)\n",
    "print(np.sin(test_c))"
   ]
  },
  {
   "cell_type": "code",
   "execution_count": 109,
   "metadata": {},
   "outputs": [
    {
     "name": "stdout",
     "output_type": "stream",
     "text": [
      "[[1 1]\n",
      " [0 1]\n",
      " [1 1]]\n",
      "\n",
      "[[0 1 2]\n",
      " [3 4 5]]\n",
      "\n",
      "[[3 5 7]\n",
      " [3 4 5]\n",
      " [3 5 7]]\n",
      "\n",
      "dot_4: \n",
      "[[ 2  3]\n",
      " [ 8 12]]\n",
      "\n",
      "sum:  25\n",
      "sum_col [10 15]\n",
      "sum_row [ 5 20]\n",
      "min:  2\n",
      "min_column:  [2 3]\n",
      "min_index:  0\n",
      "max_index:  3\n",
      "mean:  6.25\n",
      "median:  5.5\n",
      "cumsum:  [ 2  5 13 25]\n",
      "diff: \n",
      "[[1 1]\n",
      " [1 1]]\n",
      "(array([0, 0, 1, 2, 2]), array([0, 1, 1, 0, 1]))\n",
      "[[ 2  3]\n",
      " [ 8 12]]\n",
      "[[ 2  8]\n",
      " [ 3 12]]\n",
      "[[6 6]\n",
      " [7 7]]\n",
      "2\n"
     ]
    }
   ],
   "source": [
    "dot_1 = np.array([[1,1],[0,1],[1,1]])\n",
    "print(dot_1)\n",
    "print()\n",
    "dot_2 = np.arange(6).reshape((2,3))\n",
    "print(dot_2)\n",
    "print()\n",
    "dot_3 = np.dot(dot_1, dot_2)\n",
    "# dot_3 = dot_1.dot(dot_2)\n",
    "dot_4 = np.dot(dot_2, dot_1)\n",
    "print(dot_3)\n",
    "print()\n",
    "print('dot_4: ')\n",
    "print(dot_4)\n",
    "print(dot_4[0][0])\n",
    "print()\n",
    "print('sum: ',np.sum(dot_4))\n",
    "print('sum_col',np.sum(dot_4,axis = 0)) #每个column的和\n",
    "print('sum_row',np.sum(dot_4,axis = 1)) #每个row的和\n",
    "print('min: ',np.min(dot_4))\n",
    "print('min_column: ',np.min(dot_4, axis = 0))\n",
    "print('min_index: ',np.argmin(dot_4))\n",
    "print('max_index: ',np.argmax(dot_4))\n",
    "print('mean: ',np.mean(dot_4))\n",
    "# dot_4.mean()\n",
    "print('median: ',np.median(dot_4))\n",
    "print('cumsum: ', np.cumsum(dot_4))\n",
    "print('diff: ')\n",
    "print(np.diff(dot_2))\n",
    "print(np.nonzero(dot_1))\n",
    "print(np.sort(dot_4))\n",
    "print(np.transpose(dot_4))\n",
    "print(np.clip(dot_4,6,7)) # clip(Array,Array_min,Array_max)\n",
    "                          # num>Array_max, 取 max\n",
    "                          # num<Array_min, 取 min\n",
    "                          # 在中间 取原值"
   ]
  },
  {
   "cell_type": "code",
   "execution_count": null,
   "metadata": {
    "collapsed": true
   },
   "outputs": [],
   "source": []
  },
  {
   "cell_type": "code",
   "execution_count": null,
   "metadata": {
    "collapsed": true
   },
   "outputs": [],
   "source": []
  }
 ],
 "metadata": {
  "kernelspec": {
   "display_name": "Python 3",
   "language": "python",
   "name": "python3"
  },
  "language_info": {
   "codemirror_mode": {
    "name": "ipython",
    "version": 3
   },
   "file_extension": ".py",
   "mimetype": "text/x-python",
   "name": "python",
   "nbconvert_exporter": "python",
   "pygments_lexer": "ipython3",
   "version": "3.6.1"
  }
 },
 "nbformat": 4,
 "nbformat_minor": 2
}
